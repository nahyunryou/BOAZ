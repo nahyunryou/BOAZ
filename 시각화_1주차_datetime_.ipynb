{
  "nbformat": 4,
  "nbformat_minor": 0,
  "metadata": {
    "colab": {
      "name": "시각화 1주차 datetime .ipynb",
      "provenance": [],
      "toc_visible": true,
      "collapsed_sections": [
        "O-8wT-Qke36g",
        "u9PSkYoOqxlh",
        "gRHwakNrGrHH",
        "_VfIwVk5G2OE",
        "rtPaYlgtIZMb"
      ]
    },
    "kernelspec": {
      "name": "python3",
      "display_name": "Python 3"
    },
    "language_info": {
      "name": "python"
    },
    "accelerator": "GPU",
    "gpuClass": "standard"
  },
  "cells": [
    {
      "cell_type": "markdown",
      "metadata": {
        "id": "KScUMNbiypu2"
      },
      "source": [
        "혹시 파이썬 기초가 부족하신 분들 같은 경우에는 아래 링크를 참고하셔서 파이썬 공부를 우선적으로 해주시면 좋을 것 같습니다.  "
      ]
    },
    {
      "cell_type": "markdown",
      "metadata": {
        "id": "foKSSRLLyi2f"
      },
      "source": [
        "파이썬 기초 무료 동영상 : https://www.youtube.com/watch?v=8WuaFPyap2E&list=PL9mhQYIlKEhdP2Ci5GUcBuvo4z93Qpv5V  \n",
        "파이썬 기초 무료 교재 : https://wikidocs.net/book/1"
      ]
    },
    {
      "cell_type": "markdown",
      "metadata": {
        "id": "_iHmaMVna7NO"
      },
      "source": [
        "이번 세션에서는 가장 중요한 시간(time) 데이터를 다루는 다양한 방법을 배울 것입니다. 시간 데이터를 때로는 시계열 데이터라고도 부릅니다. \n",
        "\n",
        "시간 데이터를 능숙하게 다룰 수 있도록 파이썬 패키지인 **데이트타임(datetime), 넘파이(numpy), 판다스(pandas)**에서 시간을 어떻게 다루는지 살펴봅니다.  "
      ]
    },
    {
      "cell_type": "markdown",
      "metadata": {
        "id": "Uvr1MzveznoA"
      },
      "source": [
        "여기서 언급하고 있는 3개의 패키지는 데이터 분석에서 굉장히 중요한 패키지이기 때문에  \n",
        "여러분들이 패키지 이름, 패키지가 하는 역할에 대해서만큼은 꼭 암기를 해주시면 좋겠습니다.  "
      ]
    },
    {
      "cell_type": "markdown",
      "metadata": {
        "id": "UB0U4SblbQB9"
      },
      "source": [
        "#1. 날짜와 시간"
      ]
    },
    {
      "cell_type": "markdown",
      "metadata": {
        "id": "fHUPsIp4bUaV"
      },
      "source": [
        "파이썬에는 다양한 날짜(Date), 시간(Time) 라이브러리가 존재합니다.  \n",
        "그중에서 이번에 알아볼 내용은 datetime,  \n",
        "넘파이에서 지원하는 날짜와 시간,  \n",
        "넘파이 기반으로 만들어진 판다스의 날짜와 시간 관련 함수입니다.  \n",
        "\n",
        "특히 날짜와 시간 관련 함수는 시계열 데이터를 다루는 다양한 상황에서 사용됩니다. 스트링(String) 타입의 문자를 날짜 형태 포맷(format)으로 바꾸거나 시간 단위 변경, 시각화 등에 다양하게 응용할 수 있습니다."
      ]
    },
    {
      "cell_type": "markdown",
      "metadata": {
        "id": "afE1DRqRbi0J"
      },
      "source": [
        "##1.1.파이썬 패키지"
      ]
    },
    {
      "cell_type": "markdown",
      "metadata": {
        "id": "fB7v4lAsbm_W"
      },
      "source": [
        "파이썬 표준 패키지인 datetime에 대해서 알아봅시다.  \n",
        "datetime에는 time, date, datetime, timedelta 외에도 여러 기능이 있습니다."
      ]
    },
    {
      "cell_type": "markdown",
      "metadata": {
        "id": "5Us7y8n4bx_A"
      },
      "source": [
        "* time : 시간 기능만 제공합니다, 시, 분, 초, 마이크로초  \n",
        "ex) datetime.time(hour=4, minute=3, second=10, microsecond=1000)"
      ]
    },
    {
      "cell_type": "markdown",
      "metadata": {
        "id": "5X_G50jCb45H"
      },
      "source": [
        "* date : 날짜 기능만 제공합니다. 연, 월, 일  \n",
        "ex) datetime.date(year=2019, month=1, day=10)"
      ]
    },
    {
      "cell_type": "markdown",
      "metadata": {
        "id": "TqG3Y3FSb-Rq"
      },
      "source": [
        "* datetime : 날짜와 시간 기능을 제공합니다. - date + time  \n",
        "ex) datetime.datetime(year=2019, month=10, day=24, hour=4, minute=3, second=10, microsecond=1000)"
      ]
    },
    {
      "cell_type": "markdown",
      "metadata": {
        "id": "GvBM5mZjcHWT"
      },
      "source": [
        "* timedelta : datetime 인스턴스 간의 차이를 구함  \n",
        "datetime.datetime(year=2019, month=10, day=24, hour=4, minute=3, second=10, microsecond=1000)"
      ]
    },
    {
      "cell_type": "markdown",
      "metadata": {
        "id": "VfvYp5UMcSB4"
      },
      "source": [
        "실제 분석에서 날짜와 시간은 문자열 타입으로 주어지는 경우가 많습니다. 따라서 자유롭게 데이터 타입을 변환하는 방법을 익혀야 합니다. 다음 설명을 보면서 날짜 변환(conversion)에 대해서 알아봅시다. 먼저 str 타입의 문자를 datetime 형식으로 바꾸는 방법을 살펴봅시다."
      ]
    },
    {
      "cell_type": "code",
      "metadata": {
        "id": "fEvvnBfcbPO8"
      },
      "source": [
        "import datetime"
      ],
      "execution_count": 1,
      "outputs": []
    },
    {
      "cell_type": "code",
      "metadata": {
        "id": "_wN5Tf-wyGDf"
      },
      "source": [
        "datetime_str = '2018-05-13 12:34:56'"
      ],
      "execution_count": 2,
      "outputs": []
    },
    {
      "cell_type": "markdown",
      "metadata": {
        "id": "eZb4LlBqcts0"
      },
      "source": [
        "strptime() 함수에 datetime_str 변수와 형식을 매개변수로 전달합니다. 우리가 입력한 str 타입의 날짜와 날짜를 표현하는 형식을 strptime() 함수에 전달한 것입니다. 함수의 결과를 보니, str 타입의 문자가 datetime 타입으로 변환한 것을 알 수 있습니다."
      ]
    },
    {
      "cell_type": "code",
      "metadata": {
        "colab": {
          "base_uri": "https://localhost:8080/"
        },
        "id": "1PykhUaVyIGr",
        "outputId": "7edb0e74-2adc-403c-cad6-0fb320191c6c"
      },
      "source": [
        "format = '%Y-%m-%d %H:%M:%S' \n",
        "datetime_dt = datetime.datetime.strptime(datetime_str, format)\n",
        "print(datetime_dt)"
      ],
      "execution_count": 3,
      "outputs": [
        {
          "output_type": "stream",
          "name": "stdout",
          "text": [
            "2018-05-13 12:34:56\n"
          ]
        }
      ]
    },
    {
      "cell_type": "code",
      "metadata": {
        "colab": {
          "base_uri": "https://localhost:8080/"
        },
        "id": "eYlBXEoDyKuW",
        "outputId": "9f682b65-d6b4-4527-c86e-e18cc9fd174f"
      },
      "source": [
        "print(type(datetime_dt))"
      ],
      "execution_count": 4,
      "outputs": [
        {
          "output_type": "stream",
          "name": "stdout",
          "text": [
            "<class 'datetime.datetime'>\n"
          ]
        }
      ]
    },
    {
      "cell_type": "markdown",
      "metadata": {
        "id": "7Gzd5r0qc2bj"
      },
      "source": [
        "이번에는 반대로 datetime을 str타입의 문자로 변환할 수 있는지 확인해봅시다.  \n",
        "datetime_dt는 우리가 앞서 확인했듯이 현재 datetime 타입입니다."
      ]
    },
    {
      "cell_type": "code",
      "metadata": {
        "colab": {
          "base_uri": "https://localhost:8080/"
        },
        "id": "2TwVrIPbb9Z1",
        "outputId": "1f7a3366-d781-44ab-b7ba-63d6a433b480"
      },
      "source": [
        "datetime_str = datetime_dt.strftime('%Y-%m-%d %H:%M:%S')\n",
        "print(type(datetime_str)) # <class 'str'>\n",
        "print(datetime_str)       # 2018-05-13 12:34:56"
      ],
      "execution_count": 5,
      "outputs": [
        {
          "output_type": "stream",
          "name": "stdout",
          "text": [
            "<class 'str'>\n",
            "2018-05-13 12:34:56\n"
          ]
        }
      ]
    },
    {
      "cell_type": "markdown",
      "metadata": {
        "id": "TOuuEkgidM3v"
      },
      "source": [
        "위에서 strptime() 함수를 호출할 때 변환된 datetime_dt에서 strftime() 함수를 호출한 것을 알 수 있습니다. 함수 매개변수에는 변환하려는 날짜, 시간 형식을 전달한다. 결과를 보니, str 타입으로 변환된 것과 우리가 전달한 형식에 맞게 값이 나온 것을 확인할 수 있습니다.  \n",
        "\n",
        "또 다른 형식으로 변경하려면 다음과 같이 수정해서 전달하면 됩니다."
      ]
    },
    {
      "cell_type": "markdown",
      "metadata": {
        "id": "g5ZrWqJrzIba"
      },
      "source": [
        "이번에는 분, 초를 제외하고 시간까지만 출력을 해봅시다."
      ]
    },
    {
      "cell_type": "code",
      "metadata": {
        "colab": {
          "base_uri": "https://localhost:8080/"
        },
        "id": "i8Ybz35Jc66S",
        "outputId": "040e975d-e21d-4b60-9cf8-4d06e8713794"
      },
      "source": [
        "datetime_str = datetime_dt.strftime('%Y-%m-%d %H')\n",
        "\n",
        "print(type(datetime_str)) # <class 'str'>\n",
        "print(datetime_str)       # 2018-05-13 12"
      ],
      "execution_count": null,
      "outputs": [
        {
          "output_type": "stream",
          "name": "stdout",
          "text": [
            "<class 'str'>\n",
            "2018-05-13 12\n"
          ]
        }
      ]
    },
    {
      "cell_type": "markdown",
      "metadata": {
        "id": "YShwKMwgzLnF"
      },
      "source": [
        "시간까지만 출력이 된 것을 확인할 수 있습니다.  \n",
        "이번에는 년도와 달까지만 출력을 해보겠습니다."
      ]
    },
    {
      "cell_type": "code",
      "metadata": {
        "colab": {
          "base_uri": "https://localhost:8080/"
        },
        "id": "jX8xsZ2TdZgC",
        "outputId": "4fac6612-04ff-4529-b3da-db5ebe964a22"
      },
      "source": [
        "datetime_str = datetime_dt.strftime('%Y-%m')\n",
        "\n",
        "print(type(datetime_str)) # <class 'str'>\n",
        "print(datetime_str)       # 2018-05"
      ],
      "execution_count": null,
      "outputs": [
        {
          "output_type": "stream",
          "name": "stdout",
          "text": [
            "<class 'str'>\n",
            "2018-05\n"
          ]
        }
      ]
    },
    {
      "cell_type": "markdown",
      "metadata": {
        "id": "pJHBawg7ded5"
      },
      "source": [
        "정리하면 '%Y-%m-%d %H' 형식을 전달하면 연-월-일-시 형식으로 출력되고, '%Y-%m'을 전달하면 연-월만 출력됩니다.  "
      ]
    },
    {
      "cell_type": "markdown",
      "metadata": {
        "id": "hCpQM6MJzQi3"
      },
      "source": [
        "strptime() 함수와 strftime() 함수는 서로 반대되는 기능을 가지고 있습니다.  \n",
        "String을 datetime으로 변환할 때는 strptime() 함수를 사용하고, 그 반대의 경우에는 strftime() 함수를 사용합니다."
      ]
    },
    {
      "cell_type": "markdown",
      "metadata": {
        "id": "2Dwgr5Xddwgu"
      },
      "source": [
        "* strptime() : str 타입으로 된 날짜 데이터를 datetime 형태로 변환  \n",
        "* strftime() : datetime 형태의 데이터를 str 타입으로 변환"
      ]
    },
    {
      "cell_type": "markdown",
      "metadata": {
        "id": "6m-MrlCad3x_"
      },
      "source": [
        "주의해야 할 점은 우리가 형식을 정의할 때 지정한 형식이 대소문자를 구분하므로 형식을 맞추거나 정확한 날짜를 표현해야 합니다.  \n",
        "\n",
        "아래 링크로 이동하신 다음에 아래 링크에서 제공되는 자료의 **표 47-4**를 참고하세요. 암기하실 필요는 없고 필요할 때 찾아보시면 됩니다."
      ]
    },
    {
      "cell_type": "markdown",
      "metadata": {
        "id": "_V4LlwK3eWRx"
      },
      "source": [
        "참고자료 : https://dojang.io/mod/page/view.php?id=2463"
      ]
    },
    {
      "cell_type": "markdown",
      "metadata": {
        "id": "O-8wT-Qke36g"
      },
      "source": [
        "##1-2. Numpy"
      ]
    },
    {
      "cell_type": "markdown",
      "metadata": {
        "id": "I6MK9imfA74W"
      },
      "source": [
        "클래스와 객체 : https://wikidocs.net/28"
      ]
    },
    {
      "cell_type": "markdown",
      "metadata": {
        "id": "Ew2arzsCfNtE"
      },
      "source": [
        "넘파이에서는 날짜와 시간을 datetime64 객체로 표현합니다.  \n",
        "넘파이의 datetime64와 파이썬의 datetime.datetime과 차이점은 datetime에서는 시간을 마이크로초(10^-6) 단위까지 관리한다면,  \n",
        "넘파이의 datetime64는 아토초(10^-18) 단위까지 관리한다는 것입니다."
      ]
    },
    {
      "cell_type": "markdown",
      "metadata": {
        "id": "w1kdFo8Ifg7j"
      },
      "source": [
        "넘파이의 날짜와 시간을 이해해야 하는 가장 중용한 이유는 우리가 궁극적으로 사용할 판다스의 날짜와 시간 함수가 넘파이를 기반으로 만들어졌기 때문입니다.  \n",
        "그럼 넘파이의 날짜와 시간 사용 예제를 살펴봅시다.  "
      ]
    },
    {
      "cell_type": "markdown",
      "metadata": {
        "id": "GU1UQ0xPgA8N"
      },
      "source": [
        "Numpy 객체를 이용해 날짜를 생성하는 방식에는 두 가지 방식이 있습니다."
      ]
    },
    {
      "cell_type": "markdown",
      "metadata": {
        "id": "OBJwZ2QtoXNQ"
      },
      "source": [
        "첫번째는 아래와 같이 문자열 형식으로 전달해서 생성하는 방법입니다."
      ]
    },
    {
      "cell_type": "code",
      "metadata": {
        "colab": {
          "base_uri": "https://localhost:8080/"
        },
        "id": "74Vc5OuFgVPU",
        "outputId": "51dac858-eb4b-441c-bd67-f3a85167725e"
      },
      "source": [
        "#첫 번째 방법\n",
        "import numpy as np\n",
        "np.datetime64('2019-01-01')"
      ],
      "execution_count": 6,
      "outputs": [
        {
          "output_type": "execute_result",
          "data": {
            "text/plain": [
              "numpy.datetime64('2019-01-01')"
            ]
          },
          "metadata": {},
          "execution_count": 6
        }
      ]
    },
    {
      "cell_type": "markdown",
      "metadata": {
        "id": "Wc4rzUYcoabt"
      },
      "source": [
        "두번째는 아래와 같이 유닉스 시간을 이용한 방식입니다."
      ]
    },
    {
      "cell_type": "markdown",
      "metadata": {
        "id": "f-DE-M1hoec0"
      },
      "source": [
        "첫번째 입력 매개변수는 수치 데이터, 그리고 두번째 입력 매개변수는 단위를 의미합니다.  \n",
        "'ns'는 나노초 단위, 'D'는 일 단위, 's'는 초 단위를 의미합니다.  \n",
        "출력 결과는 단위에 따라서 각기 다른 종류의 날짜가 만들어집니다."
      ]
    },
    {
      "cell_type": "code",
      "metadata": {
        "colab": {
          "base_uri": "https://localhost:8080/"
        },
        "id": "TGZ3_ES2e5c5",
        "outputId": "348ef879-7913-4e5a-ed48-616c3cd3bc49"
      },
      "source": [
        "#두 번째 방법\n",
        "import numpy as np\n",
        "np.datetime64(1000,'ns')"
      ],
      "execution_count": 7,
      "outputs": [
        {
          "output_type": "execute_result",
          "data": {
            "text/plain": [
              "numpy.datetime64('1970-01-01T00:00:00.000001000')"
            ]
          },
          "metadata": {},
          "execution_count": 7
        }
      ]
    },
    {
      "cell_type": "code",
      "metadata": {
        "colab": {
          "base_uri": "https://localhost:8080/"
        },
        "id": "XsahLxFQgF7a",
        "outputId": "db9f0702-e685-487c-89e5-d5df18b89cb7"
      },
      "source": [
        "np.datetime64(10000000000,'ns')"
      ],
      "execution_count": 8,
      "outputs": [
        {
          "output_type": "execute_result",
          "data": {
            "text/plain": [
              "numpy.datetime64('1970-01-01T00:00:10.000000000')"
            ]
          },
          "metadata": {},
          "execution_count": 8
        }
      ]
    },
    {
      "cell_type": "code",
      "metadata": {
        "colab": {
          "base_uri": "https://localhost:8080/"
        },
        "id": "XTeH6c2pgNRZ",
        "outputId": "f37e2ad9-52ca-449d-edf5-aff187279c16"
      },
      "source": [
        "np.datetime64(1000000000,'s')"
      ],
      "execution_count": 9,
      "outputs": [
        {
          "output_type": "execute_result",
          "data": {
            "text/plain": [
              "numpy.datetime64('2001-09-09T01:46:40')"
            ]
          },
          "metadata": {},
          "execution_count": 9
        }
      ]
    },
    {
      "cell_type": "code",
      "source": [
        "np.datetime64(10,'s')"
      ],
      "metadata": {
        "colab": {
          "base_uri": "https://localhost:8080/"
        },
        "id": "CsTx6sNnuKIJ",
        "outputId": "9150c436-4662-4a35-fd2a-0a8ba9239da9"
      },
      "execution_count": 10,
      "outputs": [
        {
          "output_type": "execute_result",
          "data": {
            "text/plain": [
              "numpy.datetime64('1970-01-01T00:00:10')"
            ]
          },
          "metadata": {},
          "execution_count": 10
        }
      ]
    },
    {
      "cell_type": "code",
      "metadata": {
        "colab": {
          "base_uri": "https://localhost:8080/"
        },
        "id": "G5MS4vW9gOmB",
        "outputId": "63473b0d-591d-4526-9e04-c90438e35525"
      },
      "source": [
        "np.datetime64(10000,'D')"
      ],
      "execution_count": null,
      "outputs": [
        {
          "output_type": "execute_result",
          "data": {
            "text/plain": [
              "numpy.datetime64('1997-05-19')"
            ]
          },
          "metadata": {},
          "execution_count": 12
        }
      ]
    },
    {
      "cell_type": "code",
      "source": [
        "np.datetime64(10,'D')"
      ],
      "metadata": {
        "colab": {
          "base_uri": "https://localhost:8080/"
        },
        "id": "EW5y8GWDuPRZ",
        "outputId": "4c69345a-33c2-419d-d790-3b8d6b85ad60"
      },
      "execution_count": 11,
      "outputs": [
        {
          "output_type": "execute_result",
          "data": {
            "text/plain": [
              "numpy.datetime64('1970-01-11')"
            ]
          },
          "metadata": {},
          "execution_count": 11
        }
      ]
    },
    {
      "cell_type": "markdown",
      "metadata": {
        "id": "6Ji5PjIiorzw"
      },
      "source": [
        "Numpy의 array() 함수를 사용해서도 날짜를 생성할 수 있습니다."
      ]
    },
    {
      "cell_type": "markdown",
      "metadata": {
        "id": "BPvS2KXSo1xo"
      },
      "source": [
        "np.array() 함수에 str 타입의 날짜 리스트를 전달하고, dtype(데이터 타입)을 'datetime64'로 설정했습니다."
      ]
    },
    {
      "cell_type": "code",
      "metadata": {
        "colab": {
          "base_uri": "https://localhost:8080/"
        },
        "id": "ozpUx1gKgPwo",
        "outputId": "d60f11cd-b842-4574-f200-c8a717dad953"
      },
      "source": [
        "np.array(['2007-07-13', '2006-01-13', '2010-08-13'], dtype='datetime64')"
      ],
      "execution_count": 12,
      "outputs": [
        {
          "output_type": "execute_result",
          "data": {
            "text/plain": [
              "array(['2007-07-13', '2006-01-13', '2010-08-13'], dtype='datetime64[D]')"
            ]
          },
          "metadata": {},
          "execution_count": 12
        }
      ]
    },
    {
      "cell_type": "markdown",
      "metadata": {
        "id": "Y7n0A63fo9-w"
      },
      "source": [
        "이때 dtype에서 datetime64를 적어주실 때, [ ]안에 어떤 값을 넣느냐에 따라서 날짜 단위를 지정할 수도 있습니다."
      ]
    },
    {
      "cell_type": "code",
      "metadata": {
        "colab": {
          "base_uri": "https://localhost:8080/"
        },
        "id": "7DEdyIccJFKg",
        "outputId": "3478d192-263e-4196-fab2-ec30c9bb315c"
      },
      "source": [
        "# 달단위\n",
        "np.array(['2007-07-13', '2006-01-13', '2010-08-13'], dtype='datetime64[M]')"
      ],
      "execution_count": 13,
      "outputs": [
        {
          "output_type": "execute_result",
          "data": {
            "text/plain": [
              "array(['2007-07', '2006-01', '2010-08'], dtype='datetime64[M]')"
            ]
          },
          "metadata": {},
          "execution_count": 13
        }
      ]
    },
    {
      "cell_type": "markdown",
      "metadata": {
        "id": "UVLP6Ao4JLz5"
      },
      "source": [
        "arange() 함수를 사용해서 범위를 줄 수도 있습니다."
      ]
    },
    {
      "cell_type": "code",
      "metadata": {
        "colab": {
          "base_uri": "https://localhost:8080/"
        },
        "id": "x81phFGTo0Yj",
        "outputId": "18512809-cf2b-4a13-f4e2-d908b07869aa"
      },
      "source": [
        "# 달단위\n",
        "np.arange('2005-02', '2006-03', dtype='datetime64[M]')"
      ],
      "execution_count": null,
      "outputs": [
        {
          "output_type": "execute_result",
          "data": {
            "text/plain": [
              "array(['2005-02', '2005-03', '2005-04', '2005-05', '2005-06', '2005-07',\n",
              "       '2005-08', '2005-09', '2005-10', '2005-11', '2005-12', '2006-01',\n",
              "       '2006-02'], dtype='datetime64[M]')"
            ]
          },
          "metadata": {},
          "execution_count": 15
        }
      ]
    },
    {
      "cell_type": "code",
      "metadata": {
        "colab": {
          "base_uri": "https://localhost:8080/"
        },
        "id": "uYXfq_1lqPjL",
        "outputId": "126d9d3c-4798-4d1c-9d38-e6c3dc0ae67a"
      },
      "source": [
        "# 주단위\n",
        "np.arange('2005-02', '2006-03', dtype='datetime64[W]')"
      ],
      "execution_count": null,
      "outputs": [
        {
          "output_type": "execute_result",
          "data": {
            "text/plain": [
              "array(['2005-01-27', '2005-02-03', '2005-02-10', '2005-02-17',\n",
              "       '2005-02-24', '2005-03-03', '2005-03-10', '2005-03-17',\n",
              "       '2005-03-24', '2005-03-31', '2005-04-07', '2005-04-14',\n",
              "       '2005-04-21', '2005-04-28', '2005-05-05', '2005-05-12',\n",
              "       '2005-05-19', '2005-05-26', '2005-06-02', '2005-06-09',\n",
              "       '2005-06-16', '2005-06-23', '2005-06-30', '2005-07-07',\n",
              "       '2005-07-14', '2005-07-21', '2005-07-28', '2005-08-04',\n",
              "       '2005-08-11', '2005-08-18', '2005-08-25', '2005-09-01',\n",
              "       '2005-09-08', '2005-09-15', '2005-09-22', '2005-09-29',\n",
              "       '2005-10-06', '2005-10-13', '2005-10-20', '2005-10-27',\n",
              "       '2005-11-03', '2005-11-10', '2005-11-17', '2005-11-24',\n",
              "       '2005-12-01', '2005-12-08', '2005-12-15', '2005-12-22',\n",
              "       '2005-12-29', '2006-01-05', '2006-01-12', '2006-01-19',\n",
              "       '2006-01-26', '2006-02-02', '2006-02-09', '2006-02-16'],\n",
              "      dtype='datetime64[W]')"
            ]
          },
          "metadata": {},
          "execution_count": 16
        }
      ]
    },
    {
      "cell_type": "code",
      "metadata": {
        "colab": {
          "base_uri": "https://localhost:8080/"
        },
        "id": "GMkEENKWpLsQ",
        "outputId": "c4e5eea2-13d3-4f04-fc44-077a467d6e28"
      },
      "source": [
        "# 일단위\n",
        "np.arange('2005-02', '2005-03', dtype='datetime64[D]')"
      ],
      "execution_count": null,
      "outputs": [
        {
          "output_type": "execute_result",
          "data": {
            "text/plain": [
              "array(['2005-02-01', '2005-02-02', '2005-02-03', '2005-02-04',\n",
              "       '2005-02-05', '2005-02-06', '2005-02-07', '2005-02-08',\n",
              "       '2005-02-09', '2005-02-10', '2005-02-11', '2005-02-12',\n",
              "       '2005-02-13', '2005-02-14', '2005-02-15', '2005-02-16',\n",
              "       '2005-02-17', '2005-02-18', '2005-02-19', '2005-02-20',\n",
              "       '2005-02-21', '2005-02-22', '2005-02-23', '2005-02-24',\n",
              "       '2005-02-25', '2005-02-26', '2005-02-27', '2005-02-28'],\n",
              "      dtype='datetime64[D]')"
            ]
          },
          "metadata": {},
          "execution_count": 17
        }
      ]
    },
    {
      "cell_type": "code",
      "metadata": {
        "colab": {
          "base_uri": "https://localhost:8080/"
        },
        "id": "pk0ktFgmqGqW",
        "outputId": "1ba87179-2f57-42fb-8639-54512f95ba0a"
      },
      "source": [
        "# 시간단위\n",
        "np.arange('2005-02-01', '2005-02-02', dtype='datetime64[h]')"
      ],
      "execution_count": null,
      "outputs": [
        {
          "output_type": "execute_result",
          "data": {
            "text/plain": [
              "array(['2005-02-01T00', '2005-02-01T01', '2005-02-01T02', '2005-02-01T03',\n",
              "       '2005-02-01T04', '2005-02-01T05', '2005-02-01T06', '2005-02-01T07',\n",
              "       '2005-02-01T08', '2005-02-01T09', '2005-02-01T10', '2005-02-01T11',\n",
              "       '2005-02-01T12', '2005-02-01T13', '2005-02-01T14', '2005-02-01T15',\n",
              "       '2005-02-01T16', '2005-02-01T17', '2005-02-01T18', '2005-02-01T19',\n",
              "       '2005-02-01T20', '2005-02-01T21', '2005-02-01T22', '2005-02-01T23'],\n",
              "      dtype='datetime64[h]')"
            ]
          },
          "metadata": {},
          "execution_count": 18
        }
      ]
    },
    {
      "cell_type": "markdown",
      "metadata": {
        "id": "fEVI0JlzpinW"
      },
      "source": [
        "각각 날짜를 생성할 때 어떤 단위를 전달하는지에 따라서 생성되는 범위가 달라집니다.  \n",
        "두 날짜의 간격을 구할 때는 단순하게 빼주면 됩니다.  \n",
        "직관적인 날짜 간격을 구하기 쉽습니다. 날짜 간격을 구해봅시다."
      ]
    },
    {
      "cell_type": "code",
      "metadata": {
        "colab": {
          "base_uri": "https://localhost:8080/"
        },
        "id": "51-Cb4capG_7",
        "outputId": "f47b1ead-4a3c-40fc-80b1-f7468e8beb24"
      },
      "source": [
        "np.datetime64('2009-01-01') - np.datetime64('2008-01')"
      ],
      "execution_count": null,
      "outputs": [
        {
          "output_type": "execute_result",
          "data": {
            "text/plain": [
              "numpy.timedelta64(366,'D')"
            ]
          },
          "metadata": {},
          "execution_count": 19
        }
      ]
    },
    {
      "cell_type": "code",
      "metadata": {
        "colab": {
          "base_uri": "https://localhost:8080/"
        },
        "id": "y2u9SwN_prc7",
        "outputId": "b8997f52-f2c1-4b65-f094-025650361ca9"
      },
      "source": [
        "np.datetime64('2009-01-01') - np.datetime64('2008-01-01')"
      ],
      "execution_count": null,
      "outputs": [
        {
          "output_type": "execute_result",
          "data": {
            "text/plain": [
              "numpy.timedelta64(366,'D')"
            ]
          },
          "metadata": {},
          "execution_count": 20
        }
      ]
    },
    {
      "cell_type": "code",
      "metadata": {
        "colab": {
          "base_uri": "https://localhost:8080/"
        },
        "id": "TBbbli3jpsja",
        "outputId": "7be689f9-9e97-4ac2-966c-8dd903a9658e"
      },
      "source": [
        "np.datetime64('2009') - np.datetime64('2008-01')"
      ],
      "execution_count": null,
      "outputs": [
        {
          "output_type": "execute_result",
          "data": {
            "text/plain": [
              "numpy.timedelta64(12,'M')"
            ]
          },
          "metadata": {},
          "execution_count": 21
        }
      ]
    },
    {
      "cell_type": "markdown",
      "metadata": {
        "id": "16MJcgj-p2VF"
      },
      "source": [
        "두 날짜 간 간격이 일 단위 간격인지, 월 단위 간격인지를 확인합니다.  \n",
        "결과를 확인해보니, **날짜 간격을 구할 때 두 날짜 중 작은 단위 날짜로 맞춘다는 것을 확인할 수 있습니다.**"
      ]
    },
    {
      "cell_type": "markdown",
      "metadata": {
        "id": "aVaOXMYgqYUh"
      },
      "source": [
        "앞에서 사용했던 단위 코드를 추가적으로 확인한다면 다음과 같습니다.  \n",
        "\n",
        "Y : 연  \n",
        "M : 월  \n",
        "W : 주  \n",
        "D : 일  \n",
        "h : 시간  \n",
        "m : 분  \n",
        "s : 초  \n",
        "ms : 밀리초  \n",
        "us : 마이크로초  \n",
        "ns : 나노초  \n",
        "ps : 피코초  \n",
        "fs : 펨토초"
      ]
    },
    {
      "cell_type": "markdown",
      "metadata": {
        "id": "Ot__VbMOql-s"
      },
      "source": [
        "표에서 살펴본 단위 코드는 날짜 형식을 다룰 때 적용되는 단위입니다. 월(M)과 분(m)은 대소문자를 구분하므로 주의해 사용합시다. 이외에 넘파이에서 제공하는 세부적인 기능도 많지만, 여기서는 이 정도만 알아보고 판다스로 넘어가도록 하겠습니다."
      ]
    },
    {
      "cell_type": "markdown",
      "metadata": {
        "id": "u9PSkYoOqxlh"
      },
      "source": [
        "##1-3. Pandas"
      ]
    },
    {
      "cell_type": "markdown",
      "metadata": {
        "id": "rmjG5uAWq18t"
      },
      "source": [
        "판다스는 테이블 데이터 및 시계열 데이터 구조를 조작하는 탁월한 기능을 제공하는 라이브러리입니다. 판다스는 내부적으로 넘파이를 포함하고 있어 날짜와 시간 관련 기능도 datetime64를 바탕으로 이루어지고 있습니다. 판다스만 잘 활용해도 짧은 코드로 강력한 기능을 구사할 수 있습니다.  \n",
        "\n",
        "대표적인 기능으로 날짜 범위 생성, 날짜 변환, 날짜 이동 등이 있습니다.  \n",
        "또한 DataFrame 객체의 인덱싱 기능은 데이터 필터링, 인덱싱, 피벗팅, 정렬, 슬라이싱 등 다양하게 활용이 가능합니다.  \n",
        "\n",
        "오늘 수업에서는 먼저 판다스의 날짜와 시간 관련 기능만 살펴보겠습니다."
      ]
    },
    {
      "cell_type": "markdown",
      "metadata": {
        "id": "gRHwakNrGrHH"
      },
      "source": [
        "###Timestamp와 DatetimeIndex"
      ]
    },
    {
      "cell_type": "markdown",
      "metadata": {
        "id": "wj_Jshr9G_a8"
      },
      "source": [
        "* pd.Timestamp()  \n",
        "* pd.to_datetime()  \n",
        "* pd.date_range()"
      ]
    },
    {
      "cell_type": "markdown",
      "metadata": {
        "id": "ZUQi8XzBrPf4"
      },
      "source": [
        "판다스에서 하나의 날짜만 사용할 때는  \n",
        "Timestamp로 표현하고 두 개 이상의 배열을 이룰 때는 DatetimeIndex로 표현합니다.  \n",
        "\n",
        "어떤 의미인지 실습을 통해 이해해봅시다."
      ]
    },
    {
      "cell_type": "code",
      "metadata": {
        "id": "3hXGDRRrrm4Z"
      },
      "source": [
        "import pandas as pd"
      ],
      "execution_count": 14,
      "outputs": []
    },
    {
      "cell_type": "markdown",
      "metadata": {
        "id": "ARx5_tvwsIk0"
      },
      "source": [
        "판다스의 Timestamp 함수를 사용하여 특정 날짜를 표현할 수 있습니다."
      ]
    },
    {
      "cell_type": "code",
      "metadata": {
        "colab": {
          "base_uri": "https://localhost:8080/"
        },
        "id": "Yc_33QcLro3V",
        "outputId": "8aae30c7-4952-4645-dbf0-f897815becc0"
      },
      "source": [
        "pd.Timestamp(1239.1238934) # 디폴트로는 나노초로 되어져 있습니다."
      ],
      "execution_count": 15,
      "outputs": [
        {
          "output_type": "execute_result",
          "data": {
            "text/plain": [
              "Timestamp('1970-01-01 00:00:00.000001239')"
            ]
          },
          "metadata": {},
          "execution_count": 15
        }
      ]
    },
    {
      "cell_type": "code",
      "metadata": {
        "colab": {
          "base_uri": "https://localhost:8080/"
        },
        "id": "B86ORbETrsFZ",
        "outputId": "532c55c1-8820-4661-e4f9-069e3e42fa4b"
      },
      "source": [
        "pd.Timestamp(1239.1238934, unit='D') # 단위를 '일'로 바꿔서 실행해봅시다."
      ],
      "execution_count": 16,
      "outputs": [
        {
          "output_type": "execute_result",
          "data": {
            "text/plain": [
              "Timestamp('1973-05-24 02:58:24.389760')"
            ]
          },
          "metadata": {},
          "execution_count": 16
        }
      ]
    },
    {
      "cell_type": "code",
      "source": [
        "pd.Timestamp(1, unit='D')"
      ],
      "metadata": {
        "colab": {
          "base_uri": "https://localhost:8080/"
        },
        "id": "ETFWxBRC1Qza",
        "outputId": "21388b52-272f-4146-df22-f1eee643de67"
      },
      "execution_count": 18,
      "outputs": [
        {
          "output_type": "execute_result",
          "data": {
            "text/plain": [
              "Timestamp('1970-01-02 00:00:00')"
            ]
          },
          "metadata": {},
          "execution_count": 18
        }
      ]
    },
    {
      "cell_type": "code",
      "metadata": {
        "colab": {
          "base_uri": "https://localhost:8080/"
        },
        "id": "lmRDuG1xrymp",
        "outputId": "3dca6a3a-65d9-409c-c937-b53fd83decde"
      },
      "source": [
        "pd.Timestamp('2019-1-1')"
      ],
      "execution_count": 17,
      "outputs": [
        {
          "output_type": "execute_result",
          "data": {
            "text/plain": [
              "Timestamp('2019-01-01 00:00:00')"
            ]
          },
          "metadata": {},
          "execution_count": 17
        }
      ]
    },
    {
      "cell_type": "markdown",
      "metadata": {
        "id": "VZ2gqsdOsege"
      },
      "source": [
        "Timestamp() 함수는 특정 시점을 나타내는 날짜와 시간을 표현합니다. 판다스에서도 Timestamp 함수에 수치 데이터를 전달하고 unit(단위) 값을 매개변수로 넘기면 넘파이에서 살펴본 유닉스 시간을 이용한 방식임을 알 수 있습니다. UTC 시간 '1970년 1월 1일 00:00:00'부터 현재까지 경과 시간을 초 단위로 환산해 나타낸 방식입니다.\n"
      ]
    },
    {
      "cell_type": "markdown",
      "metadata": {
        "id": "yzeFxE-rspUw"
      },
      "source": [
        "to_datetime() 함수로도 특정 시점 날짜와 시간을 생성할 수 있습니다. 한 개의 날짜만 생성하는 경우, 호출하는 함수는 다르지만 내부적으로 넘파이에서 datetime64를 통해 날짜를 만드는 것과 같습니다. 판다스 내부적으로 넘파이가 동작한다는 내용을 이런 출력 결과로 확인할 수 있습니다."
      ]
    },
    {
      "cell_type": "code",
      "metadata": {
        "colab": {
          "base_uri": "https://localhost:8080/"
        },
        "id": "5Y0I55Kjrz_C",
        "outputId": "5c0b3b57-7d46-4811-afca-5f88c3c7d68e"
      },
      "source": [
        "pd.to_datetime('2019-1-1 12')"
      ],
      "execution_count": null,
      "outputs": [
        {
          "output_type": "execute_result",
          "data": {
            "text/plain": [
              "Timestamp('2019-01-01 12:00:00')"
            ]
          },
          "metadata": {},
          "execution_count": 26
        }
      ]
    },
    {
      "cell_type": "markdown",
      "metadata": {
        "id": "WbwZgTk4sPfN"
      },
      "source": [
        "하지만 to_datetime()에 날짜들의 리스트를 넣을 경우 범위. 즉, DatetimeIndex를 표현하게 됩니다. DatetimeIndex라는 클래스로 배열이 생기고 데이터 타입이 datetime64[ns]로 표현되는 것을 확인할 수 있습니다."
      ]
    },
    {
      "cell_type": "code",
      "metadata": {
        "colab": {
          "base_uri": "https://localhost:8080/"
        },
        "id": "I0auXIBmr62D",
        "outputId": "adaf8c1e-1d41-412a-bb08-f496728e077a"
      },
      "source": [
        "pd.to_datetime(['2018-1-1', '2019-1-2'])"
      ],
      "execution_count": null,
      "outputs": [
        {
          "output_type": "execute_result",
          "data": {
            "text/plain": [
              "DatetimeIndex(['2018-01-01', '2019-01-02'], dtype='datetime64[ns]', freq=None)"
            ]
          },
          "metadata": {},
          "execution_count": 27
        }
      ]
    },
    {
      "cell_type": "markdown",
      "metadata": {
        "id": "B8pRHYGZs79v"
      },
      "source": [
        "마지막으로, date_range() 함수는 특정 기간의 날짜를 자동 생성합니다. '2019-01'과 '2019-02'를 전달하면 출력 결과는 2월 말까지 데이터를 생성하는 것이 아니라 2월 1일자 데이터만 생성합니다. 간단하게 생각하면, 둘째 인자로 전달한 값의 월은 고려하지 않는다는 것입니다. 추후 데이터를 생성하거나 가공할 때 주의가 필요한 대목입니다."
      ]
    },
    {
      "cell_type": "code",
      "metadata": {
        "colab": {
          "base_uri": "https://localhost:8080/"
        },
        "id": "f8KRdlxfsAKK",
        "outputId": "4215f967-ab75-42ef-abbf-995ed2fb1f6c"
      },
      "source": [
        "pd.date_range('2019-01','2019-02')"
      ],
      "execution_count": null,
      "outputs": [
        {
          "output_type": "execute_result",
          "data": {
            "text/plain": [
              "DatetimeIndex(['2019-01-01', '2019-01-02', '2019-01-03', '2019-01-04',\n",
              "               '2019-01-05', '2019-01-06', '2019-01-07', '2019-01-08',\n",
              "               '2019-01-09', '2019-01-10', '2019-01-11', '2019-01-12',\n",
              "               '2019-01-13', '2019-01-14', '2019-01-15', '2019-01-16',\n",
              "               '2019-01-17', '2019-01-18', '2019-01-19', '2019-01-20',\n",
              "               '2019-01-21', '2019-01-22', '2019-01-23', '2019-01-24',\n",
              "               '2019-01-25', '2019-01-26', '2019-01-27', '2019-01-28',\n",
              "               '2019-01-29', '2019-01-30', '2019-01-31', '2019-02-01'],\n",
              "              dtype='datetime64[ns]', freq='D')"
            ]
          },
          "metadata": {},
          "execution_count": 28
        }
      ]
    },
    {
      "cell_type": "markdown",
      "metadata": {
        "id": "_VfIwVk5G2OE"
      },
      "source": [
        "###Period와 PeriodIndex"
      ]
    },
    {
      "cell_type": "markdown",
      "metadata": {
        "id": "uy5l_KWyHHIQ"
      },
      "source": [
        "* pd.Period()  \n",
        "* pd.period_range()"
      ]
    },
    {
      "cell_type": "markdown",
      "metadata": {
        "id": "ddXzRZ0bGZ5N"
      },
      "source": [
        "이번에는 또 다른 개념인 Period와 PeriodIndex에 대해서 이해해봅시다. 이를 생성하는 방법은 Period 함수와 period_range 함수가 있습니다."
      ]
    },
    {
      "cell_type": "code",
      "metadata": {
        "colab": {
          "base_uri": "https://localhost:8080/"
        },
        "id": "rg-aJJPVsBYi",
        "outputId": "032ca22b-8dde-48e5-9e53-fff736180249"
      },
      "source": [
        "pd.Period('2019-01')"
      ],
      "execution_count": null,
      "outputs": [
        {
          "output_type": "execute_result",
          "data": {
            "text/plain": [
              "Period('2019-01', 'M')"
            ]
          },
          "metadata": {},
          "execution_count": 29
        }
      ]
    },
    {
      "cell_type": "markdown",
      "metadata": {
        "id": "IKpGppHXG6dP"
      },
      "source": [
        "이번에 배우는 Period와 PeriodIndex는 특정 시점이 아니라 기간을 포괄하는 개념입니다. 그래서 freq 인자를 사용할 수 있습니다.  \n",
        "\n",
        "pd.Period()를 사용해 '2019-01'을 넣을 때 출력값이 기본적으로는 월 단위(freq='M')으로 인식됩니다. 하지만 매개변수 freq를 일간. 즉, daily를 뜻하는 'D'로 설정하면 일 단위로 자동 생성되고 '2019-01'과는 달리 '2019-05-01'처럼 1일자까지 붙는 것을 확인할 수 있습니다.  "
      ]
    },
    {
      "cell_type": "code",
      "metadata": {
        "colab": {
          "base_uri": "https://localhost:8080/"
        },
        "id": "m9nN9PWIGjKN",
        "outputId": "4d5239f6-0efd-4f3b-9207-0c0ef3337f7e"
      },
      "source": [
        "pd.Period('2019-05', freq='D')"
      ],
      "execution_count": null,
      "outputs": [
        {
          "output_type": "execute_result",
          "data": {
            "text/plain": [
              "Period('2019-05-01', 'D')"
            ]
          },
          "metadata": {},
          "execution_count": 30
        }
      ]
    },
    {
      "cell_type": "markdown",
      "metadata": {
        "id": "ng0FCzs_Hvep"
      },
      "source": [
        "그리고 str 타입의 두 개 이상 날짜 데이터를 전달하면 PeriodIndex 클래스로 묶입니다."
      ]
    },
    {
      "cell_type": "code",
      "metadata": {
        "colab": {
          "base_uri": "https://localhost:8080/"
        },
        "id": "Rr1KLDKMGke8",
        "outputId": "60c4bb26-7895-4312-e06f-c153c1b292c3"
      },
      "source": [
        "pd.period_range('2019-01','2019-02',freq='D')"
      ],
      "execution_count": null,
      "outputs": [
        {
          "output_type": "execute_result",
          "data": {
            "text/plain": [
              "PeriodIndex(['2019-01-01', '2019-01-02', '2019-01-03', '2019-01-04',\n",
              "             '2019-01-05', '2019-01-06', '2019-01-07', '2019-01-08',\n",
              "             '2019-01-09', '2019-01-10', '2019-01-11', '2019-01-12',\n",
              "             '2019-01-13', '2019-01-14', '2019-01-15', '2019-01-16',\n",
              "             '2019-01-17', '2019-01-18', '2019-01-19', '2019-01-20',\n",
              "             '2019-01-21', '2019-01-22', '2019-01-23', '2019-01-24',\n",
              "             '2019-01-25', '2019-01-26', '2019-01-27', '2019-01-28',\n",
              "             '2019-01-29', '2019-01-30', '2019-01-31', '2019-02-01'],\n",
              "            dtype='period[D]')"
            ]
          },
          "metadata": {},
          "execution_count": 31
        }
      ]
    },
    {
      "cell_type": "markdown",
      "metadata": {
        "id": "rtPaYlgtIZMb"
      },
      "source": [
        "###Timestamp Vs. Period"
      ]
    },
    {
      "cell_type": "markdown",
      "metadata": {
        "id": "yRosQengH1Dt"
      },
      "source": [
        "pd.Period()와 앞서 배운 pd.Timestamp()에 어떤 차이가 있는지 한번 비교 연산을 통해서 이해해보겠습니다."
      ]
    },
    {
      "cell_type": "code",
      "metadata": {
        "colab": {
          "base_uri": "https://localhost:8080/"
        },
        "id": "bUjHnzbsGlms",
        "outputId": "10463eee-2b99-4025-81fa-cc237c3c819b"
      },
      "source": [
        "p = pd.Period('2019-06-13')\n",
        "test = pd.Timestamp('2019-06-13 22:11')\n",
        "p.start_time < test < p.end_time"
      ],
      "execution_count": 19,
      "outputs": [
        {
          "output_type": "execute_result",
          "data": {
            "text/plain": [
              "True"
            ]
          },
          "metadata": {},
          "execution_count": 19
        }
      ]
    },
    {
      "cell_type": "markdown",
      "metadata": {
        "id": "36SNnFCfIH0-"
      },
      "source": [
        "Timestamp는 한 시점을 뜻하고,  \n",
        "Period는 1일의 시작 시점부터 종료 시점까지의 범위를 포괄합니다."
      ]
    },
    {
      "cell_type": "code",
      "metadata": {
        "colab": {
          "base_uri": "https://localhost:8080/"
        },
        "id": "RCYq8l1gIP16",
        "outputId": "d3fb0b26-0b0a-4ce4-e838-6c96a3b9188a"
      },
      "source": [
        "p.start_time"
      ],
      "execution_count": null,
      "outputs": [
        {
          "output_type": "execute_result",
          "data": {
            "text/plain": [
              "Timestamp('2019-06-13 00:00:00')"
            ]
          },
          "metadata": {},
          "execution_count": 33
        }
      ]
    },
    {
      "cell_type": "code",
      "metadata": {
        "colab": {
          "base_uri": "https://localhost:8080/"
        },
        "id": "o534KR8QIQi8",
        "outputId": "63c51782-81ad-4f60-f8e7-68492aeb9690"
      },
      "source": [
        "p.end_time"
      ],
      "execution_count": null,
      "outputs": [
        {
          "output_type": "execute_result",
          "data": {
            "text/plain": [
              "Timestamp('2019-06-13 23:59:59.999999999')"
            ]
          },
          "metadata": {},
          "execution_count": 34
        }
      ]
    },
    {
      "cell_type": "markdown",
      "metadata": {
        "id": "NoUCC-D7MIFe"
      },
      "source": [
        "#2. FinanceDataReader"
      ]
    },
    {
      "cell_type": "code",
      "metadata": {
        "colab": {
          "base_uri": "https://localhost:8080/"
        },
        "id": "-dQ1xytYMmrq",
        "outputId": "0d3a19e4-6403-4c32-bc57-fc01e4b4e923"
      },
      "source": [
        "pip install -U finance-datareader"
      ],
      "execution_count": 20,
      "outputs": [
        {
          "output_type": "stream",
          "name": "stdout",
          "text": [
            "Looking in indexes: https://pypi.org/simple, https://us-python.pkg.dev/colab-wheels/public/simple/\n",
            "Collecting finance-datareader\n",
            "  Downloading finance_datareader-0.9.34-py3-none-any.whl (17 kB)\n",
            "Requirement already satisfied: requests>=2.3.0 in /usr/local/lib/python3.7/dist-packages (from finance-datareader) (2.23.0)\n",
            "Requirement already satisfied: tqdm in /usr/local/lib/python3.7/dist-packages (from finance-datareader) (4.64.0)\n",
            "Collecting requests-file\n",
            "  Downloading requests_file-1.5.1-py2.py3-none-any.whl (3.7 kB)\n",
            "Requirement already satisfied: pandas>=0.19.2 in /usr/local/lib/python3.7/dist-packages (from finance-datareader) (1.3.5)\n",
            "Requirement already satisfied: lxml in /usr/local/lib/python3.7/dist-packages (from finance-datareader) (4.2.6)\n",
            "Requirement already satisfied: pytz>=2017.3 in /usr/local/lib/python3.7/dist-packages (from pandas>=0.19.2->finance-datareader) (2022.1)\n",
            "Requirement already satisfied: python-dateutil>=2.7.3 in /usr/local/lib/python3.7/dist-packages (from pandas>=0.19.2->finance-datareader) (2.8.2)\n",
            "Requirement already satisfied: numpy>=1.17.3 in /usr/local/lib/python3.7/dist-packages (from pandas>=0.19.2->finance-datareader) (1.21.6)\n",
            "Requirement already satisfied: six>=1.5 in /usr/local/lib/python3.7/dist-packages (from python-dateutil>=2.7.3->pandas>=0.19.2->finance-datareader) (1.15.0)\n",
            "Requirement already satisfied: idna<3,>=2.5 in /usr/local/lib/python3.7/dist-packages (from requests>=2.3.0->finance-datareader) (2.10)\n",
            "Requirement already satisfied: urllib3!=1.25.0,!=1.25.1,<1.26,>=1.21.1 in /usr/local/lib/python3.7/dist-packages (from requests>=2.3.0->finance-datareader) (1.24.3)\n",
            "Requirement already satisfied: chardet<4,>=3.0.2 in /usr/local/lib/python3.7/dist-packages (from requests>=2.3.0->finance-datareader) (3.0.4)\n",
            "Requirement already satisfied: certifi>=2017.4.17 in /usr/local/lib/python3.7/dist-packages (from requests>=2.3.0->finance-datareader) (2022.6.15)\n",
            "Installing collected packages: requests-file, finance-datareader\n",
            "Successfully installed finance-datareader-0.9.34 requests-file-1.5.1\n"
          ]
        }
      ]
    },
    {
      "cell_type": "code",
      "metadata": {
        "id": "rzk-pFRcMmAR"
      },
      "source": [
        "import FinanceDataReader as fdr"
      ],
      "execution_count": 21,
      "outputs": []
    },
    {
      "cell_type": "markdown",
      "metadata": {
        "id": "qcGfElVnMuGM"
      },
      "source": [
        "FinanceDataReader는 한국 주식 가격, 미국 주식 가격, 지수, 환율, 암호 화폐 가격, 종목 리스트 등을 제공하는 API 패키지입니다.  \n",
        "사용법을 이해해봅시다.  \n",
        "다음 코드는 한국 거래소에 상장된 모든 종목 리스트를 가져옵니다."
      ]
    },
    {
      "cell_type": "code",
      "metadata": {
        "id": "rq4L-HQ6MrVk"
      },
      "source": [
        "df_krx = fdr.StockListing('KRX')"
      ],
      "execution_count": 22,
      "outputs": []
    },
    {
      "cell_type": "code",
      "metadata": {
        "colab": {
          "base_uri": "https://localhost:8080/"
        },
        "id": "a52aS4K0MbkT",
        "outputId": "1ae7e227-eb65-450a-a3d9-774aa47fda79"
      },
      "source": [
        "type(df_krx)"
      ],
      "execution_count": 23,
      "outputs": [
        {
          "output_type": "execute_result",
          "data": {
            "text/plain": [
              "pandas.core.frame.DataFrame"
            ]
          },
          "metadata": {},
          "execution_count": 23
        }
      ]
    },
    {
      "cell_type": "code",
      "metadata": {
        "colab": {
          "base_uri": "https://localhost:8080/",
          "height": 745
        },
        "id": "9DXHwzAeMerS",
        "outputId": "21b86616-26ce-42d0-cede-234881c3c7bf"
      },
      "source": [
        "df_krx"
      ],
      "execution_count": 24,
      "outputs": [
        {
          "output_type": "execute_result",
          "data": {
            "text/plain": [
              "      Symbol  Market             Name           Sector  \\\n",
              "0     060310  KOSDAQ               3S         전자부품 제조업   \n",
              "1     095570   KOSPI           AJ네트웍스  산업용 기계 및 장비 임대업   \n",
              "2     006840   KOSPI            AK홀딩스           기타 금융업   \n",
              "3     054620  KOSDAQ           APS홀딩스           기타 금융업   \n",
              "4     265520  KOSDAQ            AP시스템    특수 목적용 기계 제조업   \n",
              "...      ...     ...              ...              ...   \n",
              "7962  435540   KOSPI  히어로즈 TDF2040액티브              NaN   \n",
              "7963  435550   KOSPI  히어로즈 TDF2050액티브              NaN   \n",
              "7964  419890   KOSPI  히어로즈 단기채권ESG액티브              NaN   \n",
              "7965  429870   KOSPI    히어로즈 리츠이지스액티브              NaN   \n",
              "7966  238490  KOSDAQ               힘스    특수 목적용 기계 제조업   \n",
              "\n",
              "                            Industry ListingDate SettleMonth  \\\n",
              "0                        반도체 웨이퍼 캐리어  2002-04-23         03월   \n",
              "1                렌탈(파렛트, OA장비, 건설장비)  2015-08-21         12월   \n",
              "2                               지주사업  1999-08-11         12월   \n",
              "3                        인터넷 트래픽 솔루션  2001-12-04         12월   \n",
              "4                        디스플레이 제조 장비  2017-04-07         12월   \n",
              "...                              ...         ...         ...   \n",
              "7962                             NaN         NaT         NaN   \n",
              "7963                             NaN         NaT         NaN   \n",
              "7964                             NaN         NaT         NaN   \n",
              "7965                             NaN         NaT         NaN   \n",
              "7966  OLED Mask 인장기, OLED Mask 검사기 등  2017-07-20         12월   \n",
              "\n",
              "         Representative                       HomePage Region  \n",
              "0                   김세완           http://www.3sref.com  서울특별시  \n",
              "1              박대현, 손삼달         http://www.ajnet.co.kr  서울특별시  \n",
              "2     채형석, 이석주(각자 대표이사)  http://www.aekyunggroup.co.kr  서울특별시  \n",
              "3                   정기로   http://www.apsholdings.co.kr    경기도  \n",
              "4                   김영주     http://www.apsystems.co.kr    경기도  \n",
              "...                 ...                            ...    ...  \n",
              "7962                NaN                            NaN    NaN  \n",
              "7963                NaN                            NaN    NaN  \n",
              "7964                NaN                            NaN    NaN  \n",
              "7965                NaN                            NaN    NaN  \n",
              "7966                김주환          http://www.hims.co.kr  인천광역시  \n",
              "\n",
              "[7967 rows x 10 columns]"
            ],
            "text/html": [
              "\n",
              "  <div id=\"df-4e8df70c-596f-4a69-a985-3b438289d4f9\">\n",
              "    <div class=\"colab-df-container\">\n",
              "      <div>\n",
              "<style scoped>\n",
              "    .dataframe tbody tr th:only-of-type {\n",
              "        vertical-align: middle;\n",
              "    }\n",
              "\n",
              "    .dataframe tbody tr th {\n",
              "        vertical-align: top;\n",
              "    }\n",
              "\n",
              "    .dataframe thead th {\n",
              "        text-align: right;\n",
              "    }\n",
              "</style>\n",
              "<table border=\"1\" class=\"dataframe\">\n",
              "  <thead>\n",
              "    <tr style=\"text-align: right;\">\n",
              "      <th></th>\n",
              "      <th>Symbol</th>\n",
              "      <th>Market</th>\n",
              "      <th>Name</th>\n",
              "      <th>Sector</th>\n",
              "      <th>Industry</th>\n",
              "      <th>ListingDate</th>\n",
              "      <th>SettleMonth</th>\n",
              "      <th>Representative</th>\n",
              "      <th>HomePage</th>\n",
              "      <th>Region</th>\n",
              "    </tr>\n",
              "  </thead>\n",
              "  <tbody>\n",
              "    <tr>\n",
              "      <th>0</th>\n",
              "      <td>060310</td>\n",
              "      <td>KOSDAQ</td>\n",
              "      <td>3S</td>\n",
              "      <td>전자부품 제조업</td>\n",
              "      <td>반도체 웨이퍼 캐리어</td>\n",
              "      <td>2002-04-23</td>\n",
              "      <td>03월</td>\n",
              "      <td>김세완</td>\n",
              "      <td>http://www.3sref.com</td>\n",
              "      <td>서울특별시</td>\n",
              "    </tr>\n",
              "    <tr>\n",
              "      <th>1</th>\n",
              "      <td>095570</td>\n",
              "      <td>KOSPI</td>\n",
              "      <td>AJ네트웍스</td>\n",
              "      <td>산업용 기계 및 장비 임대업</td>\n",
              "      <td>렌탈(파렛트, OA장비, 건설장비)</td>\n",
              "      <td>2015-08-21</td>\n",
              "      <td>12월</td>\n",
              "      <td>박대현, 손삼달</td>\n",
              "      <td>http://www.ajnet.co.kr</td>\n",
              "      <td>서울특별시</td>\n",
              "    </tr>\n",
              "    <tr>\n",
              "      <th>2</th>\n",
              "      <td>006840</td>\n",
              "      <td>KOSPI</td>\n",
              "      <td>AK홀딩스</td>\n",
              "      <td>기타 금융업</td>\n",
              "      <td>지주사업</td>\n",
              "      <td>1999-08-11</td>\n",
              "      <td>12월</td>\n",
              "      <td>채형석, 이석주(각자 대표이사)</td>\n",
              "      <td>http://www.aekyunggroup.co.kr</td>\n",
              "      <td>서울특별시</td>\n",
              "    </tr>\n",
              "    <tr>\n",
              "      <th>3</th>\n",
              "      <td>054620</td>\n",
              "      <td>KOSDAQ</td>\n",
              "      <td>APS홀딩스</td>\n",
              "      <td>기타 금융업</td>\n",
              "      <td>인터넷 트래픽 솔루션</td>\n",
              "      <td>2001-12-04</td>\n",
              "      <td>12월</td>\n",
              "      <td>정기로</td>\n",
              "      <td>http://www.apsholdings.co.kr</td>\n",
              "      <td>경기도</td>\n",
              "    </tr>\n",
              "    <tr>\n",
              "      <th>4</th>\n",
              "      <td>265520</td>\n",
              "      <td>KOSDAQ</td>\n",
              "      <td>AP시스템</td>\n",
              "      <td>특수 목적용 기계 제조업</td>\n",
              "      <td>디스플레이 제조 장비</td>\n",
              "      <td>2017-04-07</td>\n",
              "      <td>12월</td>\n",
              "      <td>김영주</td>\n",
              "      <td>http://www.apsystems.co.kr</td>\n",
              "      <td>경기도</td>\n",
              "    </tr>\n",
              "    <tr>\n",
              "      <th>...</th>\n",
              "      <td>...</td>\n",
              "      <td>...</td>\n",
              "      <td>...</td>\n",
              "      <td>...</td>\n",
              "      <td>...</td>\n",
              "      <td>...</td>\n",
              "      <td>...</td>\n",
              "      <td>...</td>\n",
              "      <td>...</td>\n",
              "      <td>...</td>\n",
              "    </tr>\n",
              "    <tr>\n",
              "      <th>7962</th>\n",
              "      <td>435540</td>\n",
              "      <td>KOSPI</td>\n",
              "      <td>히어로즈 TDF2040액티브</td>\n",
              "      <td>NaN</td>\n",
              "      <td>NaN</td>\n",
              "      <td>NaT</td>\n",
              "      <td>NaN</td>\n",
              "      <td>NaN</td>\n",
              "      <td>NaN</td>\n",
              "      <td>NaN</td>\n",
              "    </tr>\n",
              "    <tr>\n",
              "      <th>7963</th>\n",
              "      <td>435550</td>\n",
              "      <td>KOSPI</td>\n",
              "      <td>히어로즈 TDF2050액티브</td>\n",
              "      <td>NaN</td>\n",
              "      <td>NaN</td>\n",
              "      <td>NaT</td>\n",
              "      <td>NaN</td>\n",
              "      <td>NaN</td>\n",
              "      <td>NaN</td>\n",
              "      <td>NaN</td>\n",
              "    </tr>\n",
              "    <tr>\n",
              "      <th>7964</th>\n",
              "      <td>419890</td>\n",
              "      <td>KOSPI</td>\n",
              "      <td>히어로즈 단기채권ESG액티브</td>\n",
              "      <td>NaN</td>\n",
              "      <td>NaN</td>\n",
              "      <td>NaT</td>\n",
              "      <td>NaN</td>\n",
              "      <td>NaN</td>\n",
              "      <td>NaN</td>\n",
              "      <td>NaN</td>\n",
              "    </tr>\n",
              "    <tr>\n",
              "      <th>7965</th>\n",
              "      <td>429870</td>\n",
              "      <td>KOSPI</td>\n",
              "      <td>히어로즈 리츠이지스액티브</td>\n",
              "      <td>NaN</td>\n",
              "      <td>NaN</td>\n",
              "      <td>NaT</td>\n",
              "      <td>NaN</td>\n",
              "      <td>NaN</td>\n",
              "      <td>NaN</td>\n",
              "      <td>NaN</td>\n",
              "    </tr>\n",
              "    <tr>\n",
              "      <th>7966</th>\n",
              "      <td>238490</td>\n",
              "      <td>KOSDAQ</td>\n",
              "      <td>힘스</td>\n",
              "      <td>특수 목적용 기계 제조업</td>\n",
              "      <td>OLED Mask 인장기, OLED Mask 검사기 등</td>\n",
              "      <td>2017-07-20</td>\n",
              "      <td>12월</td>\n",
              "      <td>김주환</td>\n",
              "      <td>http://www.hims.co.kr</td>\n",
              "      <td>인천광역시</td>\n",
              "    </tr>\n",
              "  </tbody>\n",
              "</table>\n",
              "<p>7967 rows × 10 columns</p>\n",
              "</div>\n",
              "      <button class=\"colab-df-convert\" onclick=\"convertToInteractive('df-4e8df70c-596f-4a69-a985-3b438289d4f9')\"\n",
              "              title=\"Convert this dataframe to an interactive table.\"\n",
              "              style=\"display:none;\">\n",
              "        \n",
              "  <svg xmlns=\"http://www.w3.org/2000/svg\" height=\"24px\"viewBox=\"0 0 24 24\"\n",
              "       width=\"24px\">\n",
              "    <path d=\"M0 0h24v24H0V0z\" fill=\"none\"/>\n",
              "    <path d=\"M18.56 5.44l.94 2.06.94-2.06 2.06-.94-2.06-.94-.94-2.06-.94 2.06-2.06.94zm-11 1L8.5 8.5l.94-2.06 2.06-.94-2.06-.94L8.5 2.5l-.94 2.06-2.06.94zm10 10l.94 2.06.94-2.06 2.06-.94-2.06-.94-.94-2.06-.94 2.06-2.06.94z\"/><path d=\"M17.41 7.96l-1.37-1.37c-.4-.4-.92-.59-1.43-.59-.52 0-1.04.2-1.43.59L10.3 9.45l-7.72 7.72c-.78.78-.78 2.05 0 2.83L4 21.41c.39.39.9.59 1.41.59.51 0 1.02-.2 1.41-.59l7.78-7.78 2.81-2.81c.8-.78.8-2.07 0-2.86zM5.41 20L4 18.59l7.72-7.72 1.47 1.35L5.41 20z\"/>\n",
              "  </svg>\n",
              "      </button>\n",
              "      \n",
              "  <style>\n",
              "    .colab-df-container {\n",
              "      display:flex;\n",
              "      flex-wrap:wrap;\n",
              "      gap: 12px;\n",
              "    }\n",
              "\n",
              "    .colab-df-convert {\n",
              "      background-color: #E8F0FE;\n",
              "      border: none;\n",
              "      border-radius: 50%;\n",
              "      cursor: pointer;\n",
              "      display: none;\n",
              "      fill: #1967D2;\n",
              "      height: 32px;\n",
              "      padding: 0 0 0 0;\n",
              "      width: 32px;\n",
              "    }\n",
              "\n",
              "    .colab-df-convert:hover {\n",
              "      background-color: #E2EBFA;\n",
              "      box-shadow: 0px 1px 2px rgba(60, 64, 67, 0.3), 0px 1px 3px 1px rgba(60, 64, 67, 0.15);\n",
              "      fill: #174EA6;\n",
              "    }\n",
              "\n",
              "    [theme=dark] .colab-df-convert {\n",
              "      background-color: #3B4455;\n",
              "      fill: #D2E3FC;\n",
              "    }\n",
              "\n",
              "    [theme=dark] .colab-df-convert:hover {\n",
              "      background-color: #434B5C;\n",
              "      box-shadow: 0px 1px 3px 1px rgba(0, 0, 0, 0.15);\n",
              "      filter: drop-shadow(0px 1px 2px rgba(0, 0, 0, 0.3));\n",
              "      fill: #FFFFFF;\n",
              "    }\n",
              "  </style>\n",
              "\n",
              "      <script>\n",
              "        const buttonEl =\n",
              "          document.querySelector('#df-4e8df70c-596f-4a69-a985-3b438289d4f9 button.colab-df-convert');\n",
              "        buttonEl.style.display =\n",
              "          google.colab.kernel.accessAllowed ? 'block' : 'none';\n",
              "\n",
              "        async function convertToInteractive(key) {\n",
              "          const element = document.querySelector('#df-4e8df70c-596f-4a69-a985-3b438289d4f9');\n",
              "          const dataTable =\n",
              "            await google.colab.kernel.invokeFunction('convertToInteractive',\n",
              "                                                     [key], {});\n",
              "          if (!dataTable) return;\n",
              "\n",
              "          const docLinkHtml = 'Like what you see? Visit the ' +\n",
              "            '<a target=\"_blank\" href=https://colab.research.google.com/notebooks/data_table.ipynb>data table notebook</a>'\n",
              "            + ' to learn more about interactive tables.';\n",
              "          element.innerHTML = '';\n",
              "          dataTable['output_type'] = 'display_data';\n",
              "          await google.colab.output.renderOutput(dataTable, element);\n",
              "          const docLink = document.createElement('div');\n",
              "          docLink.innerHTML = docLinkHtml;\n",
              "          element.appendChild(docLink);\n",
              "        }\n",
              "      </script>\n",
              "    </div>\n",
              "  </div>\n",
              "  "
            ]
          },
          "metadata": {},
          "execution_count": 24
        }
      ]
    },
    {
      "cell_type": "code",
      "metadata": {
        "colab": {
          "base_uri": "https://localhost:8080/",
          "height": 302
        },
        "id": "KwWdSzBQMatr",
        "outputId": "1f858b7e-cdeb-4b88-94ab-c60a49f040f1"
      },
      "source": [
        "df_krx.head()"
      ],
      "execution_count": null,
      "outputs": [
        {
          "output_type": "execute_result",
          "data": {
            "text/plain": [
              "   Symbol  Market    Name           Sector             Industry ListingDate  \\\n",
              "0  060310  KOSDAQ      3S         전자부품 제조업          반도체 웨이퍼 캐리어  2002-04-23   \n",
              "1  095570   KOSPI  AJ네트웍스  산업용 기계 및 장비 임대업  렌탈(파렛트, OA장비, 건설장비)  2015-08-21   \n",
              "2  006840   KOSPI   AK홀딩스           기타 금융업                 지주사업  1999-08-11   \n",
              "3  054620  KOSDAQ  APS홀딩스           기타 금융업          인터넷 트래픽 솔루션  2001-12-04   \n",
              "4  265520  KOSDAQ   AP시스템    특수 목적용 기계 제조업          디스플레이 제조 장비  2017-04-07   \n",
              "\n",
              "  SettleMonth     Representative                       HomePage Region  \n",
              "0         03월                김세완           http://www.3sref.com  서울특별시  \n",
              "1         12월           박대현, 손삼달         http://www.ajnet.co.kr  서울특별시  \n",
              "2         12월  채형석, 이석주(각자 대표이사)  http://www.aekyunggroup.co.kr  서울특별시  \n",
              "3         12월                정기로   http://www.apsholdings.co.kr    경기도  \n",
              "4         12월                김영주     http://www.apsystems.co.kr    경기도  "
            ],
            "text/html": [
              "\n",
              "  <div id=\"df-57b47a5e-a41d-4099-b378-95924dc81916\">\n",
              "    <div class=\"colab-df-container\">\n",
              "      <div>\n",
              "<style scoped>\n",
              "    .dataframe tbody tr th:only-of-type {\n",
              "        vertical-align: middle;\n",
              "    }\n",
              "\n",
              "    .dataframe tbody tr th {\n",
              "        vertical-align: top;\n",
              "    }\n",
              "\n",
              "    .dataframe thead th {\n",
              "        text-align: right;\n",
              "    }\n",
              "</style>\n",
              "<table border=\"1\" class=\"dataframe\">\n",
              "  <thead>\n",
              "    <tr style=\"text-align: right;\">\n",
              "      <th></th>\n",
              "      <th>Symbol</th>\n",
              "      <th>Market</th>\n",
              "      <th>Name</th>\n",
              "      <th>Sector</th>\n",
              "      <th>Industry</th>\n",
              "      <th>ListingDate</th>\n",
              "      <th>SettleMonth</th>\n",
              "      <th>Representative</th>\n",
              "      <th>HomePage</th>\n",
              "      <th>Region</th>\n",
              "    </tr>\n",
              "  </thead>\n",
              "  <tbody>\n",
              "    <tr>\n",
              "      <th>0</th>\n",
              "      <td>060310</td>\n",
              "      <td>KOSDAQ</td>\n",
              "      <td>3S</td>\n",
              "      <td>전자부품 제조업</td>\n",
              "      <td>반도체 웨이퍼 캐리어</td>\n",
              "      <td>2002-04-23</td>\n",
              "      <td>03월</td>\n",
              "      <td>김세완</td>\n",
              "      <td>http://www.3sref.com</td>\n",
              "      <td>서울특별시</td>\n",
              "    </tr>\n",
              "    <tr>\n",
              "      <th>1</th>\n",
              "      <td>095570</td>\n",
              "      <td>KOSPI</td>\n",
              "      <td>AJ네트웍스</td>\n",
              "      <td>산업용 기계 및 장비 임대업</td>\n",
              "      <td>렌탈(파렛트, OA장비, 건설장비)</td>\n",
              "      <td>2015-08-21</td>\n",
              "      <td>12월</td>\n",
              "      <td>박대현, 손삼달</td>\n",
              "      <td>http://www.ajnet.co.kr</td>\n",
              "      <td>서울특별시</td>\n",
              "    </tr>\n",
              "    <tr>\n",
              "      <th>2</th>\n",
              "      <td>006840</td>\n",
              "      <td>KOSPI</td>\n",
              "      <td>AK홀딩스</td>\n",
              "      <td>기타 금융업</td>\n",
              "      <td>지주사업</td>\n",
              "      <td>1999-08-11</td>\n",
              "      <td>12월</td>\n",
              "      <td>채형석, 이석주(각자 대표이사)</td>\n",
              "      <td>http://www.aekyunggroup.co.kr</td>\n",
              "      <td>서울특별시</td>\n",
              "    </tr>\n",
              "    <tr>\n",
              "      <th>3</th>\n",
              "      <td>054620</td>\n",
              "      <td>KOSDAQ</td>\n",
              "      <td>APS홀딩스</td>\n",
              "      <td>기타 금융업</td>\n",
              "      <td>인터넷 트래픽 솔루션</td>\n",
              "      <td>2001-12-04</td>\n",
              "      <td>12월</td>\n",
              "      <td>정기로</td>\n",
              "      <td>http://www.apsholdings.co.kr</td>\n",
              "      <td>경기도</td>\n",
              "    </tr>\n",
              "    <tr>\n",
              "      <th>4</th>\n",
              "      <td>265520</td>\n",
              "      <td>KOSDAQ</td>\n",
              "      <td>AP시스템</td>\n",
              "      <td>특수 목적용 기계 제조업</td>\n",
              "      <td>디스플레이 제조 장비</td>\n",
              "      <td>2017-04-07</td>\n",
              "      <td>12월</td>\n",
              "      <td>김영주</td>\n",
              "      <td>http://www.apsystems.co.kr</td>\n",
              "      <td>경기도</td>\n",
              "    </tr>\n",
              "  </tbody>\n",
              "</table>\n",
              "</div>\n",
              "      <button class=\"colab-df-convert\" onclick=\"convertToInteractive('df-57b47a5e-a41d-4099-b378-95924dc81916')\"\n",
              "              title=\"Convert this dataframe to an interactive table.\"\n",
              "              style=\"display:none;\">\n",
              "        \n",
              "  <svg xmlns=\"http://www.w3.org/2000/svg\" height=\"24px\"viewBox=\"0 0 24 24\"\n",
              "       width=\"24px\">\n",
              "    <path d=\"M0 0h24v24H0V0z\" fill=\"none\"/>\n",
              "    <path d=\"M18.56 5.44l.94 2.06.94-2.06 2.06-.94-2.06-.94-.94-2.06-.94 2.06-2.06.94zm-11 1L8.5 8.5l.94-2.06 2.06-.94-2.06-.94L8.5 2.5l-.94 2.06-2.06.94zm10 10l.94 2.06.94-2.06 2.06-.94-2.06-.94-.94-2.06-.94 2.06-2.06.94z\"/><path d=\"M17.41 7.96l-1.37-1.37c-.4-.4-.92-.59-1.43-.59-.52 0-1.04.2-1.43.59L10.3 9.45l-7.72 7.72c-.78.78-.78 2.05 0 2.83L4 21.41c.39.39.9.59 1.41.59.51 0 1.02-.2 1.41-.59l7.78-7.78 2.81-2.81c.8-.78.8-2.07 0-2.86zM5.41 20L4 18.59l7.72-7.72 1.47 1.35L5.41 20z\"/>\n",
              "  </svg>\n",
              "      </button>\n",
              "      \n",
              "  <style>\n",
              "    .colab-df-container {\n",
              "      display:flex;\n",
              "      flex-wrap:wrap;\n",
              "      gap: 12px;\n",
              "    }\n",
              "\n",
              "    .colab-df-convert {\n",
              "      background-color: #E8F0FE;\n",
              "      border: none;\n",
              "      border-radius: 50%;\n",
              "      cursor: pointer;\n",
              "      display: none;\n",
              "      fill: #1967D2;\n",
              "      height: 32px;\n",
              "      padding: 0 0 0 0;\n",
              "      width: 32px;\n",
              "    }\n",
              "\n",
              "    .colab-df-convert:hover {\n",
              "      background-color: #E2EBFA;\n",
              "      box-shadow: 0px 1px 2px rgba(60, 64, 67, 0.3), 0px 1px 3px 1px rgba(60, 64, 67, 0.15);\n",
              "      fill: #174EA6;\n",
              "    }\n",
              "\n",
              "    [theme=dark] .colab-df-convert {\n",
              "      background-color: #3B4455;\n",
              "      fill: #D2E3FC;\n",
              "    }\n",
              "\n",
              "    [theme=dark] .colab-df-convert:hover {\n",
              "      background-color: #434B5C;\n",
              "      box-shadow: 0px 1px 3px 1px rgba(0, 0, 0, 0.15);\n",
              "      filter: drop-shadow(0px 1px 2px rgba(0, 0, 0, 0.3));\n",
              "      fill: #FFFFFF;\n",
              "    }\n",
              "  </style>\n",
              "\n",
              "      <script>\n",
              "        const buttonEl =\n",
              "          document.querySelector('#df-57b47a5e-a41d-4099-b378-95924dc81916 button.colab-df-convert');\n",
              "        buttonEl.style.display =\n",
              "          google.colab.kernel.accessAllowed ? 'block' : 'none';\n",
              "\n",
              "        async function convertToInteractive(key) {\n",
              "          const element = document.querySelector('#df-57b47a5e-a41d-4099-b378-95924dc81916');\n",
              "          const dataTable =\n",
              "            await google.colab.kernel.invokeFunction('convertToInteractive',\n",
              "                                                     [key], {});\n",
              "          if (!dataTable) return;\n",
              "\n",
              "          const docLinkHtml = 'Like what you see? Visit the ' +\n",
              "            '<a target=\"_blank\" href=https://colab.research.google.com/notebooks/data_table.ipynb>data table notebook</a>'\n",
              "            + ' to learn more about interactive tables.';\n",
              "          element.innerHTML = '';\n",
              "          dataTable['output_type'] = 'display_data';\n",
              "          await google.colab.output.renderOutput(dataTable, element);\n",
              "          const docLink = document.createElement('div');\n",
              "          docLink.innerHTML = docLinkHtml;\n",
              "          element.appendChild(docLink);\n",
              "        }\n",
              "      </script>\n",
              "    </div>\n",
              "  </div>\n",
              "  "
            ]
          },
          "metadata": {},
          "execution_count": 40
        }
      ]
    },
    {
      "cell_type": "code",
      "metadata": {
        "colab": {
          "base_uri": "https://localhost:8080/",
          "height": 302
        },
        "id": "RjUmcppON3h2",
        "outputId": "b8950e39-ef6a-4d76-921c-54c04e209681"
      },
      "source": [
        "df_krx.tail()"
      ],
      "execution_count": null,
      "outputs": [
        {
          "output_type": "execute_result",
          "data": {
            "text/plain": [
              "      Symbol  Market             Name         Sector  \\\n",
              "7556  435540   KOSPI  히어로즈 TDF2040액티브            NaN   \n",
              "7557  435550   KOSPI  히어로즈 TDF2050액티브            NaN   \n",
              "7558  419890   KOSPI  히어로즈 단기채권ESG액티브            NaN   \n",
              "7559  429870   KOSPI    히어로즈 리츠이지스액티브            NaN   \n",
              "7560  238490  KOSDAQ               힘스  특수 목적용 기계 제조업   \n",
              "\n",
              "                            Industry ListingDate SettleMonth Representative  \\\n",
              "7556                             NaN         NaT         NaN            NaN   \n",
              "7557                             NaN         NaT         NaN            NaN   \n",
              "7558                             NaN         NaT         NaN            NaN   \n",
              "7559                             NaN         NaT         NaN            NaN   \n",
              "7560  OLED Mask 인장기, OLED Mask 검사기 등  2017-07-20         12월            김주환   \n",
              "\n",
              "                   HomePage Region  \n",
              "7556                    NaN    NaN  \n",
              "7557                    NaN    NaN  \n",
              "7558                    NaN    NaN  \n",
              "7559                    NaN    NaN  \n",
              "7560  http://www.hims.co.kr  인천광역시  "
            ],
            "text/html": [
              "\n",
              "  <div id=\"df-9c5edd49-418c-4bbe-8a8d-603c08ff2f22\">\n",
              "    <div class=\"colab-df-container\">\n",
              "      <div>\n",
              "<style scoped>\n",
              "    .dataframe tbody tr th:only-of-type {\n",
              "        vertical-align: middle;\n",
              "    }\n",
              "\n",
              "    .dataframe tbody tr th {\n",
              "        vertical-align: top;\n",
              "    }\n",
              "\n",
              "    .dataframe thead th {\n",
              "        text-align: right;\n",
              "    }\n",
              "</style>\n",
              "<table border=\"1\" class=\"dataframe\">\n",
              "  <thead>\n",
              "    <tr style=\"text-align: right;\">\n",
              "      <th></th>\n",
              "      <th>Symbol</th>\n",
              "      <th>Market</th>\n",
              "      <th>Name</th>\n",
              "      <th>Sector</th>\n",
              "      <th>Industry</th>\n",
              "      <th>ListingDate</th>\n",
              "      <th>SettleMonth</th>\n",
              "      <th>Representative</th>\n",
              "      <th>HomePage</th>\n",
              "      <th>Region</th>\n",
              "    </tr>\n",
              "  </thead>\n",
              "  <tbody>\n",
              "    <tr>\n",
              "      <th>7556</th>\n",
              "      <td>435540</td>\n",
              "      <td>KOSPI</td>\n",
              "      <td>히어로즈 TDF2040액티브</td>\n",
              "      <td>NaN</td>\n",
              "      <td>NaN</td>\n",
              "      <td>NaT</td>\n",
              "      <td>NaN</td>\n",
              "      <td>NaN</td>\n",
              "      <td>NaN</td>\n",
              "      <td>NaN</td>\n",
              "    </tr>\n",
              "    <tr>\n",
              "      <th>7557</th>\n",
              "      <td>435550</td>\n",
              "      <td>KOSPI</td>\n",
              "      <td>히어로즈 TDF2050액티브</td>\n",
              "      <td>NaN</td>\n",
              "      <td>NaN</td>\n",
              "      <td>NaT</td>\n",
              "      <td>NaN</td>\n",
              "      <td>NaN</td>\n",
              "      <td>NaN</td>\n",
              "      <td>NaN</td>\n",
              "    </tr>\n",
              "    <tr>\n",
              "      <th>7558</th>\n",
              "      <td>419890</td>\n",
              "      <td>KOSPI</td>\n",
              "      <td>히어로즈 단기채권ESG액티브</td>\n",
              "      <td>NaN</td>\n",
              "      <td>NaN</td>\n",
              "      <td>NaT</td>\n",
              "      <td>NaN</td>\n",
              "      <td>NaN</td>\n",
              "      <td>NaN</td>\n",
              "      <td>NaN</td>\n",
              "    </tr>\n",
              "    <tr>\n",
              "      <th>7559</th>\n",
              "      <td>429870</td>\n",
              "      <td>KOSPI</td>\n",
              "      <td>히어로즈 리츠이지스액티브</td>\n",
              "      <td>NaN</td>\n",
              "      <td>NaN</td>\n",
              "      <td>NaT</td>\n",
              "      <td>NaN</td>\n",
              "      <td>NaN</td>\n",
              "      <td>NaN</td>\n",
              "      <td>NaN</td>\n",
              "    </tr>\n",
              "    <tr>\n",
              "      <th>7560</th>\n",
              "      <td>238490</td>\n",
              "      <td>KOSDAQ</td>\n",
              "      <td>힘스</td>\n",
              "      <td>특수 목적용 기계 제조업</td>\n",
              "      <td>OLED Mask 인장기, OLED Mask 검사기 등</td>\n",
              "      <td>2017-07-20</td>\n",
              "      <td>12월</td>\n",
              "      <td>김주환</td>\n",
              "      <td>http://www.hims.co.kr</td>\n",
              "      <td>인천광역시</td>\n",
              "    </tr>\n",
              "  </tbody>\n",
              "</table>\n",
              "</div>\n",
              "      <button class=\"colab-df-convert\" onclick=\"convertToInteractive('df-9c5edd49-418c-4bbe-8a8d-603c08ff2f22')\"\n",
              "              title=\"Convert this dataframe to an interactive table.\"\n",
              "              style=\"display:none;\">\n",
              "        \n",
              "  <svg xmlns=\"http://www.w3.org/2000/svg\" height=\"24px\"viewBox=\"0 0 24 24\"\n",
              "       width=\"24px\">\n",
              "    <path d=\"M0 0h24v24H0V0z\" fill=\"none\"/>\n",
              "    <path d=\"M18.56 5.44l.94 2.06.94-2.06 2.06-.94-2.06-.94-.94-2.06-.94 2.06-2.06.94zm-11 1L8.5 8.5l.94-2.06 2.06-.94-2.06-.94L8.5 2.5l-.94 2.06-2.06.94zm10 10l.94 2.06.94-2.06 2.06-.94-2.06-.94-.94-2.06-.94 2.06-2.06.94z\"/><path d=\"M17.41 7.96l-1.37-1.37c-.4-.4-.92-.59-1.43-.59-.52 0-1.04.2-1.43.59L10.3 9.45l-7.72 7.72c-.78.78-.78 2.05 0 2.83L4 21.41c.39.39.9.59 1.41.59.51 0 1.02-.2 1.41-.59l7.78-7.78 2.81-2.81c.8-.78.8-2.07 0-2.86zM5.41 20L4 18.59l7.72-7.72 1.47 1.35L5.41 20z\"/>\n",
              "  </svg>\n",
              "      </button>\n",
              "      \n",
              "  <style>\n",
              "    .colab-df-container {\n",
              "      display:flex;\n",
              "      flex-wrap:wrap;\n",
              "      gap: 12px;\n",
              "    }\n",
              "\n",
              "    .colab-df-convert {\n",
              "      background-color: #E8F0FE;\n",
              "      border: none;\n",
              "      border-radius: 50%;\n",
              "      cursor: pointer;\n",
              "      display: none;\n",
              "      fill: #1967D2;\n",
              "      height: 32px;\n",
              "      padding: 0 0 0 0;\n",
              "      width: 32px;\n",
              "    }\n",
              "\n",
              "    .colab-df-convert:hover {\n",
              "      background-color: #E2EBFA;\n",
              "      box-shadow: 0px 1px 2px rgba(60, 64, 67, 0.3), 0px 1px 3px 1px rgba(60, 64, 67, 0.15);\n",
              "      fill: #174EA6;\n",
              "    }\n",
              "\n",
              "    [theme=dark] .colab-df-convert {\n",
              "      background-color: #3B4455;\n",
              "      fill: #D2E3FC;\n",
              "    }\n",
              "\n",
              "    [theme=dark] .colab-df-convert:hover {\n",
              "      background-color: #434B5C;\n",
              "      box-shadow: 0px 1px 3px 1px rgba(0, 0, 0, 0.15);\n",
              "      filter: drop-shadow(0px 1px 2px rgba(0, 0, 0, 0.3));\n",
              "      fill: #FFFFFF;\n",
              "    }\n",
              "  </style>\n",
              "\n",
              "      <script>\n",
              "        const buttonEl =\n",
              "          document.querySelector('#df-9c5edd49-418c-4bbe-8a8d-603c08ff2f22 button.colab-df-convert');\n",
              "        buttonEl.style.display =\n",
              "          google.colab.kernel.accessAllowed ? 'block' : 'none';\n",
              "\n",
              "        async function convertToInteractive(key) {\n",
              "          const element = document.querySelector('#df-9c5edd49-418c-4bbe-8a8d-603c08ff2f22');\n",
              "          const dataTable =\n",
              "            await google.colab.kernel.invokeFunction('convertToInteractive',\n",
              "                                                     [key], {});\n",
              "          if (!dataTable) return;\n",
              "\n",
              "          const docLinkHtml = 'Like what you see? Visit the ' +\n",
              "            '<a target=\"_blank\" href=https://colab.research.google.com/notebooks/data_table.ipynb>data table notebook</a>'\n",
              "            + ' to learn more about interactive tables.';\n",
              "          element.innerHTML = '';\n",
              "          dataTable['output_type'] = 'display_data';\n",
              "          await google.colab.output.renderOutput(dataTable, element);\n",
              "          const docLink = document.createElement('div');\n",
              "          docLink.innerHTML = docLinkHtml;\n",
              "          element.appendChild(docLink);\n",
              "        }\n",
              "      </script>\n",
              "    </div>\n",
              "  </div>\n",
              "  "
            ]
          },
          "metadata": {},
          "execution_count": 41
        }
      ]
    },
    {
      "cell_type": "markdown",
      "metadata": {
        "id": "pQ1GcOssM9zm"
      },
      "source": [
        "Pandas에서 제공되는 데이터프레임 형태로 데이터가 로드됩니다."
      ]
    },
    {
      "cell_type": "markdown",
      "metadata": {
        "id": "QR4IegW8NDrx"
      },
      "source": [
        "패키지를 임포트한다음 StockListing() 함수에 'KRX' 심볼을 전달하면, 한국 거래소에 상장된 전체 종목 리스트를 출력합니다.  \n",
        "다음 코드는 미국 S&P 500에 등록된 모든 종목 리스트를 가져옵니다."
      ]
    },
    {
      "cell_type": "markdown",
      "metadata": {
        "id": "74cxCPNdNOwP"
      },
      "source": [
        "StockListing() 함수에 미국 'S&P500' 심볼을 전달하면, S&P 500 지수에 등록된 전체 종목 리스트를 출력할 수 있습니다."
      ]
    },
    {
      "cell_type": "code",
      "metadata": {
        "colab": {
          "base_uri": "https://localhost:8080/",
          "height": 243
        },
        "id": "ZebPf8ejM5zl",
        "outputId": "cf694d0c-f935-480a-ff86-e9cb724c9258"
      },
      "source": [
        "import FinanceDataReader as fdr\n",
        "# S&P 500 종목 전체\n",
        "df_spx = fdr.StockListing('S&P500')\n",
        "df_spx.head()"
      ],
      "execution_count": null,
      "outputs": [
        {
          "output_type": "stream",
          "name": "stderr",
          "text": [
            "/usr/local/lib/python3.7/dist-packages/FinanceDataReader/wikipedia/listing.py:13: FutureWarning: The default value of regex will change from True to False in a future version.\n",
            "  df['Symbol'] = df['Symbol'].str.replace('\\.', '')\n"
          ]
        },
        {
          "output_type": "execute_result",
          "data": {
            "text/plain": [
              "  Symbol         Name       Sector                  Industry\n",
              "0    MMM           3M  Industrials  Industrial Conglomerates\n",
              "1    AOS  A. O. Smith  Industrials         Building Products\n",
              "2    ABT       Abbott  Health Care     Health Care Equipment\n",
              "3   ABBV       AbbVie  Health Care           Pharmaceuticals\n",
              "4   ABMD      Abiomed  Health Care     Health Care Equipment"
            ],
            "text/html": [
              "\n",
              "  <div id=\"df-6fbce224-c6d9-43f6-b8fa-cf38ec73cf32\">\n",
              "    <div class=\"colab-df-container\">\n",
              "      <div>\n",
              "<style scoped>\n",
              "    .dataframe tbody tr th:only-of-type {\n",
              "        vertical-align: middle;\n",
              "    }\n",
              "\n",
              "    .dataframe tbody tr th {\n",
              "        vertical-align: top;\n",
              "    }\n",
              "\n",
              "    .dataframe thead th {\n",
              "        text-align: right;\n",
              "    }\n",
              "</style>\n",
              "<table border=\"1\" class=\"dataframe\">\n",
              "  <thead>\n",
              "    <tr style=\"text-align: right;\">\n",
              "      <th></th>\n",
              "      <th>Symbol</th>\n",
              "      <th>Name</th>\n",
              "      <th>Sector</th>\n",
              "      <th>Industry</th>\n",
              "    </tr>\n",
              "  </thead>\n",
              "  <tbody>\n",
              "    <tr>\n",
              "      <th>0</th>\n",
              "      <td>MMM</td>\n",
              "      <td>3M</td>\n",
              "      <td>Industrials</td>\n",
              "      <td>Industrial Conglomerates</td>\n",
              "    </tr>\n",
              "    <tr>\n",
              "      <th>1</th>\n",
              "      <td>AOS</td>\n",
              "      <td>A. O. Smith</td>\n",
              "      <td>Industrials</td>\n",
              "      <td>Building Products</td>\n",
              "    </tr>\n",
              "    <tr>\n",
              "      <th>2</th>\n",
              "      <td>ABT</td>\n",
              "      <td>Abbott</td>\n",
              "      <td>Health Care</td>\n",
              "      <td>Health Care Equipment</td>\n",
              "    </tr>\n",
              "    <tr>\n",
              "      <th>3</th>\n",
              "      <td>ABBV</td>\n",
              "      <td>AbbVie</td>\n",
              "      <td>Health Care</td>\n",
              "      <td>Pharmaceuticals</td>\n",
              "    </tr>\n",
              "    <tr>\n",
              "      <th>4</th>\n",
              "      <td>ABMD</td>\n",
              "      <td>Abiomed</td>\n",
              "      <td>Health Care</td>\n",
              "      <td>Health Care Equipment</td>\n",
              "    </tr>\n",
              "  </tbody>\n",
              "</table>\n",
              "</div>\n",
              "      <button class=\"colab-df-convert\" onclick=\"convertToInteractive('df-6fbce224-c6d9-43f6-b8fa-cf38ec73cf32')\"\n",
              "              title=\"Convert this dataframe to an interactive table.\"\n",
              "              style=\"display:none;\">\n",
              "        \n",
              "  <svg xmlns=\"http://www.w3.org/2000/svg\" height=\"24px\"viewBox=\"0 0 24 24\"\n",
              "       width=\"24px\">\n",
              "    <path d=\"M0 0h24v24H0V0z\" fill=\"none\"/>\n",
              "    <path d=\"M18.56 5.44l.94 2.06.94-2.06 2.06-.94-2.06-.94-.94-2.06-.94 2.06-2.06.94zm-11 1L8.5 8.5l.94-2.06 2.06-.94-2.06-.94L8.5 2.5l-.94 2.06-2.06.94zm10 10l.94 2.06.94-2.06 2.06-.94-2.06-.94-.94-2.06-.94 2.06-2.06.94z\"/><path d=\"M17.41 7.96l-1.37-1.37c-.4-.4-.92-.59-1.43-.59-.52 0-1.04.2-1.43.59L10.3 9.45l-7.72 7.72c-.78.78-.78 2.05 0 2.83L4 21.41c.39.39.9.59 1.41.59.51 0 1.02-.2 1.41-.59l7.78-7.78 2.81-2.81c.8-.78.8-2.07 0-2.86zM5.41 20L4 18.59l7.72-7.72 1.47 1.35L5.41 20z\"/>\n",
              "  </svg>\n",
              "      </button>\n",
              "      \n",
              "  <style>\n",
              "    .colab-df-container {\n",
              "      display:flex;\n",
              "      flex-wrap:wrap;\n",
              "      gap: 12px;\n",
              "    }\n",
              "\n",
              "    .colab-df-convert {\n",
              "      background-color: #E8F0FE;\n",
              "      border: none;\n",
              "      border-radius: 50%;\n",
              "      cursor: pointer;\n",
              "      display: none;\n",
              "      fill: #1967D2;\n",
              "      height: 32px;\n",
              "      padding: 0 0 0 0;\n",
              "      width: 32px;\n",
              "    }\n",
              "\n",
              "    .colab-df-convert:hover {\n",
              "      background-color: #E2EBFA;\n",
              "      box-shadow: 0px 1px 2px rgba(60, 64, 67, 0.3), 0px 1px 3px 1px rgba(60, 64, 67, 0.15);\n",
              "      fill: #174EA6;\n",
              "    }\n",
              "\n",
              "    [theme=dark] .colab-df-convert {\n",
              "      background-color: #3B4455;\n",
              "      fill: #D2E3FC;\n",
              "    }\n",
              "\n",
              "    [theme=dark] .colab-df-convert:hover {\n",
              "      background-color: #434B5C;\n",
              "      box-shadow: 0px 1px 3px 1px rgba(0, 0, 0, 0.15);\n",
              "      filter: drop-shadow(0px 1px 2px rgba(0, 0, 0, 0.3));\n",
              "      fill: #FFFFFF;\n",
              "    }\n",
              "  </style>\n",
              "\n",
              "      <script>\n",
              "        const buttonEl =\n",
              "          document.querySelector('#df-6fbce224-c6d9-43f6-b8fa-cf38ec73cf32 button.colab-df-convert');\n",
              "        buttonEl.style.display =\n",
              "          google.colab.kernel.accessAllowed ? 'block' : 'none';\n",
              "\n",
              "        async function convertToInteractive(key) {\n",
              "          const element = document.querySelector('#df-6fbce224-c6d9-43f6-b8fa-cf38ec73cf32');\n",
              "          const dataTable =\n",
              "            await google.colab.kernel.invokeFunction('convertToInteractive',\n",
              "                                                     [key], {});\n",
              "          if (!dataTable) return;\n",
              "\n",
              "          const docLinkHtml = 'Like what you see? Visit the ' +\n",
              "            '<a target=\"_blank\" href=https://colab.research.google.com/notebooks/data_table.ipynb>data table notebook</a>'\n",
              "            + ' to learn more about interactive tables.';\n",
              "          element.innerHTML = '';\n",
              "          dataTable['output_type'] = 'display_data';\n",
              "          await google.colab.output.renderOutput(dataTable, element);\n",
              "          const docLink = document.createElement('div');\n",
              "          docLink.innerHTML = docLinkHtml;\n",
              "          element.appendChild(docLink);\n",
              "        }\n",
              "      </script>\n",
              "    </div>\n",
              "  </div>\n",
              "  "
            ]
          },
          "metadata": {},
          "execution_count": 42
        }
      ]
    },
    {
      "cell_type": "code",
      "metadata": {
        "colab": {
          "base_uri": "https://localhost:8080/"
        },
        "id": "Zoi6AgIlOD69",
        "outputId": "e961122b-c085-434c-cfdb-4f4c17597850"
      },
      "source": [
        "len(df_spx)"
      ],
      "execution_count": null,
      "outputs": [
        {
          "output_type": "execute_result",
          "data": {
            "text/plain": [
              "503"
            ]
          },
          "metadata": {},
          "execution_count": 43
        }
      ]
    },
    {
      "cell_type": "code",
      "metadata": {
        "colab": {
          "base_uri": "https://localhost:8080/",
          "height": 424
        },
        "id": "l6yS0co0OGqM",
        "outputId": "77cdd26c-ed1c-46fb-ad89-ffab7e4c6297"
      },
      "source": [
        "df_spx"
      ],
      "execution_count": null,
      "outputs": [
        {
          "output_type": "execute_result",
          "data": {
            "text/plain": [
              "    Symbol                  Name                  Sector  \\\n",
              "0      MMM                    3M             Industrials   \n",
              "1      AOS           A. O. Smith             Industrials   \n",
              "2      ABT                Abbott             Health Care   \n",
              "3     ABBV                AbbVie             Health Care   \n",
              "4     ABMD               Abiomed             Health Care   \n",
              "..     ...                   ...                     ...   \n",
              "498    YUM           Yum! Brands  Consumer Discretionary   \n",
              "499   ZBRA    Zebra Technologies  Information Technology   \n",
              "500    ZBH         Zimmer Biomet             Health Care   \n",
              "501   ZION  Zions Bancorporation              Financials   \n",
              "502    ZTS                Zoetis             Health Care   \n",
              "\n",
              "                               Industry  \n",
              "0              Industrial Conglomerates  \n",
              "1                     Building Products  \n",
              "2                 Health Care Equipment  \n",
              "3                       Pharmaceuticals  \n",
              "4                 Health Care Equipment  \n",
              "..                                  ...  \n",
              "498                         Restaurants  \n",
              "499  Electronic Equipment & Instruments  \n",
              "500               Health Care Equipment  \n",
              "501                      Regional Banks  \n",
              "502                     Pharmaceuticals  \n",
              "\n",
              "[503 rows x 4 columns]"
            ],
            "text/html": [
              "\n",
              "  <div id=\"df-ff43b2ef-5d0a-42aa-8af6-de0aff0d2e5d\">\n",
              "    <div class=\"colab-df-container\">\n",
              "      <div>\n",
              "<style scoped>\n",
              "    .dataframe tbody tr th:only-of-type {\n",
              "        vertical-align: middle;\n",
              "    }\n",
              "\n",
              "    .dataframe tbody tr th {\n",
              "        vertical-align: top;\n",
              "    }\n",
              "\n",
              "    .dataframe thead th {\n",
              "        text-align: right;\n",
              "    }\n",
              "</style>\n",
              "<table border=\"1\" class=\"dataframe\">\n",
              "  <thead>\n",
              "    <tr style=\"text-align: right;\">\n",
              "      <th></th>\n",
              "      <th>Symbol</th>\n",
              "      <th>Name</th>\n",
              "      <th>Sector</th>\n",
              "      <th>Industry</th>\n",
              "    </tr>\n",
              "  </thead>\n",
              "  <tbody>\n",
              "    <tr>\n",
              "      <th>0</th>\n",
              "      <td>MMM</td>\n",
              "      <td>3M</td>\n",
              "      <td>Industrials</td>\n",
              "      <td>Industrial Conglomerates</td>\n",
              "    </tr>\n",
              "    <tr>\n",
              "      <th>1</th>\n",
              "      <td>AOS</td>\n",
              "      <td>A. O. Smith</td>\n",
              "      <td>Industrials</td>\n",
              "      <td>Building Products</td>\n",
              "    </tr>\n",
              "    <tr>\n",
              "      <th>2</th>\n",
              "      <td>ABT</td>\n",
              "      <td>Abbott</td>\n",
              "      <td>Health Care</td>\n",
              "      <td>Health Care Equipment</td>\n",
              "    </tr>\n",
              "    <tr>\n",
              "      <th>3</th>\n",
              "      <td>ABBV</td>\n",
              "      <td>AbbVie</td>\n",
              "      <td>Health Care</td>\n",
              "      <td>Pharmaceuticals</td>\n",
              "    </tr>\n",
              "    <tr>\n",
              "      <th>4</th>\n",
              "      <td>ABMD</td>\n",
              "      <td>Abiomed</td>\n",
              "      <td>Health Care</td>\n",
              "      <td>Health Care Equipment</td>\n",
              "    </tr>\n",
              "    <tr>\n",
              "      <th>...</th>\n",
              "      <td>...</td>\n",
              "      <td>...</td>\n",
              "      <td>...</td>\n",
              "      <td>...</td>\n",
              "    </tr>\n",
              "    <tr>\n",
              "      <th>498</th>\n",
              "      <td>YUM</td>\n",
              "      <td>Yum! Brands</td>\n",
              "      <td>Consumer Discretionary</td>\n",
              "      <td>Restaurants</td>\n",
              "    </tr>\n",
              "    <tr>\n",
              "      <th>499</th>\n",
              "      <td>ZBRA</td>\n",
              "      <td>Zebra Technologies</td>\n",
              "      <td>Information Technology</td>\n",
              "      <td>Electronic Equipment &amp; Instruments</td>\n",
              "    </tr>\n",
              "    <tr>\n",
              "      <th>500</th>\n",
              "      <td>ZBH</td>\n",
              "      <td>Zimmer Biomet</td>\n",
              "      <td>Health Care</td>\n",
              "      <td>Health Care Equipment</td>\n",
              "    </tr>\n",
              "    <tr>\n",
              "      <th>501</th>\n",
              "      <td>ZION</td>\n",
              "      <td>Zions Bancorporation</td>\n",
              "      <td>Financials</td>\n",
              "      <td>Regional Banks</td>\n",
              "    </tr>\n",
              "    <tr>\n",
              "      <th>502</th>\n",
              "      <td>ZTS</td>\n",
              "      <td>Zoetis</td>\n",
              "      <td>Health Care</td>\n",
              "      <td>Pharmaceuticals</td>\n",
              "    </tr>\n",
              "  </tbody>\n",
              "</table>\n",
              "<p>503 rows × 4 columns</p>\n",
              "</div>\n",
              "      <button class=\"colab-df-convert\" onclick=\"convertToInteractive('df-ff43b2ef-5d0a-42aa-8af6-de0aff0d2e5d')\"\n",
              "              title=\"Convert this dataframe to an interactive table.\"\n",
              "              style=\"display:none;\">\n",
              "        \n",
              "  <svg xmlns=\"http://www.w3.org/2000/svg\" height=\"24px\"viewBox=\"0 0 24 24\"\n",
              "       width=\"24px\">\n",
              "    <path d=\"M0 0h24v24H0V0z\" fill=\"none\"/>\n",
              "    <path d=\"M18.56 5.44l.94 2.06.94-2.06 2.06-.94-2.06-.94-.94-2.06-.94 2.06-2.06.94zm-11 1L8.5 8.5l.94-2.06 2.06-.94-2.06-.94L8.5 2.5l-.94 2.06-2.06.94zm10 10l.94 2.06.94-2.06 2.06-.94-2.06-.94-.94-2.06-.94 2.06-2.06.94z\"/><path d=\"M17.41 7.96l-1.37-1.37c-.4-.4-.92-.59-1.43-.59-.52 0-1.04.2-1.43.59L10.3 9.45l-7.72 7.72c-.78.78-.78 2.05 0 2.83L4 21.41c.39.39.9.59 1.41.59.51 0 1.02-.2 1.41-.59l7.78-7.78 2.81-2.81c.8-.78.8-2.07 0-2.86zM5.41 20L4 18.59l7.72-7.72 1.47 1.35L5.41 20z\"/>\n",
              "  </svg>\n",
              "      </button>\n",
              "      \n",
              "  <style>\n",
              "    .colab-df-container {\n",
              "      display:flex;\n",
              "      flex-wrap:wrap;\n",
              "      gap: 12px;\n",
              "    }\n",
              "\n",
              "    .colab-df-convert {\n",
              "      background-color: #E8F0FE;\n",
              "      border: none;\n",
              "      border-radius: 50%;\n",
              "      cursor: pointer;\n",
              "      display: none;\n",
              "      fill: #1967D2;\n",
              "      height: 32px;\n",
              "      padding: 0 0 0 0;\n",
              "      width: 32px;\n",
              "    }\n",
              "\n",
              "    .colab-df-convert:hover {\n",
              "      background-color: #E2EBFA;\n",
              "      box-shadow: 0px 1px 2px rgba(60, 64, 67, 0.3), 0px 1px 3px 1px rgba(60, 64, 67, 0.15);\n",
              "      fill: #174EA6;\n",
              "    }\n",
              "\n",
              "    [theme=dark] .colab-df-convert {\n",
              "      background-color: #3B4455;\n",
              "      fill: #D2E3FC;\n",
              "    }\n",
              "\n",
              "    [theme=dark] .colab-df-convert:hover {\n",
              "      background-color: #434B5C;\n",
              "      box-shadow: 0px 1px 3px 1px rgba(0, 0, 0, 0.15);\n",
              "      filter: drop-shadow(0px 1px 2px rgba(0, 0, 0, 0.3));\n",
              "      fill: #FFFFFF;\n",
              "    }\n",
              "  </style>\n",
              "\n",
              "      <script>\n",
              "        const buttonEl =\n",
              "          document.querySelector('#df-ff43b2ef-5d0a-42aa-8af6-de0aff0d2e5d button.colab-df-convert');\n",
              "        buttonEl.style.display =\n",
              "          google.colab.kernel.accessAllowed ? 'block' : 'none';\n",
              "\n",
              "        async function convertToInteractive(key) {\n",
              "          const element = document.querySelector('#df-ff43b2ef-5d0a-42aa-8af6-de0aff0d2e5d');\n",
              "          const dataTable =\n",
              "            await google.colab.kernel.invokeFunction('convertToInteractive',\n",
              "                                                     [key], {});\n",
              "          if (!dataTable) return;\n",
              "\n",
              "          const docLinkHtml = 'Like what you see? Visit the ' +\n",
              "            '<a target=\"_blank\" href=https://colab.research.google.com/notebooks/data_table.ipynb>data table notebook</a>'\n",
              "            + ' to learn more about interactive tables.';\n",
              "          element.innerHTML = '';\n",
              "          dataTable['output_type'] = 'display_data';\n",
              "          await google.colab.output.renderOutput(dataTable, element);\n",
              "          const docLink = document.createElement('div');\n",
              "          docLink.innerHTML = docLinkHtml;\n",
              "          element.appendChild(docLink);\n",
              "        }\n",
              "      </script>\n",
              "    </div>\n",
              "  </div>\n",
              "  "
            ]
          },
          "metadata": {},
          "execution_count": 44
        }
      ]
    },
    {
      "cell_type": "markdown",
      "metadata": {
        "id": "IDk0RqFkNYoI"
      },
      "source": [
        "종목 코드를 가져오는 방법을 알아보았으니 이제 가격 데이터를 가져오는 방법을 살펴봅시다."
      ]
    },
    {
      "cell_type": "markdown",
      "metadata": {
        "id": "pVhIzPbeNf3C"
      },
      "source": [
        "한국 거래소에 상장된 종목은 단축 코드(여섯 자리)를 전달하면 가격 데이터를 가져올 수 있습니다.  \n",
        "함수 하나만 호출하면 가격 데이터를 정말 손쉽게 가져옵니다. 미국 주가 데이터도 불러와봅시다."
      ]
    },
    {
      "cell_type": "code",
      "metadata": {
        "colab": {
          "base_uri": "https://localhost:8080/",
          "height": 394
        },
        "id": "4Yqy1CDaNNXt",
        "outputId": "db2a0c18-1fe6-450e-fc2d-4ad89d0710b2"
      },
      "source": [
        "# GS글로벌, 2018년\n",
        "df = fdr.DataReader('001250', '2018')\n",
        "df.head(10)"
      ],
      "execution_count": null,
      "outputs": [
        {
          "output_type": "execute_result",
          "data": {
            "text/plain": [
              "            Open  High   Low  Close  Volume    Change\n",
              "Date                                                 \n",
              "2018-01-02  2795  2860  2795   2850  118224  0.019678\n",
              "2018-01-03  2850  2860  2820   2845  152892 -0.001754\n",
              "2018-01-04  2845  2860  2815   2820  195786 -0.008787\n",
              "2018-01-05  2820  2920  2820   2900  283369  0.028369\n",
              "2018-01-08  2900  2940  2870   2900  179173  0.000000\n",
              "2018-01-09  2920  2945  2860   2875  209231 -0.008621\n",
              "2018-01-10  2850  2970  2850   2955  440681  0.027826\n",
              "2018-01-11  2975  2975  2930   2940  200819 -0.005076\n",
              "2018-01-12  2930  2955  2890   2910  156725 -0.010204\n",
              "2018-01-15  2910  2915  2870   2895  245777 -0.005155"
            ],
            "text/html": [
              "\n",
              "  <div id=\"df-4a06c434-bd8e-4bdf-9845-628f8eb00572\">\n",
              "    <div class=\"colab-df-container\">\n",
              "      <div>\n",
              "<style scoped>\n",
              "    .dataframe tbody tr th:only-of-type {\n",
              "        vertical-align: middle;\n",
              "    }\n",
              "\n",
              "    .dataframe tbody tr th {\n",
              "        vertical-align: top;\n",
              "    }\n",
              "\n",
              "    .dataframe thead th {\n",
              "        text-align: right;\n",
              "    }\n",
              "</style>\n",
              "<table border=\"1\" class=\"dataframe\">\n",
              "  <thead>\n",
              "    <tr style=\"text-align: right;\">\n",
              "      <th></th>\n",
              "      <th>Open</th>\n",
              "      <th>High</th>\n",
              "      <th>Low</th>\n",
              "      <th>Close</th>\n",
              "      <th>Volume</th>\n",
              "      <th>Change</th>\n",
              "    </tr>\n",
              "    <tr>\n",
              "      <th>Date</th>\n",
              "      <th></th>\n",
              "      <th></th>\n",
              "      <th></th>\n",
              "      <th></th>\n",
              "      <th></th>\n",
              "      <th></th>\n",
              "    </tr>\n",
              "  </thead>\n",
              "  <tbody>\n",
              "    <tr>\n",
              "      <th>2018-01-02</th>\n",
              "      <td>2795</td>\n",
              "      <td>2860</td>\n",
              "      <td>2795</td>\n",
              "      <td>2850</td>\n",
              "      <td>118224</td>\n",
              "      <td>0.019678</td>\n",
              "    </tr>\n",
              "    <tr>\n",
              "      <th>2018-01-03</th>\n",
              "      <td>2850</td>\n",
              "      <td>2860</td>\n",
              "      <td>2820</td>\n",
              "      <td>2845</td>\n",
              "      <td>152892</td>\n",
              "      <td>-0.001754</td>\n",
              "    </tr>\n",
              "    <tr>\n",
              "      <th>2018-01-04</th>\n",
              "      <td>2845</td>\n",
              "      <td>2860</td>\n",
              "      <td>2815</td>\n",
              "      <td>2820</td>\n",
              "      <td>195786</td>\n",
              "      <td>-0.008787</td>\n",
              "    </tr>\n",
              "    <tr>\n",
              "      <th>2018-01-05</th>\n",
              "      <td>2820</td>\n",
              "      <td>2920</td>\n",
              "      <td>2820</td>\n",
              "      <td>2900</td>\n",
              "      <td>283369</td>\n",
              "      <td>0.028369</td>\n",
              "    </tr>\n",
              "    <tr>\n",
              "      <th>2018-01-08</th>\n",
              "      <td>2900</td>\n",
              "      <td>2940</td>\n",
              "      <td>2870</td>\n",
              "      <td>2900</td>\n",
              "      <td>179173</td>\n",
              "      <td>0.000000</td>\n",
              "    </tr>\n",
              "    <tr>\n",
              "      <th>2018-01-09</th>\n",
              "      <td>2920</td>\n",
              "      <td>2945</td>\n",
              "      <td>2860</td>\n",
              "      <td>2875</td>\n",
              "      <td>209231</td>\n",
              "      <td>-0.008621</td>\n",
              "    </tr>\n",
              "    <tr>\n",
              "      <th>2018-01-10</th>\n",
              "      <td>2850</td>\n",
              "      <td>2970</td>\n",
              "      <td>2850</td>\n",
              "      <td>2955</td>\n",
              "      <td>440681</td>\n",
              "      <td>0.027826</td>\n",
              "    </tr>\n",
              "    <tr>\n",
              "      <th>2018-01-11</th>\n",
              "      <td>2975</td>\n",
              "      <td>2975</td>\n",
              "      <td>2930</td>\n",
              "      <td>2940</td>\n",
              "      <td>200819</td>\n",
              "      <td>-0.005076</td>\n",
              "    </tr>\n",
              "    <tr>\n",
              "      <th>2018-01-12</th>\n",
              "      <td>2930</td>\n",
              "      <td>2955</td>\n",
              "      <td>2890</td>\n",
              "      <td>2910</td>\n",
              "      <td>156725</td>\n",
              "      <td>-0.010204</td>\n",
              "    </tr>\n",
              "    <tr>\n",
              "      <th>2018-01-15</th>\n",
              "      <td>2910</td>\n",
              "      <td>2915</td>\n",
              "      <td>2870</td>\n",
              "      <td>2895</td>\n",
              "      <td>245777</td>\n",
              "      <td>-0.005155</td>\n",
              "    </tr>\n",
              "  </tbody>\n",
              "</table>\n",
              "</div>\n",
              "      <button class=\"colab-df-convert\" onclick=\"convertToInteractive('df-4a06c434-bd8e-4bdf-9845-628f8eb00572')\"\n",
              "              title=\"Convert this dataframe to an interactive table.\"\n",
              "              style=\"display:none;\">\n",
              "        \n",
              "  <svg xmlns=\"http://www.w3.org/2000/svg\" height=\"24px\"viewBox=\"0 0 24 24\"\n",
              "       width=\"24px\">\n",
              "    <path d=\"M0 0h24v24H0V0z\" fill=\"none\"/>\n",
              "    <path d=\"M18.56 5.44l.94 2.06.94-2.06 2.06-.94-2.06-.94-.94-2.06-.94 2.06-2.06.94zm-11 1L8.5 8.5l.94-2.06 2.06-.94-2.06-.94L8.5 2.5l-.94 2.06-2.06.94zm10 10l.94 2.06.94-2.06 2.06-.94-2.06-.94-.94-2.06-.94 2.06-2.06.94z\"/><path d=\"M17.41 7.96l-1.37-1.37c-.4-.4-.92-.59-1.43-.59-.52 0-1.04.2-1.43.59L10.3 9.45l-7.72 7.72c-.78.78-.78 2.05 0 2.83L4 21.41c.39.39.9.59 1.41.59.51 0 1.02-.2 1.41-.59l7.78-7.78 2.81-2.81c.8-.78.8-2.07 0-2.86zM5.41 20L4 18.59l7.72-7.72 1.47 1.35L5.41 20z\"/>\n",
              "  </svg>\n",
              "      </button>\n",
              "      \n",
              "  <style>\n",
              "    .colab-df-container {\n",
              "      display:flex;\n",
              "      flex-wrap:wrap;\n",
              "      gap: 12px;\n",
              "    }\n",
              "\n",
              "    .colab-df-convert {\n",
              "      background-color: #E8F0FE;\n",
              "      border: none;\n",
              "      border-radius: 50%;\n",
              "      cursor: pointer;\n",
              "      display: none;\n",
              "      fill: #1967D2;\n",
              "      height: 32px;\n",
              "      padding: 0 0 0 0;\n",
              "      width: 32px;\n",
              "    }\n",
              "\n",
              "    .colab-df-convert:hover {\n",
              "      background-color: #E2EBFA;\n",
              "      box-shadow: 0px 1px 2px rgba(60, 64, 67, 0.3), 0px 1px 3px 1px rgba(60, 64, 67, 0.15);\n",
              "      fill: #174EA6;\n",
              "    }\n",
              "\n",
              "    [theme=dark] .colab-df-convert {\n",
              "      background-color: #3B4455;\n",
              "      fill: #D2E3FC;\n",
              "    }\n",
              "\n",
              "    [theme=dark] .colab-df-convert:hover {\n",
              "      background-color: #434B5C;\n",
              "      box-shadow: 0px 1px 3px 1px rgba(0, 0, 0, 0.15);\n",
              "      filter: drop-shadow(0px 1px 2px rgba(0, 0, 0, 0.3));\n",
              "      fill: #FFFFFF;\n",
              "    }\n",
              "  </style>\n",
              "\n",
              "      <script>\n",
              "        const buttonEl =\n",
              "          document.querySelector('#df-4a06c434-bd8e-4bdf-9845-628f8eb00572 button.colab-df-convert');\n",
              "        buttonEl.style.display =\n",
              "          google.colab.kernel.accessAllowed ? 'block' : 'none';\n",
              "\n",
              "        async function convertToInteractive(key) {\n",
              "          const element = document.querySelector('#df-4a06c434-bd8e-4bdf-9845-628f8eb00572');\n",
              "          const dataTable =\n",
              "            await google.colab.kernel.invokeFunction('convertToInteractive',\n",
              "                                                     [key], {});\n",
              "          if (!dataTable) return;\n",
              "\n",
              "          const docLinkHtml = 'Like what you see? Visit the ' +\n",
              "            '<a target=\"_blank\" href=https://colab.research.google.com/notebooks/data_table.ipynb>data table notebook</a>'\n",
              "            + ' to learn more about interactive tables.';\n",
              "          element.innerHTML = '';\n",
              "          dataTable['output_type'] = 'display_data';\n",
              "          await google.colab.output.renderOutput(dataTable, element);\n",
              "          const docLink = document.createElement('div');\n",
              "          docLink.innerHTML = docLinkHtml;\n",
              "          element.appendChild(docLink);\n",
              "        }\n",
              "      </script>\n",
              "    </div>\n",
              "  </div>\n",
              "  "
            ]
          },
          "metadata": {},
          "execution_count": 45
        }
      ]
    },
    {
      "cell_type": "code",
      "metadata": {
        "colab": {
          "base_uri": "https://localhost:8080/"
        },
        "id": "zpspATZOOcCE",
        "outputId": "8a7c5fb1-ba84-4e5f-815e-dba65abc35cd"
      },
      "source": [
        "len(df)"
      ],
      "execution_count": null,
      "outputs": [
        {
          "output_type": "execute_result",
          "data": {
            "text/plain": [
              "1118"
            ]
          },
          "metadata": {},
          "execution_count": 46
        }
      ]
    },
    {
      "cell_type": "code",
      "metadata": {
        "colab": {
          "base_uri": "https://localhost:8080/",
          "height": 455
        },
        "id": "GtkVqhAfOfCp",
        "outputId": "faf7a3b1-3eec-4552-f16d-b304de58fd43"
      },
      "source": [
        "df"
      ],
      "execution_count": null,
      "outputs": [
        {
          "output_type": "execute_result",
          "data": {
            "text/plain": [
              "            Open  High   Low  Close    Volume    Change\n",
              "Date                                                   \n",
              "2018-01-02  2795  2860  2795   2850    118224  0.019678\n",
              "2018-01-03  2850  2860  2820   2845    152892 -0.001754\n",
              "2018-01-04  2845  2860  2815   2820    195786 -0.008787\n",
              "2018-01-05  2820  2920  2820   2900    283369  0.028369\n",
              "2018-01-08  2900  2940  2870   2900    179173  0.000000\n",
              "...          ...   ...   ...    ...       ...       ...\n",
              "2022-07-11  3335  3595  3285   3440  25255589  0.061728\n",
              "2022-07-12  3430  3625  3365   3405  12365570 -0.010174\n",
              "2022-07-13  3440  3530  3320   3480   6192921  0.022026\n",
              "2022-07-14  3520  3555  3375   3380   3203100 -0.028736\n",
              "2022-07-15  3385  3400  3245   3260   2364732 -0.035503\n",
              "\n",
              "[1118 rows x 6 columns]"
            ],
            "text/html": [
              "\n",
              "  <div id=\"df-393923f7-cc66-4723-90b4-65dd2c35911e\">\n",
              "    <div class=\"colab-df-container\">\n",
              "      <div>\n",
              "<style scoped>\n",
              "    .dataframe tbody tr th:only-of-type {\n",
              "        vertical-align: middle;\n",
              "    }\n",
              "\n",
              "    .dataframe tbody tr th {\n",
              "        vertical-align: top;\n",
              "    }\n",
              "\n",
              "    .dataframe thead th {\n",
              "        text-align: right;\n",
              "    }\n",
              "</style>\n",
              "<table border=\"1\" class=\"dataframe\">\n",
              "  <thead>\n",
              "    <tr style=\"text-align: right;\">\n",
              "      <th></th>\n",
              "      <th>Open</th>\n",
              "      <th>High</th>\n",
              "      <th>Low</th>\n",
              "      <th>Close</th>\n",
              "      <th>Volume</th>\n",
              "      <th>Change</th>\n",
              "    </tr>\n",
              "    <tr>\n",
              "      <th>Date</th>\n",
              "      <th></th>\n",
              "      <th></th>\n",
              "      <th></th>\n",
              "      <th></th>\n",
              "      <th></th>\n",
              "      <th></th>\n",
              "    </tr>\n",
              "  </thead>\n",
              "  <tbody>\n",
              "    <tr>\n",
              "      <th>2018-01-02</th>\n",
              "      <td>2795</td>\n",
              "      <td>2860</td>\n",
              "      <td>2795</td>\n",
              "      <td>2850</td>\n",
              "      <td>118224</td>\n",
              "      <td>0.019678</td>\n",
              "    </tr>\n",
              "    <tr>\n",
              "      <th>2018-01-03</th>\n",
              "      <td>2850</td>\n",
              "      <td>2860</td>\n",
              "      <td>2820</td>\n",
              "      <td>2845</td>\n",
              "      <td>152892</td>\n",
              "      <td>-0.001754</td>\n",
              "    </tr>\n",
              "    <tr>\n",
              "      <th>2018-01-04</th>\n",
              "      <td>2845</td>\n",
              "      <td>2860</td>\n",
              "      <td>2815</td>\n",
              "      <td>2820</td>\n",
              "      <td>195786</td>\n",
              "      <td>-0.008787</td>\n",
              "    </tr>\n",
              "    <tr>\n",
              "      <th>2018-01-05</th>\n",
              "      <td>2820</td>\n",
              "      <td>2920</td>\n",
              "      <td>2820</td>\n",
              "      <td>2900</td>\n",
              "      <td>283369</td>\n",
              "      <td>0.028369</td>\n",
              "    </tr>\n",
              "    <tr>\n",
              "      <th>2018-01-08</th>\n",
              "      <td>2900</td>\n",
              "      <td>2940</td>\n",
              "      <td>2870</td>\n",
              "      <td>2900</td>\n",
              "      <td>179173</td>\n",
              "      <td>0.000000</td>\n",
              "    </tr>\n",
              "    <tr>\n",
              "      <th>...</th>\n",
              "      <td>...</td>\n",
              "      <td>...</td>\n",
              "      <td>...</td>\n",
              "      <td>...</td>\n",
              "      <td>...</td>\n",
              "      <td>...</td>\n",
              "    </tr>\n",
              "    <tr>\n",
              "      <th>2022-07-11</th>\n",
              "      <td>3335</td>\n",
              "      <td>3595</td>\n",
              "      <td>3285</td>\n",
              "      <td>3440</td>\n",
              "      <td>25255589</td>\n",
              "      <td>0.061728</td>\n",
              "    </tr>\n",
              "    <tr>\n",
              "      <th>2022-07-12</th>\n",
              "      <td>3430</td>\n",
              "      <td>3625</td>\n",
              "      <td>3365</td>\n",
              "      <td>3405</td>\n",
              "      <td>12365570</td>\n",
              "      <td>-0.010174</td>\n",
              "    </tr>\n",
              "    <tr>\n",
              "      <th>2022-07-13</th>\n",
              "      <td>3440</td>\n",
              "      <td>3530</td>\n",
              "      <td>3320</td>\n",
              "      <td>3480</td>\n",
              "      <td>6192921</td>\n",
              "      <td>0.022026</td>\n",
              "    </tr>\n",
              "    <tr>\n",
              "      <th>2022-07-14</th>\n",
              "      <td>3520</td>\n",
              "      <td>3555</td>\n",
              "      <td>3375</td>\n",
              "      <td>3380</td>\n",
              "      <td>3203100</td>\n",
              "      <td>-0.028736</td>\n",
              "    </tr>\n",
              "    <tr>\n",
              "      <th>2022-07-15</th>\n",
              "      <td>3385</td>\n",
              "      <td>3400</td>\n",
              "      <td>3245</td>\n",
              "      <td>3260</td>\n",
              "      <td>2364732</td>\n",
              "      <td>-0.035503</td>\n",
              "    </tr>\n",
              "  </tbody>\n",
              "</table>\n",
              "<p>1118 rows × 6 columns</p>\n",
              "</div>\n",
              "      <button class=\"colab-df-convert\" onclick=\"convertToInteractive('df-393923f7-cc66-4723-90b4-65dd2c35911e')\"\n",
              "              title=\"Convert this dataframe to an interactive table.\"\n",
              "              style=\"display:none;\">\n",
              "        \n",
              "  <svg xmlns=\"http://www.w3.org/2000/svg\" height=\"24px\"viewBox=\"0 0 24 24\"\n",
              "       width=\"24px\">\n",
              "    <path d=\"M0 0h24v24H0V0z\" fill=\"none\"/>\n",
              "    <path d=\"M18.56 5.44l.94 2.06.94-2.06 2.06-.94-2.06-.94-.94-2.06-.94 2.06-2.06.94zm-11 1L8.5 8.5l.94-2.06 2.06-.94-2.06-.94L8.5 2.5l-.94 2.06-2.06.94zm10 10l.94 2.06.94-2.06 2.06-.94-2.06-.94-.94-2.06-.94 2.06-2.06.94z\"/><path d=\"M17.41 7.96l-1.37-1.37c-.4-.4-.92-.59-1.43-.59-.52 0-1.04.2-1.43.59L10.3 9.45l-7.72 7.72c-.78.78-.78 2.05 0 2.83L4 21.41c.39.39.9.59 1.41.59.51 0 1.02-.2 1.41-.59l7.78-7.78 2.81-2.81c.8-.78.8-2.07 0-2.86zM5.41 20L4 18.59l7.72-7.72 1.47 1.35L5.41 20z\"/>\n",
              "  </svg>\n",
              "      </button>\n",
              "      \n",
              "  <style>\n",
              "    .colab-df-container {\n",
              "      display:flex;\n",
              "      flex-wrap:wrap;\n",
              "      gap: 12px;\n",
              "    }\n",
              "\n",
              "    .colab-df-convert {\n",
              "      background-color: #E8F0FE;\n",
              "      border: none;\n",
              "      border-radius: 50%;\n",
              "      cursor: pointer;\n",
              "      display: none;\n",
              "      fill: #1967D2;\n",
              "      height: 32px;\n",
              "      padding: 0 0 0 0;\n",
              "      width: 32px;\n",
              "    }\n",
              "\n",
              "    .colab-df-convert:hover {\n",
              "      background-color: #E2EBFA;\n",
              "      box-shadow: 0px 1px 2px rgba(60, 64, 67, 0.3), 0px 1px 3px 1px rgba(60, 64, 67, 0.15);\n",
              "      fill: #174EA6;\n",
              "    }\n",
              "\n",
              "    [theme=dark] .colab-df-convert {\n",
              "      background-color: #3B4455;\n",
              "      fill: #D2E3FC;\n",
              "    }\n",
              "\n",
              "    [theme=dark] .colab-df-convert:hover {\n",
              "      background-color: #434B5C;\n",
              "      box-shadow: 0px 1px 3px 1px rgba(0, 0, 0, 0.15);\n",
              "      filter: drop-shadow(0px 1px 2px rgba(0, 0, 0, 0.3));\n",
              "      fill: #FFFFFF;\n",
              "    }\n",
              "  </style>\n",
              "\n",
              "      <script>\n",
              "        const buttonEl =\n",
              "          document.querySelector('#df-393923f7-cc66-4723-90b4-65dd2c35911e button.colab-df-convert');\n",
              "        buttonEl.style.display =\n",
              "          google.colab.kernel.accessAllowed ? 'block' : 'none';\n",
              "\n",
              "        async function convertToInteractive(key) {\n",
              "          const element = document.querySelector('#df-393923f7-cc66-4723-90b4-65dd2c35911e');\n",
              "          const dataTable =\n",
              "            await google.colab.kernel.invokeFunction('convertToInteractive',\n",
              "                                                     [key], {});\n",
              "          if (!dataTable) return;\n",
              "\n",
              "          const docLinkHtml = 'Like what you see? Visit the ' +\n",
              "            '<a target=\"_blank\" href=https://colab.research.google.com/notebooks/data_table.ipynb>data table notebook</a>'\n",
              "            + ' to learn more about interactive tables.';\n",
              "          element.innerHTML = '';\n",
              "          dataTable['output_type'] = 'display_data';\n",
              "          await google.colab.output.renderOutput(dataTable, element);\n",
              "          const docLink = document.createElement('div');\n",
              "          docLink.innerHTML = docLinkHtml;\n",
              "          element.appendChild(docLink);\n",
              "        }\n",
              "      </script>\n",
              "    </div>\n",
              "  </div>\n",
              "  "
            ]
          },
          "metadata": {},
          "execution_count": 47
        }
      ]
    },
    {
      "cell_type": "markdown",
      "metadata": {
        "id": "2E1qEjisNrg8"
      },
      "source": [
        "미국 종목을 가져올 때는 티커(ticker) 명을 사용합니다. 티커란, 미국에서 사용하는 종목 코드이며 네 자리로 제안됩니다."
      ]
    },
    {
      "cell_type": "code",
      "metadata": {
        "colab": {
          "base_uri": "https://localhost:8080/",
          "height": 394
        },
        "id": "ne3mrflCNdy9",
        "outputId": "9b5b8c35-53c8-4ad4-9e60-7a599717dd4f"
      },
      "source": [
        "df = fdr.DataReader('AAPL', '2017') # 애플(AAPL), 2017년\n",
        "df.head(10)"
      ],
      "execution_count": null,
      "outputs": [
        {
          "output_type": "execute_result",
          "data": {
            "text/plain": [
              "            Close   Open   High    Low       Volume  Change\n",
              "Date                                                       \n",
              "2017-01-03  29.04  28.95  29.08  28.69  115130000.0  0.0031\n",
              "2017-01-04  29.00  28.96  29.13  28.94   84470000.0 -0.0014\n",
              "2017-01-05  29.15  28.98  29.22  28.95   88770000.0  0.0052\n",
              "2017-01-06  29.48  29.20  29.54  29.12  127010000.0  0.0113\n",
              "2017-01-09  29.75  29.49  29.86  29.48  134250000.0  0.0092\n",
              "2017-01-10  29.78  29.69  29.84  29.57   97850000.0  0.0010\n",
              "2017-01-11  29.94  29.68  29.98  29.65  110350000.0  0.0054\n",
              "2017-01-12  29.81  29.72  29.82  29.55  108340000.0 -0.0043\n",
              "2017-01-13  29.76  29.78  29.91  29.70  104450000.0 -0.0017\n",
              "2017-01-17  30.00  29.59  30.06  29.55  137760000.0  0.0081"
            ],
            "text/html": [
              "\n",
              "  <div id=\"df-e4e115e5-6ccf-4e15-9bbf-d81466dec433\">\n",
              "    <div class=\"colab-df-container\">\n",
              "      <div>\n",
              "<style scoped>\n",
              "    .dataframe tbody tr th:only-of-type {\n",
              "        vertical-align: middle;\n",
              "    }\n",
              "\n",
              "    .dataframe tbody tr th {\n",
              "        vertical-align: top;\n",
              "    }\n",
              "\n",
              "    .dataframe thead th {\n",
              "        text-align: right;\n",
              "    }\n",
              "</style>\n",
              "<table border=\"1\" class=\"dataframe\">\n",
              "  <thead>\n",
              "    <tr style=\"text-align: right;\">\n",
              "      <th></th>\n",
              "      <th>Close</th>\n",
              "      <th>Open</th>\n",
              "      <th>High</th>\n",
              "      <th>Low</th>\n",
              "      <th>Volume</th>\n",
              "      <th>Change</th>\n",
              "    </tr>\n",
              "    <tr>\n",
              "      <th>Date</th>\n",
              "      <th></th>\n",
              "      <th></th>\n",
              "      <th></th>\n",
              "      <th></th>\n",
              "      <th></th>\n",
              "      <th></th>\n",
              "    </tr>\n",
              "  </thead>\n",
              "  <tbody>\n",
              "    <tr>\n",
              "      <th>2017-01-03</th>\n",
              "      <td>29.04</td>\n",
              "      <td>28.95</td>\n",
              "      <td>29.08</td>\n",
              "      <td>28.69</td>\n",
              "      <td>115130000.0</td>\n",
              "      <td>0.0031</td>\n",
              "    </tr>\n",
              "    <tr>\n",
              "      <th>2017-01-04</th>\n",
              "      <td>29.00</td>\n",
              "      <td>28.96</td>\n",
              "      <td>29.13</td>\n",
              "      <td>28.94</td>\n",
              "      <td>84470000.0</td>\n",
              "      <td>-0.0014</td>\n",
              "    </tr>\n",
              "    <tr>\n",
              "      <th>2017-01-05</th>\n",
              "      <td>29.15</td>\n",
              "      <td>28.98</td>\n",
              "      <td>29.22</td>\n",
              "      <td>28.95</td>\n",
              "      <td>88770000.0</td>\n",
              "      <td>0.0052</td>\n",
              "    </tr>\n",
              "    <tr>\n",
              "      <th>2017-01-06</th>\n",
              "      <td>29.48</td>\n",
              "      <td>29.20</td>\n",
              "      <td>29.54</td>\n",
              "      <td>29.12</td>\n",
              "      <td>127010000.0</td>\n",
              "      <td>0.0113</td>\n",
              "    </tr>\n",
              "    <tr>\n",
              "      <th>2017-01-09</th>\n",
              "      <td>29.75</td>\n",
              "      <td>29.49</td>\n",
              "      <td>29.86</td>\n",
              "      <td>29.48</td>\n",
              "      <td>134250000.0</td>\n",
              "      <td>0.0092</td>\n",
              "    </tr>\n",
              "    <tr>\n",
              "      <th>2017-01-10</th>\n",
              "      <td>29.78</td>\n",
              "      <td>29.69</td>\n",
              "      <td>29.84</td>\n",
              "      <td>29.57</td>\n",
              "      <td>97850000.0</td>\n",
              "      <td>0.0010</td>\n",
              "    </tr>\n",
              "    <tr>\n",
              "      <th>2017-01-11</th>\n",
              "      <td>29.94</td>\n",
              "      <td>29.68</td>\n",
              "      <td>29.98</td>\n",
              "      <td>29.65</td>\n",
              "      <td>110350000.0</td>\n",
              "      <td>0.0054</td>\n",
              "    </tr>\n",
              "    <tr>\n",
              "      <th>2017-01-12</th>\n",
              "      <td>29.81</td>\n",
              "      <td>29.72</td>\n",
              "      <td>29.82</td>\n",
              "      <td>29.55</td>\n",
              "      <td>108340000.0</td>\n",
              "      <td>-0.0043</td>\n",
              "    </tr>\n",
              "    <tr>\n",
              "      <th>2017-01-13</th>\n",
              "      <td>29.76</td>\n",
              "      <td>29.78</td>\n",
              "      <td>29.91</td>\n",
              "      <td>29.70</td>\n",
              "      <td>104450000.0</td>\n",
              "      <td>-0.0017</td>\n",
              "    </tr>\n",
              "    <tr>\n",
              "      <th>2017-01-17</th>\n",
              "      <td>30.00</td>\n",
              "      <td>29.59</td>\n",
              "      <td>30.06</td>\n",
              "      <td>29.55</td>\n",
              "      <td>137760000.0</td>\n",
              "      <td>0.0081</td>\n",
              "    </tr>\n",
              "  </tbody>\n",
              "</table>\n",
              "</div>\n",
              "      <button class=\"colab-df-convert\" onclick=\"convertToInteractive('df-e4e115e5-6ccf-4e15-9bbf-d81466dec433')\"\n",
              "              title=\"Convert this dataframe to an interactive table.\"\n",
              "              style=\"display:none;\">\n",
              "        \n",
              "  <svg xmlns=\"http://www.w3.org/2000/svg\" height=\"24px\"viewBox=\"0 0 24 24\"\n",
              "       width=\"24px\">\n",
              "    <path d=\"M0 0h24v24H0V0z\" fill=\"none\"/>\n",
              "    <path d=\"M18.56 5.44l.94 2.06.94-2.06 2.06-.94-2.06-.94-.94-2.06-.94 2.06-2.06.94zm-11 1L8.5 8.5l.94-2.06 2.06-.94-2.06-.94L8.5 2.5l-.94 2.06-2.06.94zm10 10l.94 2.06.94-2.06 2.06-.94-2.06-.94-.94-2.06-.94 2.06-2.06.94z\"/><path d=\"M17.41 7.96l-1.37-1.37c-.4-.4-.92-.59-1.43-.59-.52 0-1.04.2-1.43.59L10.3 9.45l-7.72 7.72c-.78.78-.78 2.05 0 2.83L4 21.41c.39.39.9.59 1.41.59.51 0 1.02-.2 1.41-.59l7.78-7.78 2.81-2.81c.8-.78.8-2.07 0-2.86zM5.41 20L4 18.59l7.72-7.72 1.47 1.35L5.41 20z\"/>\n",
              "  </svg>\n",
              "      </button>\n",
              "      \n",
              "  <style>\n",
              "    .colab-df-container {\n",
              "      display:flex;\n",
              "      flex-wrap:wrap;\n",
              "      gap: 12px;\n",
              "    }\n",
              "\n",
              "    .colab-df-convert {\n",
              "      background-color: #E8F0FE;\n",
              "      border: none;\n",
              "      border-radius: 50%;\n",
              "      cursor: pointer;\n",
              "      display: none;\n",
              "      fill: #1967D2;\n",
              "      height: 32px;\n",
              "      padding: 0 0 0 0;\n",
              "      width: 32px;\n",
              "    }\n",
              "\n",
              "    .colab-df-convert:hover {\n",
              "      background-color: #E2EBFA;\n",
              "      box-shadow: 0px 1px 2px rgba(60, 64, 67, 0.3), 0px 1px 3px 1px rgba(60, 64, 67, 0.15);\n",
              "      fill: #174EA6;\n",
              "    }\n",
              "\n",
              "    [theme=dark] .colab-df-convert {\n",
              "      background-color: #3B4455;\n",
              "      fill: #D2E3FC;\n",
              "    }\n",
              "\n",
              "    [theme=dark] .colab-df-convert:hover {\n",
              "      background-color: #434B5C;\n",
              "      box-shadow: 0px 1px 3px 1px rgba(0, 0, 0, 0.15);\n",
              "      filter: drop-shadow(0px 1px 2px rgba(0, 0, 0, 0.3));\n",
              "      fill: #FFFFFF;\n",
              "    }\n",
              "  </style>\n",
              "\n",
              "      <script>\n",
              "        const buttonEl =\n",
              "          document.querySelector('#df-e4e115e5-6ccf-4e15-9bbf-d81466dec433 button.colab-df-convert');\n",
              "        buttonEl.style.display =\n",
              "          google.colab.kernel.accessAllowed ? 'block' : 'none';\n",
              "\n",
              "        async function convertToInteractive(key) {\n",
              "          const element = document.querySelector('#df-e4e115e5-6ccf-4e15-9bbf-d81466dec433');\n",
              "          const dataTable =\n",
              "            await google.colab.kernel.invokeFunction('convertToInteractive',\n",
              "                                                     [key], {});\n",
              "          if (!dataTable) return;\n",
              "\n",
              "          const docLinkHtml = 'Like what you see? Visit the ' +\n",
              "            '<a target=\"_blank\" href=https://colab.research.google.com/notebooks/data_table.ipynb>data table notebook</a>'\n",
              "            + ' to learn more about interactive tables.';\n",
              "          element.innerHTML = '';\n",
              "          dataTable['output_type'] = 'display_data';\n",
              "          await google.colab.output.renderOutput(dataTable, element);\n",
              "          const docLink = document.createElement('div');\n",
              "          docLink.innerHTML = docLinkHtml;\n",
              "          element.appendChild(docLink);\n",
              "        }\n",
              "      </script>\n",
              "    </div>\n",
              "  </div>\n",
              "  "
            ]
          },
          "metadata": {},
          "execution_count": 48
        }
      ]
    },
    {
      "cell_type": "code",
      "metadata": {
        "colab": {
          "base_uri": "https://localhost:8080/",
          "height": 455
        },
        "id": "bTsefTiJOw1E",
        "outputId": "4bdbb94a-1388-47e2-aae0-eeaa99a7ae33"
      },
      "source": [
        "df"
      ],
      "execution_count": null,
      "outputs": [
        {
          "output_type": "execute_result",
          "data": {
            "text/plain": [
              "             Close    Open    High     Low       Volume  Change\n",
              "Date                                                           \n",
              "2017-01-03   29.04   28.95   29.08   28.69  115130000.0  0.0031\n",
              "2017-01-04   29.00   28.96   29.13   28.94   84470000.0 -0.0014\n",
              "2017-01-05   29.15   28.98   29.22   28.95   88770000.0  0.0052\n",
              "2017-01-06   29.48   29.20   29.54   29.12  127010000.0  0.0113\n",
              "2017-01-09   29.75   29.49   29.86   29.48  134250000.0  0.0092\n",
              "...            ...     ...     ...     ...          ...     ...\n",
              "2022-07-11  144.87  145.67  146.64  143.78   63310000.0 -0.0148\n",
              "2022-07-12  145.86  145.76  148.45  145.05   77590000.0  0.0068\n",
              "2022-07-13  145.49  142.99  146.45  142.12   71190000.0 -0.0025\n",
              "2022-07-14  148.47  144.08  148.95  143.25   78140000.0  0.0205\n",
              "2022-07-15  150.17  149.78  150.86  148.20   76260000.0  0.0115\n",
              "\n",
              "[1393 rows x 6 columns]"
            ],
            "text/html": [
              "\n",
              "  <div id=\"df-6317fac2-7b82-4821-8738-03886b20e922\">\n",
              "    <div class=\"colab-df-container\">\n",
              "      <div>\n",
              "<style scoped>\n",
              "    .dataframe tbody tr th:only-of-type {\n",
              "        vertical-align: middle;\n",
              "    }\n",
              "\n",
              "    .dataframe tbody tr th {\n",
              "        vertical-align: top;\n",
              "    }\n",
              "\n",
              "    .dataframe thead th {\n",
              "        text-align: right;\n",
              "    }\n",
              "</style>\n",
              "<table border=\"1\" class=\"dataframe\">\n",
              "  <thead>\n",
              "    <tr style=\"text-align: right;\">\n",
              "      <th></th>\n",
              "      <th>Close</th>\n",
              "      <th>Open</th>\n",
              "      <th>High</th>\n",
              "      <th>Low</th>\n",
              "      <th>Volume</th>\n",
              "      <th>Change</th>\n",
              "    </tr>\n",
              "    <tr>\n",
              "      <th>Date</th>\n",
              "      <th></th>\n",
              "      <th></th>\n",
              "      <th></th>\n",
              "      <th></th>\n",
              "      <th></th>\n",
              "      <th></th>\n",
              "    </tr>\n",
              "  </thead>\n",
              "  <tbody>\n",
              "    <tr>\n",
              "      <th>2017-01-03</th>\n",
              "      <td>29.04</td>\n",
              "      <td>28.95</td>\n",
              "      <td>29.08</td>\n",
              "      <td>28.69</td>\n",
              "      <td>115130000.0</td>\n",
              "      <td>0.0031</td>\n",
              "    </tr>\n",
              "    <tr>\n",
              "      <th>2017-01-04</th>\n",
              "      <td>29.00</td>\n",
              "      <td>28.96</td>\n",
              "      <td>29.13</td>\n",
              "      <td>28.94</td>\n",
              "      <td>84470000.0</td>\n",
              "      <td>-0.0014</td>\n",
              "    </tr>\n",
              "    <tr>\n",
              "      <th>2017-01-05</th>\n",
              "      <td>29.15</td>\n",
              "      <td>28.98</td>\n",
              "      <td>29.22</td>\n",
              "      <td>28.95</td>\n",
              "      <td>88770000.0</td>\n",
              "      <td>0.0052</td>\n",
              "    </tr>\n",
              "    <tr>\n",
              "      <th>2017-01-06</th>\n",
              "      <td>29.48</td>\n",
              "      <td>29.20</td>\n",
              "      <td>29.54</td>\n",
              "      <td>29.12</td>\n",
              "      <td>127010000.0</td>\n",
              "      <td>0.0113</td>\n",
              "    </tr>\n",
              "    <tr>\n",
              "      <th>2017-01-09</th>\n",
              "      <td>29.75</td>\n",
              "      <td>29.49</td>\n",
              "      <td>29.86</td>\n",
              "      <td>29.48</td>\n",
              "      <td>134250000.0</td>\n",
              "      <td>0.0092</td>\n",
              "    </tr>\n",
              "    <tr>\n",
              "      <th>...</th>\n",
              "      <td>...</td>\n",
              "      <td>...</td>\n",
              "      <td>...</td>\n",
              "      <td>...</td>\n",
              "      <td>...</td>\n",
              "      <td>...</td>\n",
              "    </tr>\n",
              "    <tr>\n",
              "      <th>2022-07-11</th>\n",
              "      <td>144.87</td>\n",
              "      <td>145.67</td>\n",
              "      <td>146.64</td>\n",
              "      <td>143.78</td>\n",
              "      <td>63310000.0</td>\n",
              "      <td>-0.0148</td>\n",
              "    </tr>\n",
              "    <tr>\n",
              "      <th>2022-07-12</th>\n",
              "      <td>145.86</td>\n",
              "      <td>145.76</td>\n",
              "      <td>148.45</td>\n",
              "      <td>145.05</td>\n",
              "      <td>77590000.0</td>\n",
              "      <td>0.0068</td>\n",
              "    </tr>\n",
              "    <tr>\n",
              "      <th>2022-07-13</th>\n",
              "      <td>145.49</td>\n",
              "      <td>142.99</td>\n",
              "      <td>146.45</td>\n",
              "      <td>142.12</td>\n",
              "      <td>71190000.0</td>\n",
              "      <td>-0.0025</td>\n",
              "    </tr>\n",
              "    <tr>\n",
              "      <th>2022-07-14</th>\n",
              "      <td>148.47</td>\n",
              "      <td>144.08</td>\n",
              "      <td>148.95</td>\n",
              "      <td>143.25</td>\n",
              "      <td>78140000.0</td>\n",
              "      <td>0.0205</td>\n",
              "    </tr>\n",
              "    <tr>\n",
              "      <th>2022-07-15</th>\n",
              "      <td>150.17</td>\n",
              "      <td>149.78</td>\n",
              "      <td>150.86</td>\n",
              "      <td>148.20</td>\n",
              "      <td>76260000.0</td>\n",
              "      <td>0.0115</td>\n",
              "    </tr>\n",
              "  </tbody>\n",
              "</table>\n",
              "<p>1393 rows × 6 columns</p>\n",
              "</div>\n",
              "      <button class=\"colab-df-convert\" onclick=\"convertToInteractive('df-6317fac2-7b82-4821-8738-03886b20e922')\"\n",
              "              title=\"Convert this dataframe to an interactive table.\"\n",
              "              style=\"display:none;\">\n",
              "        \n",
              "  <svg xmlns=\"http://www.w3.org/2000/svg\" height=\"24px\"viewBox=\"0 0 24 24\"\n",
              "       width=\"24px\">\n",
              "    <path d=\"M0 0h24v24H0V0z\" fill=\"none\"/>\n",
              "    <path d=\"M18.56 5.44l.94 2.06.94-2.06 2.06-.94-2.06-.94-.94-2.06-.94 2.06-2.06.94zm-11 1L8.5 8.5l.94-2.06 2.06-.94-2.06-.94L8.5 2.5l-.94 2.06-2.06.94zm10 10l.94 2.06.94-2.06 2.06-.94-2.06-.94-.94-2.06-.94 2.06-2.06.94z\"/><path d=\"M17.41 7.96l-1.37-1.37c-.4-.4-.92-.59-1.43-.59-.52 0-1.04.2-1.43.59L10.3 9.45l-7.72 7.72c-.78.78-.78 2.05 0 2.83L4 21.41c.39.39.9.59 1.41.59.51 0 1.02-.2 1.41-.59l7.78-7.78 2.81-2.81c.8-.78.8-2.07 0-2.86zM5.41 20L4 18.59l7.72-7.72 1.47 1.35L5.41 20z\"/>\n",
              "  </svg>\n",
              "      </button>\n",
              "      \n",
              "  <style>\n",
              "    .colab-df-container {\n",
              "      display:flex;\n",
              "      flex-wrap:wrap;\n",
              "      gap: 12px;\n",
              "    }\n",
              "\n",
              "    .colab-df-convert {\n",
              "      background-color: #E8F0FE;\n",
              "      border: none;\n",
              "      border-radius: 50%;\n",
              "      cursor: pointer;\n",
              "      display: none;\n",
              "      fill: #1967D2;\n",
              "      height: 32px;\n",
              "      padding: 0 0 0 0;\n",
              "      width: 32px;\n",
              "    }\n",
              "\n",
              "    .colab-df-convert:hover {\n",
              "      background-color: #E2EBFA;\n",
              "      box-shadow: 0px 1px 2px rgba(60, 64, 67, 0.3), 0px 1px 3px 1px rgba(60, 64, 67, 0.15);\n",
              "      fill: #174EA6;\n",
              "    }\n",
              "\n",
              "    [theme=dark] .colab-df-convert {\n",
              "      background-color: #3B4455;\n",
              "      fill: #D2E3FC;\n",
              "    }\n",
              "\n",
              "    [theme=dark] .colab-df-convert:hover {\n",
              "      background-color: #434B5C;\n",
              "      box-shadow: 0px 1px 3px 1px rgba(0, 0, 0, 0.15);\n",
              "      filter: drop-shadow(0px 1px 2px rgba(0, 0, 0, 0.3));\n",
              "      fill: #FFFFFF;\n",
              "    }\n",
              "  </style>\n",
              "\n",
              "      <script>\n",
              "        const buttonEl =\n",
              "          document.querySelector('#df-6317fac2-7b82-4821-8738-03886b20e922 button.colab-df-convert');\n",
              "        buttonEl.style.display =\n",
              "          google.colab.kernel.accessAllowed ? 'block' : 'none';\n",
              "\n",
              "        async function convertToInteractive(key) {\n",
              "          const element = document.querySelector('#df-6317fac2-7b82-4821-8738-03886b20e922');\n",
              "          const dataTable =\n",
              "            await google.colab.kernel.invokeFunction('convertToInteractive',\n",
              "                                                     [key], {});\n",
              "          if (!dataTable) return;\n",
              "\n",
              "          const docLinkHtml = 'Like what you see? Visit the ' +\n",
              "            '<a target=\"_blank\" href=https://colab.research.google.com/notebooks/data_table.ipynb>data table notebook</a>'\n",
              "            + ' to learn more about interactive tables.';\n",
              "          element.innerHTML = '';\n",
              "          dataTable['output_type'] = 'display_data';\n",
              "          await google.colab.output.renderOutput(dataTable, element);\n",
              "          const docLink = document.createElement('div');\n",
              "          docLink.innerHTML = docLinkHtml;\n",
              "          element.appendChild(docLink);\n",
              "        }\n",
              "      </script>\n",
              "    </div>\n",
              "  </div>\n",
              "  "
            ]
          },
          "metadata": {},
          "execution_count": 49
        }
      ]
    },
    {
      "cell_type": "markdown",
      "metadata": {
        "id": "mkX4xIB5N0xJ"
      },
      "source": [
        "다른 종목의 가격 데이터를 가져올 때도 마찬가지로 DataReader를 호출하면 됩니다. 아래 정리된 속성을 참고하여 다양한 값을 호출할 수 있습니다."
      ]
    },
    {
      "cell_type": "markdown",
      "metadata": {
        "id": "2HlTguWZN1ui"
      },
      "source": [
        "<거래소별 전체 종목 코드 - StockListing() 함수>\n",
        "* 한국 거래소 : KRX(KOSPI, KOSDAQ, KONEX)  \n",
        "* 미국 거래소 : NASDAQ, NYSE, AMEX, S&P500"
      ]
    },
    {
      "cell_type": "markdown",
      "metadata": {
        "id": "M2EZtNwZN_8K"
      },
      "source": [
        "<가격 데이터 - DataReader() 함수>  \n",
        "* 국내 주식 : 005930(삼성전자), 091990(셀트리온헬스케어) 등  \n",
        "* 해외 주식 : AAPL(애플), AMZN(아마존), GOOG(구글) 등  \n",
        "* 각종 지수 : KS11(코스피 지수), KQ11(코스닥 지수), DJI(다우 지수), IXIC(나스닥 지수), US500(S&P5000)  \n",
        "* 환율 데이터 : USD/KRX(원달러 환율), USD/EUR(달러당 유로화 환율), CNY/KRX(위완화 원화 환율)  \n",
        "* 암호 화폐 가격 : BTC/USD(비트코인 달러 가격, 비트파이넥스), BTC/KRW(비트코인 원화 가격, 빗썸)"
      ]
    },
    {
      "cell_type": "markdown",
      "metadata": {
        "id": "tcg3QAviOYLN"
      },
      "source": [
        "이외 상세한 옵션은 API 사용자 메뉴얼을 참고해주세요.  \n",
        "첨고 : https://github.com/FinanceData/FinanceDataReader/wiki/Users-Guide"
      ]
    },
    {
      "cell_type": "markdown",
      "metadata": {
        "id": "wden9JZQOw4d"
      },
      "source": [
        "아래는 다양한 종류의 데이터를 로드하는 예제입니다."
      ]
    },
    {
      "cell_type": "code",
      "metadata": {
        "colab": {
          "base_uri": "https://localhost:8080/",
          "height": 237
        },
        "id": "5Q-89gWVNoqc",
        "outputId": "19a9fd48-9b6f-481b-8750-acb6d8ea1071"
      },
      "source": [
        "# 애플(AAPL), 2018-01-01 ~ 2018-03-30\n",
        "df = fdr.DataReader('AAPL', '2018-01-01', '2018-03-30')\n",
        "df.head()"
      ],
      "execution_count": null,
      "outputs": [
        {
          "output_type": "execute_result",
          "data": {
            "text/plain": [
              "            Close   Open   High    Low       Volume  Change\n",
              "Date                                                       \n",
              "2018-01-02  43.06  42.54  43.08  42.31  102220000.0  0.0177\n",
              "2018-01-03  43.06  43.13  43.64  42.99  118070000.0  0.0000\n",
              "2018-01-04  43.26  43.13  43.37  43.02   89740000.0  0.0046\n",
              "2018-01-05  43.75  43.36  43.84  43.26   94640000.0  0.0113\n",
              "2018-01-08  43.59  43.59  43.90  43.48   82270000.0 -0.0037"
            ],
            "text/html": [
              "\n",
              "  <div id=\"df-43fc4398-2af8-425a-8f04-0fcae2700b4d\">\n",
              "    <div class=\"colab-df-container\">\n",
              "      <div>\n",
              "<style scoped>\n",
              "    .dataframe tbody tr th:only-of-type {\n",
              "        vertical-align: middle;\n",
              "    }\n",
              "\n",
              "    .dataframe tbody tr th {\n",
              "        vertical-align: top;\n",
              "    }\n",
              "\n",
              "    .dataframe thead th {\n",
              "        text-align: right;\n",
              "    }\n",
              "</style>\n",
              "<table border=\"1\" class=\"dataframe\">\n",
              "  <thead>\n",
              "    <tr style=\"text-align: right;\">\n",
              "      <th></th>\n",
              "      <th>Close</th>\n",
              "      <th>Open</th>\n",
              "      <th>High</th>\n",
              "      <th>Low</th>\n",
              "      <th>Volume</th>\n",
              "      <th>Change</th>\n",
              "    </tr>\n",
              "    <tr>\n",
              "      <th>Date</th>\n",
              "      <th></th>\n",
              "      <th></th>\n",
              "      <th></th>\n",
              "      <th></th>\n",
              "      <th></th>\n",
              "      <th></th>\n",
              "    </tr>\n",
              "  </thead>\n",
              "  <tbody>\n",
              "    <tr>\n",
              "      <th>2018-01-02</th>\n",
              "      <td>43.06</td>\n",
              "      <td>42.54</td>\n",
              "      <td>43.08</td>\n",
              "      <td>42.31</td>\n",
              "      <td>102220000.0</td>\n",
              "      <td>0.0177</td>\n",
              "    </tr>\n",
              "    <tr>\n",
              "      <th>2018-01-03</th>\n",
              "      <td>43.06</td>\n",
              "      <td>43.13</td>\n",
              "      <td>43.64</td>\n",
              "      <td>42.99</td>\n",
              "      <td>118070000.0</td>\n",
              "      <td>0.0000</td>\n",
              "    </tr>\n",
              "    <tr>\n",
              "      <th>2018-01-04</th>\n",
              "      <td>43.26</td>\n",
              "      <td>43.13</td>\n",
              "      <td>43.37</td>\n",
              "      <td>43.02</td>\n",
              "      <td>89740000.0</td>\n",
              "      <td>0.0046</td>\n",
              "    </tr>\n",
              "    <tr>\n",
              "      <th>2018-01-05</th>\n",
              "      <td>43.75</td>\n",
              "      <td>43.36</td>\n",
              "      <td>43.84</td>\n",
              "      <td>43.26</td>\n",
              "      <td>94640000.0</td>\n",
              "      <td>0.0113</td>\n",
              "    </tr>\n",
              "    <tr>\n",
              "      <th>2018-01-08</th>\n",
              "      <td>43.59</td>\n",
              "      <td>43.59</td>\n",
              "      <td>43.90</td>\n",
              "      <td>43.48</td>\n",
              "      <td>82270000.0</td>\n",
              "      <td>-0.0037</td>\n",
              "    </tr>\n",
              "  </tbody>\n",
              "</table>\n",
              "</div>\n",
              "      <button class=\"colab-df-convert\" onclick=\"convertToInteractive('df-43fc4398-2af8-425a-8f04-0fcae2700b4d')\"\n",
              "              title=\"Convert this dataframe to an interactive table.\"\n",
              "              style=\"display:none;\">\n",
              "        \n",
              "  <svg xmlns=\"http://www.w3.org/2000/svg\" height=\"24px\"viewBox=\"0 0 24 24\"\n",
              "       width=\"24px\">\n",
              "    <path d=\"M0 0h24v24H0V0z\" fill=\"none\"/>\n",
              "    <path d=\"M18.56 5.44l.94 2.06.94-2.06 2.06-.94-2.06-.94-.94-2.06-.94 2.06-2.06.94zm-11 1L8.5 8.5l.94-2.06 2.06-.94-2.06-.94L8.5 2.5l-.94 2.06-2.06.94zm10 10l.94 2.06.94-2.06 2.06-.94-2.06-.94-.94-2.06-.94 2.06-2.06.94z\"/><path d=\"M17.41 7.96l-1.37-1.37c-.4-.4-.92-.59-1.43-.59-.52 0-1.04.2-1.43.59L10.3 9.45l-7.72 7.72c-.78.78-.78 2.05 0 2.83L4 21.41c.39.39.9.59 1.41.59.51 0 1.02-.2 1.41-.59l7.78-7.78 2.81-2.81c.8-.78.8-2.07 0-2.86zM5.41 20L4 18.59l7.72-7.72 1.47 1.35L5.41 20z\"/>\n",
              "  </svg>\n",
              "      </button>\n",
              "      \n",
              "  <style>\n",
              "    .colab-df-container {\n",
              "      display:flex;\n",
              "      flex-wrap:wrap;\n",
              "      gap: 12px;\n",
              "    }\n",
              "\n",
              "    .colab-df-convert {\n",
              "      background-color: #E8F0FE;\n",
              "      border: none;\n",
              "      border-radius: 50%;\n",
              "      cursor: pointer;\n",
              "      display: none;\n",
              "      fill: #1967D2;\n",
              "      height: 32px;\n",
              "      padding: 0 0 0 0;\n",
              "      width: 32px;\n",
              "    }\n",
              "\n",
              "    .colab-df-convert:hover {\n",
              "      background-color: #E2EBFA;\n",
              "      box-shadow: 0px 1px 2px rgba(60, 64, 67, 0.3), 0px 1px 3px 1px rgba(60, 64, 67, 0.15);\n",
              "      fill: #174EA6;\n",
              "    }\n",
              "\n",
              "    [theme=dark] .colab-df-convert {\n",
              "      background-color: #3B4455;\n",
              "      fill: #D2E3FC;\n",
              "    }\n",
              "\n",
              "    [theme=dark] .colab-df-convert:hover {\n",
              "      background-color: #434B5C;\n",
              "      box-shadow: 0px 1px 3px 1px rgba(0, 0, 0, 0.15);\n",
              "      filter: drop-shadow(0px 1px 2px rgba(0, 0, 0, 0.3));\n",
              "      fill: #FFFFFF;\n",
              "    }\n",
              "  </style>\n",
              "\n",
              "      <script>\n",
              "        const buttonEl =\n",
              "          document.querySelector('#df-43fc4398-2af8-425a-8f04-0fcae2700b4d button.colab-df-convert');\n",
              "        buttonEl.style.display =\n",
              "          google.colab.kernel.accessAllowed ? 'block' : 'none';\n",
              "\n",
              "        async function convertToInteractive(key) {\n",
              "          const element = document.querySelector('#df-43fc4398-2af8-425a-8f04-0fcae2700b4d');\n",
              "          const dataTable =\n",
              "            await google.colab.kernel.invokeFunction('convertToInteractive',\n",
              "                                                     [key], {});\n",
              "          if (!dataTable) return;\n",
              "\n",
              "          const docLinkHtml = 'Like what you see? Visit the ' +\n",
              "            '<a target=\"_blank\" href=https://colab.research.google.com/notebooks/data_table.ipynb>data table notebook</a>'\n",
              "            + ' to learn more about interactive tables.';\n",
              "          element.innerHTML = '';\n",
              "          dataTable['output_type'] = 'display_data';\n",
              "          await google.colab.output.renderOutput(dataTable, element);\n",
              "          const docLink = document.createElement('div');\n",
              "          docLink.innerHTML = docLinkHtml;\n",
              "          element.appendChild(docLink);\n",
              "        }\n",
              "      </script>\n",
              "    </div>\n",
              "  </div>\n",
              "  "
            ]
          },
          "metadata": {},
          "execution_count": 50
        }
      ]
    },
    {
      "cell_type": "code",
      "metadata": {
        "colab": {
          "base_uri": "https://localhost:8080/",
          "height": 455
        },
        "id": "oo1bBJVwPtuv",
        "outputId": "05563410-02eb-496e-e017-2f85db4ac229"
      },
      "source": [
        "df"
      ],
      "execution_count": null,
      "outputs": [
        {
          "output_type": "execute_result",
          "data": {
            "text/plain": [
              "            Close   Open   High    Low       Volume  Change\n",
              "Date                                                       \n",
              "2018-01-02  43.06  42.54  43.08  42.31  102220000.0  0.0177\n",
              "2018-01-03  43.06  43.13  43.64  42.99  118070000.0  0.0000\n",
              "2018-01-04  43.26  43.13  43.37  43.02   89740000.0  0.0046\n",
              "2018-01-05  43.75  43.36  43.84  43.26   94640000.0  0.0113\n",
              "2018-01-08  43.59  43.59  43.90  43.48   82270000.0 -0.0037\n",
              "...           ...    ...    ...    ...          ...     ...\n",
              "2018-03-23  41.23  42.10  42.48  41.23  164120000.0 -0.0232\n",
              "2018-03-26  43.19  42.02  43.27  41.61  150160000.0  0.0475\n",
              "2018-03-27  42.09  43.42  43.79  41.73  163690000.0 -0.0255\n",
              "2018-03-28  41.62  41.81  42.51  41.30  166670000.0 -0.0112\n",
              "2018-03-29  41.95  41.95  42.94  41.73  153590000.0  0.0079\n",
              "\n",
              "[61 rows x 6 columns]"
            ],
            "text/html": [
              "\n",
              "  <div id=\"df-583bd272-cdda-444a-8e9b-1acafa595252\">\n",
              "    <div class=\"colab-df-container\">\n",
              "      <div>\n",
              "<style scoped>\n",
              "    .dataframe tbody tr th:only-of-type {\n",
              "        vertical-align: middle;\n",
              "    }\n",
              "\n",
              "    .dataframe tbody tr th {\n",
              "        vertical-align: top;\n",
              "    }\n",
              "\n",
              "    .dataframe thead th {\n",
              "        text-align: right;\n",
              "    }\n",
              "</style>\n",
              "<table border=\"1\" class=\"dataframe\">\n",
              "  <thead>\n",
              "    <tr style=\"text-align: right;\">\n",
              "      <th></th>\n",
              "      <th>Close</th>\n",
              "      <th>Open</th>\n",
              "      <th>High</th>\n",
              "      <th>Low</th>\n",
              "      <th>Volume</th>\n",
              "      <th>Change</th>\n",
              "    </tr>\n",
              "    <tr>\n",
              "      <th>Date</th>\n",
              "      <th></th>\n",
              "      <th></th>\n",
              "      <th></th>\n",
              "      <th></th>\n",
              "      <th></th>\n",
              "      <th></th>\n",
              "    </tr>\n",
              "  </thead>\n",
              "  <tbody>\n",
              "    <tr>\n",
              "      <th>2018-01-02</th>\n",
              "      <td>43.06</td>\n",
              "      <td>42.54</td>\n",
              "      <td>43.08</td>\n",
              "      <td>42.31</td>\n",
              "      <td>102220000.0</td>\n",
              "      <td>0.0177</td>\n",
              "    </tr>\n",
              "    <tr>\n",
              "      <th>2018-01-03</th>\n",
              "      <td>43.06</td>\n",
              "      <td>43.13</td>\n",
              "      <td>43.64</td>\n",
              "      <td>42.99</td>\n",
              "      <td>118070000.0</td>\n",
              "      <td>0.0000</td>\n",
              "    </tr>\n",
              "    <tr>\n",
              "      <th>2018-01-04</th>\n",
              "      <td>43.26</td>\n",
              "      <td>43.13</td>\n",
              "      <td>43.37</td>\n",
              "      <td>43.02</td>\n",
              "      <td>89740000.0</td>\n",
              "      <td>0.0046</td>\n",
              "    </tr>\n",
              "    <tr>\n",
              "      <th>2018-01-05</th>\n",
              "      <td>43.75</td>\n",
              "      <td>43.36</td>\n",
              "      <td>43.84</td>\n",
              "      <td>43.26</td>\n",
              "      <td>94640000.0</td>\n",
              "      <td>0.0113</td>\n",
              "    </tr>\n",
              "    <tr>\n",
              "      <th>2018-01-08</th>\n",
              "      <td>43.59</td>\n",
              "      <td>43.59</td>\n",
              "      <td>43.90</td>\n",
              "      <td>43.48</td>\n",
              "      <td>82270000.0</td>\n",
              "      <td>-0.0037</td>\n",
              "    </tr>\n",
              "    <tr>\n",
              "      <th>...</th>\n",
              "      <td>...</td>\n",
              "      <td>...</td>\n",
              "      <td>...</td>\n",
              "      <td>...</td>\n",
              "      <td>...</td>\n",
              "      <td>...</td>\n",
              "    </tr>\n",
              "    <tr>\n",
              "      <th>2018-03-23</th>\n",
              "      <td>41.23</td>\n",
              "      <td>42.10</td>\n",
              "      <td>42.48</td>\n",
              "      <td>41.23</td>\n",
              "      <td>164120000.0</td>\n",
              "      <td>-0.0232</td>\n",
              "    </tr>\n",
              "    <tr>\n",
              "      <th>2018-03-26</th>\n",
              "      <td>43.19</td>\n",
              "      <td>42.02</td>\n",
              "      <td>43.27</td>\n",
              "      <td>41.61</td>\n",
              "      <td>150160000.0</td>\n",
              "      <td>0.0475</td>\n",
              "    </tr>\n",
              "    <tr>\n",
              "      <th>2018-03-27</th>\n",
              "      <td>42.09</td>\n",
              "      <td>43.42</td>\n",
              "      <td>43.79</td>\n",
              "      <td>41.73</td>\n",
              "      <td>163690000.0</td>\n",
              "      <td>-0.0255</td>\n",
              "    </tr>\n",
              "    <tr>\n",
              "      <th>2018-03-28</th>\n",
              "      <td>41.62</td>\n",
              "      <td>41.81</td>\n",
              "      <td>42.51</td>\n",
              "      <td>41.30</td>\n",
              "      <td>166670000.0</td>\n",
              "      <td>-0.0112</td>\n",
              "    </tr>\n",
              "    <tr>\n",
              "      <th>2018-03-29</th>\n",
              "      <td>41.95</td>\n",
              "      <td>41.95</td>\n",
              "      <td>42.94</td>\n",
              "      <td>41.73</td>\n",
              "      <td>153590000.0</td>\n",
              "      <td>0.0079</td>\n",
              "    </tr>\n",
              "  </tbody>\n",
              "</table>\n",
              "<p>61 rows × 6 columns</p>\n",
              "</div>\n",
              "      <button class=\"colab-df-convert\" onclick=\"convertToInteractive('df-583bd272-cdda-444a-8e9b-1acafa595252')\"\n",
              "              title=\"Convert this dataframe to an interactive table.\"\n",
              "              style=\"display:none;\">\n",
              "        \n",
              "  <svg xmlns=\"http://www.w3.org/2000/svg\" height=\"24px\"viewBox=\"0 0 24 24\"\n",
              "       width=\"24px\">\n",
              "    <path d=\"M0 0h24v24H0V0z\" fill=\"none\"/>\n",
              "    <path d=\"M18.56 5.44l.94 2.06.94-2.06 2.06-.94-2.06-.94-.94-2.06-.94 2.06-2.06.94zm-11 1L8.5 8.5l.94-2.06 2.06-.94-2.06-.94L8.5 2.5l-.94 2.06-2.06.94zm10 10l.94 2.06.94-2.06 2.06-.94-2.06-.94-.94-2.06-.94 2.06-2.06.94z\"/><path d=\"M17.41 7.96l-1.37-1.37c-.4-.4-.92-.59-1.43-.59-.52 0-1.04.2-1.43.59L10.3 9.45l-7.72 7.72c-.78.78-.78 2.05 0 2.83L4 21.41c.39.39.9.59 1.41.59.51 0 1.02-.2 1.41-.59l7.78-7.78 2.81-2.81c.8-.78.8-2.07 0-2.86zM5.41 20L4 18.59l7.72-7.72 1.47 1.35L5.41 20z\"/>\n",
              "  </svg>\n",
              "      </button>\n",
              "      \n",
              "  <style>\n",
              "    .colab-df-container {\n",
              "      display:flex;\n",
              "      flex-wrap:wrap;\n",
              "      gap: 12px;\n",
              "    }\n",
              "\n",
              "    .colab-df-convert {\n",
              "      background-color: #E8F0FE;\n",
              "      border: none;\n",
              "      border-radius: 50%;\n",
              "      cursor: pointer;\n",
              "      display: none;\n",
              "      fill: #1967D2;\n",
              "      height: 32px;\n",
              "      padding: 0 0 0 0;\n",
              "      width: 32px;\n",
              "    }\n",
              "\n",
              "    .colab-df-convert:hover {\n",
              "      background-color: #E2EBFA;\n",
              "      box-shadow: 0px 1px 2px rgba(60, 64, 67, 0.3), 0px 1px 3px 1px rgba(60, 64, 67, 0.15);\n",
              "      fill: #174EA6;\n",
              "    }\n",
              "\n",
              "    [theme=dark] .colab-df-convert {\n",
              "      background-color: #3B4455;\n",
              "      fill: #D2E3FC;\n",
              "    }\n",
              "\n",
              "    [theme=dark] .colab-df-convert:hover {\n",
              "      background-color: #434B5C;\n",
              "      box-shadow: 0px 1px 3px 1px rgba(0, 0, 0, 0.15);\n",
              "      filter: drop-shadow(0px 1px 2px rgba(0, 0, 0, 0.3));\n",
              "      fill: #FFFFFF;\n",
              "    }\n",
              "  </style>\n",
              "\n",
              "      <script>\n",
              "        const buttonEl =\n",
              "          document.querySelector('#df-583bd272-cdda-444a-8e9b-1acafa595252 button.colab-df-convert');\n",
              "        buttonEl.style.display =\n",
              "          google.colab.kernel.accessAllowed ? 'block' : 'none';\n",
              "\n",
              "        async function convertToInteractive(key) {\n",
              "          const element = document.querySelector('#df-583bd272-cdda-444a-8e9b-1acafa595252');\n",
              "          const dataTable =\n",
              "            await google.colab.kernel.invokeFunction('convertToInteractive',\n",
              "                                                     [key], {});\n",
              "          if (!dataTable) return;\n",
              "\n",
              "          const docLinkHtml = 'Like what you see? Visit the ' +\n",
              "            '<a target=\"_blank\" href=https://colab.research.google.com/notebooks/data_table.ipynb>data table notebook</a>'\n",
              "            + ' to learn more about interactive tables.';\n",
              "          element.innerHTML = '';\n",
              "          dataTable['output_type'] = 'display_data';\n",
              "          await google.colab.output.renderOutput(dataTable, element);\n",
              "          const docLink = document.createElement('div');\n",
              "          docLink.innerHTML = docLinkHtml;\n",
              "          element.appendChild(docLink);\n",
              "        }\n",
              "      </script>\n",
              "    </div>\n",
              "  </div>\n",
              "  "
            ]
          },
          "metadata": {},
          "execution_count": 51
        }
      ]
    },
    {
      "cell_type": "code",
      "metadata": {
        "colab": {
          "base_uri": "https://localhost:8080/",
          "height": 237
        },
        "id": "B3MBpTaNOjze",
        "outputId": "63db690f-e580-43e3-f07f-69d77646589f"
      },
      "source": [
        "# KS11 (KOSPI 지수), 2015년~현재\n",
        "df = fdr.DataReader('KS11', '2015')\n",
        "df.head()"
      ],
      "execution_count": null,
      "outputs": [
        {
          "output_type": "execute_result",
          "data": {
            "text/plain": [
              "              Close     Open     High      Low       Volume  Change\n",
              "Date                                                               \n",
              "2015-01-02  1926.44  1914.24  1929.15  1909.67  258780000.0  0.0057\n",
              "2015-01-05  1915.75  1921.96  1921.96  1903.37  313440000.0 -0.0055\n",
              "2015-01-06  1882.45  1895.48  1900.02  1877.38  303690000.0 -0.0174\n",
              "2015-01-07  1883.83  1878.90  1887.60  1876.27  280510000.0  0.0007\n",
              "2015-01-08  1904.65  1895.85  1907.23  1891.77  262210000.0  0.0111"
            ],
            "text/html": [
              "\n",
              "  <div id=\"df-e9becf43-b40a-4296-97ca-b0869653d881\">\n",
              "    <div class=\"colab-df-container\">\n",
              "      <div>\n",
              "<style scoped>\n",
              "    .dataframe tbody tr th:only-of-type {\n",
              "        vertical-align: middle;\n",
              "    }\n",
              "\n",
              "    .dataframe tbody tr th {\n",
              "        vertical-align: top;\n",
              "    }\n",
              "\n",
              "    .dataframe thead th {\n",
              "        text-align: right;\n",
              "    }\n",
              "</style>\n",
              "<table border=\"1\" class=\"dataframe\">\n",
              "  <thead>\n",
              "    <tr style=\"text-align: right;\">\n",
              "      <th></th>\n",
              "      <th>Close</th>\n",
              "      <th>Open</th>\n",
              "      <th>High</th>\n",
              "      <th>Low</th>\n",
              "      <th>Volume</th>\n",
              "      <th>Change</th>\n",
              "    </tr>\n",
              "    <tr>\n",
              "      <th>Date</th>\n",
              "      <th></th>\n",
              "      <th></th>\n",
              "      <th></th>\n",
              "      <th></th>\n",
              "      <th></th>\n",
              "      <th></th>\n",
              "    </tr>\n",
              "  </thead>\n",
              "  <tbody>\n",
              "    <tr>\n",
              "      <th>2015-01-02</th>\n",
              "      <td>1926.44</td>\n",
              "      <td>1914.24</td>\n",
              "      <td>1929.15</td>\n",
              "      <td>1909.67</td>\n",
              "      <td>258780000.0</td>\n",
              "      <td>0.0057</td>\n",
              "    </tr>\n",
              "    <tr>\n",
              "      <th>2015-01-05</th>\n",
              "      <td>1915.75</td>\n",
              "      <td>1921.96</td>\n",
              "      <td>1921.96</td>\n",
              "      <td>1903.37</td>\n",
              "      <td>313440000.0</td>\n",
              "      <td>-0.0055</td>\n",
              "    </tr>\n",
              "    <tr>\n",
              "      <th>2015-01-06</th>\n",
              "      <td>1882.45</td>\n",
              "      <td>1895.48</td>\n",
              "      <td>1900.02</td>\n",
              "      <td>1877.38</td>\n",
              "      <td>303690000.0</td>\n",
              "      <td>-0.0174</td>\n",
              "    </tr>\n",
              "    <tr>\n",
              "      <th>2015-01-07</th>\n",
              "      <td>1883.83</td>\n",
              "      <td>1878.90</td>\n",
              "      <td>1887.60</td>\n",
              "      <td>1876.27</td>\n",
              "      <td>280510000.0</td>\n",
              "      <td>0.0007</td>\n",
              "    </tr>\n",
              "    <tr>\n",
              "      <th>2015-01-08</th>\n",
              "      <td>1904.65</td>\n",
              "      <td>1895.85</td>\n",
              "      <td>1907.23</td>\n",
              "      <td>1891.77</td>\n",
              "      <td>262210000.0</td>\n",
              "      <td>0.0111</td>\n",
              "    </tr>\n",
              "  </tbody>\n",
              "</table>\n",
              "</div>\n",
              "      <button class=\"colab-df-convert\" onclick=\"convertToInteractive('df-e9becf43-b40a-4296-97ca-b0869653d881')\"\n",
              "              title=\"Convert this dataframe to an interactive table.\"\n",
              "              style=\"display:none;\">\n",
              "        \n",
              "  <svg xmlns=\"http://www.w3.org/2000/svg\" height=\"24px\"viewBox=\"0 0 24 24\"\n",
              "       width=\"24px\">\n",
              "    <path d=\"M0 0h24v24H0V0z\" fill=\"none\"/>\n",
              "    <path d=\"M18.56 5.44l.94 2.06.94-2.06 2.06-.94-2.06-.94-.94-2.06-.94 2.06-2.06.94zm-11 1L8.5 8.5l.94-2.06 2.06-.94-2.06-.94L8.5 2.5l-.94 2.06-2.06.94zm10 10l.94 2.06.94-2.06 2.06-.94-2.06-.94-.94-2.06-.94 2.06-2.06.94z\"/><path d=\"M17.41 7.96l-1.37-1.37c-.4-.4-.92-.59-1.43-.59-.52 0-1.04.2-1.43.59L10.3 9.45l-7.72 7.72c-.78.78-.78 2.05 0 2.83L4 21.41c.39.39.9.59 1.41.59.51 0 1.02-.2 1.41-.59l7.78-7.78 2.81-2.81c.8-.78.8-2.07 0-2.86zM5.41 20L4 18.59l7.72-7.72 1.47 1.35L5.41 20z\"/>\n",
              "  </svg>\n",
              "      </button>\n",
              "      \n",
              "  <style>\n",
              "    .colab-df-container {\n",
              "      display:flex;\n",
              "      flex-wrap:wrap;\n",
              "      gap: 12px;\n",
              "    }\n",
              "\n",
              "    .colab-df-convert {\n",
              "      background-color: #E8F0FE;\n",
              "      border: none;\n",
              "      border-radius: 50%;\n",
              "      cursor: pointer;\n",
              "      display: none;\n",
              "      fill: #1967D2;\n",
              "      height: 32px;\n",
              "      padding: 0 0 0 0;\n",
              "      width: 32px;\n",
              "    }\n",
              "\n",
              "    .colab-df-convert:hover {\n",
              "      background-color: #E2EBFA;\n",
              "      box-shadow: 0px 1px 2px rgba(60, 64, 67, 0.3), 0px 1px 3px 1px rgba(60, 64, 67, 0.15);\n",
              "      fill: #174EA6;\n",
              "    }\n",
              "\n",
              "    [theme=dark] .colab-df-convert {\n",
              "      background-color: #3B4455;\n",
              "      fill: #D2E3FC;\n",
              "    }\n",
              "\n",
              "    [theme=dark] .colab-df-convert:hover {\n",
              "      background-color: #434B5C;\n",
              "      box-shadow: 0px 1px 3px 1px rgba(0, 0, 0, 0.15);\n",
              "      filter: drop-shadow(0px 1px 2px rgba(0, 0, 0, 0.3));\n",
              "      fill: #FFFFFF;\n",
              "    }\n",
              "  </style>\n",
              "\n",
              "      <script>\n",
              "        const buttonEl =\n",
              "          document.querySelector('#df-e9becf43-b40a-4296-97ca-b0869653d881 button.colab-df-convert');\n",
              "        buttonEl.style.display =\n",
              "          google.colab.kernel.accessAllowed ? 'block' : 'none';\n",
              "\n",
              "        async function convertToInteractive(key) {\n",
              "          const element = document.querySelector('#df-e9becf43-b40a-4296-97ca-b0869653d881');\n",
              "          const dataTable =\n",
              "            await google.colab.kernel.invokeFunction('convertToInteractive',\n",
              "                                                     [key], {});\n",
              "          if (!dataTable) return;\n",
              "\n",
              "          const docLinkHtml = 'Like what you see? Visit the ' +\n",
              "            '<a target=\"_blank\" href=https://colab.research.google.com/notebooks/data_table.ipynb>data table notebook</a>'\n",
              "            + ' to learn more about interactive tables.';\n",
              "          element.innerHTML = '';\n",
              "          dataTable['output_type'] = 'display_data';\n",
              "          await google.colab.output.renderOutput(dataTable, element);\n",
              "          const docLink = document.createElement('div');\n",
              "          docLink.innerHTML = docLinkHtml;\n",
              "          element.appendChild(docLink);\n",
              "        }\n",
              "      </script>\n",
              "    </div>\n",
              "  </div>\n",
              "  "
            ]
          },
          "metadata": {},
          "execution_count": 52
        }
      ]
    },
    {
      "cell_type": "code",
      "metadata": {
        "colab": {
          "base_uri": "https://localhost:8080/",
          "height": 455
        },
        "id": "W9PFCvsWPzzv",
        "outputId": "9759d504-4863-408c-8f3d-3c6563e47337"
      },
      "source": [
        "df"
      ],
      "execution_count": null,
      "outputs": [
        {
          "output_type": "execute_result",
          "data": {
            "text/plain": [
              "              Close     Open     High      Low       Volume  Change\n",
              "Date                                                               \n",
              "2015-01-02  1926.44  1914.24  1929.15  1909.67  258780000.0  0.0057\n",
              "2015-01-05  1915.75  1921.96  1921.96  1903.37  313440000.0 -0.0055\n",
              "2015-01-06  1882.45  1895.48  1900.02  1877.38  303690000.0 -0.0174\n",
              "2015-01-07  1883.83  1878.90  1887.60  1876.27  280510000.0  0.0007\n",
              "2015-01-08  1904.65  1895.85  1907.23  1891.77  262210000.0  0.0111\n",
              "...             ...      ...      ...      ...          ...     ...\n",
              "2022-07-11  2340.27  2357.43  2363.26  2337.82  377110000.0 -0.0044\n",
              "2022-07-12  2317.76  2330.88  2333.02  2303.74  379310000.0 -0.0096\n",
              "2022-07-13  2328.61  2324.45  2341.19  2312.49  308810000.0  0.0047\n",
              "2022-07-14  2322.32  2316.41  2338.29  2307.69  349140000.0 -0.0027\n",
              "2022-07-15  2330.98  2335.12  2337.30  2293.45  319680000.0  0.0037\n",
              "\n",
              "[1855 rows x 6 columns]"
            ],
            "text/html": [
              "\n",
              "  <div id=\"df-b9dcb4d7-8abd-41df-b2e2-a2e2d607d2ed\">\n",
              "    <div class=\"colab-df-container\">\n",
              "      <div>\n",
              "<style scoped>\n",
              "    .dataframe tbody tr th:only-of-type {\n",
              "        vertical-align: middle;\n",
              "    }\n",
              "\n",
              "    .dataframe tbody tr th {\n",
              "        vertical-align: top;\n",
              "    }\n",
              "\n",
              "    .dataframe thead th {\n",
              "        text-align: right;\n",
              "    }\n",
              "</style>\n",
              "<table border=\"1\" class=\"dataframe\">\n",
              "  <thead>\n",
              "    <tr style=\"text-align: right;\">\n",
              "      <th></th>\n",
              "      <th>Close</th>\n",
              "      <th>Open</th>\n",
              "      <th>High</th>\n",
              "      <th>Low</th>\n",
              "      <th>Volume</th>\n",
              "      <th>Change</th>\n",
              "    </tr>\n",
              "    <tr>\n",
              "      <th>Date</th>\n",
              "      <th></th>\n",
              "      <th></th>\n",
              "      <th></th>\n",
              "      <th></th>\n",
              "      <th></th>\n",
              "      <th></th>\n",
              "    </tr>\n",
              "  </thead>\n",
              "  <tbody>\n",
              "    <tr>\n",
              "      <th>2015-01-02</th>\n",
              "      <td>1926.44</td>\n",
              "      <td>1914.24</td>\n",
              "      <td>1929.15</td>\n",
              "      <td>1909.67</td>\n",
              "      <td>258780000.0</td>\n",
              "      <td>0.0057</td>\n",
              "    </tr>\n",
              "    <tr>\n",
              "      <th>2015-01-05</th>\n",
              "      <td>1915.75</td>\n",
              "      <td>1921.96</td>\n",
              "      <td>1921.96</td>\n",
              "      <td>1903.37</td>\n",
              "      <td>313440000.0</td>\n",
              "      <td>-0.0055</td>\n",
              "    </tr>\n",
              "    <tr>\n",
              "      <th>2015-01-06</th>\n",
              "      <td>1882.45</td>\n",
              "      <td>1895.48</td>\n",
              "      <td>1900.02</td>\n",
              "      <td>1877.38</td>\n",
              "      <td>303690000.0</td>\n",
              "      <td>-0.0174</td>\n",
              "    </tr>\n",
              "    <tr>\n",
              "      <th>2015-01-07</th>\n",
              "      <td>1883.83</td>\n",
              "      <td>1878.90</td>\n",
              "      <td>1887.60</td>\n",
              "      <td>1876.27</td>\n",
              "      <td>280510000.0</td>\n",
              "      <td>0.0007</td>\n",
              "    </tr>\n",
              "    <tr>\n",
              "      <th>2015-01-08</th>\n",
              "      <td>1904.65</td>\n",
              "      <td>1895.85</td>\n",
              "      <td>1907.23</td>\n",
              "      <td>1891.77</td>\n",
              "      <td>262210000.0</td>\n",
              "      <td>0.0111</td>\n",
              "    </tr>\n",
              "    <tr>\n",
              "      <th>...</th>\n",
              "      <td>...</td>\n",
              "      <td>...</td>\n",
              "      <td>...</td>\n",
              "      <td>...</td>\n",
              "      <td>...</td>\n",
              "      <td>...</td>\n",
              "    </tr>\n",
              "    <tr>\n",
              "      <th>2022-07-11</th>\n",
              "      <td>2340.27</td>\n",
              "      <td>2357.43</td>\n",
              "      <td>2363.26</td>\n",
              "      <td>2337.82</td>\n",
              "      <td>377110000.0</td>\n",
              "      <td>-0.0044</td>\n",
              "    </tr>\n",
              "    <tr>\n",
              "      <th>2022-07-12</th>\n",
              "      <td>2317.76</td>\n",
              "      <td>2330.88</td>\n",
              "      <td>2333.02</td>\n",
              "      <td>2303.74</td>\n",
              "      <td>379310000.0</td>\n",
              "      <td>-0.0096</td>\n",
              "    </tr>\n",
              "    <tr>\n",
              "      <th>2022-07-13</th>\n",
              "      <td>2328.61</td>\n",
              "      <td>2324.45</td>\n",
              "      <td>2341.19</td>\n",
              "      <td>2312.49</td>\n",
              "      <td>308810000.0</td>\n",
              "      <td>0.0047</td>\n",
              "    </tr>\n",
              "    <tr>\n",
              "      <th>2022-07-14</th>\n",
              "      <td>2322.32</td>\n",
              "      <td>2316.41</td>\n",
              "      <td>2338.29</td>\n",
              "      <td>2307.69</td>\n",
              "      <td>349140000.0</td>\n",
              "      <td>-0.0027</td>\n",
              "    </tr>\n",
              "    <tr>\n",
              "      <th>2022-07-15</th>\n",
              "      <td>2330.98</td>\n",
              "      <td>2335.12</td>\n",
              "      <td>2337.30</td>\n",
              "      <td>2293.45</td>\n",
              "      <td>319680000.0</td>\n",
              "      <td>0.0037</td>\n",
              "    </tr>\n",
              "  </tbody>\n",
              "</table>\n",
              "<p>1855 rows × 6 columns</p>\n",
              "</div>\n",
              "      <button class=\"colab-df-convert\" onclick=\"convertToInteractive('df-b9dcb4d7-8abd-41df-b2e2-a2e2d607d2ed')\"\n",
              "              title=\"Convert this dataframe to an interactive table.\"\n",
              "              style=\"display:none;\">\n",
              "        \n",
              "  <svg xmlns=\"http://www.w3.org/2000/svg\" height=\"24px\"viewBox=\"0 0 24 24\"\n",
              "       width=\"24px\">\n",
              "    <path d=\"M0 0h24v24H0V0z\" fill=\"none\"/>\n",
              "    <path d=\"M18.56 5.44l.94 2.06.94-2.06 2.06-.94-2.06-.94-.94-2.06-.94 2.06-2.06.94zm-11 1L8.5 8.5l.94-2.06 2.06-.94-2.06-.94L8.5 2.5l-.94 2.06-2.06.94zm10 10l.94 2.06.94-2.06 2.06-.94-2.06-.94-.94-2.06-.94 2.06-2.06.94z\"/><path d=\"M17.41 7.96l-1.37-1.37c-.4-.4-.92-.59-1.43-.59-.52 0-1.04.2-1.43.59L10.3 9.45l-7.72 7.72c-.78.78-.78 2.05 0 2.83L4 21.41c.39.39.9.59 1.41.59.51 0 1.02-.2 1.41-.59l7.78-7.78 2.81-2.81c.8-.78.8-2.07 0-2.86zM5.41 20L4 18.59l7.72-7.72 1.47 1.35L5.41 20z\"/>\n",
              "  </svg>\n",
              "      </button>\n",
              "      \n",
              "  <style>\n",
              "    .colab-df-container {\n",
              "      display:flex;\n",
              "      flex-wrap:wrap;\n",
              "      gap: 12px;\n",
              "    }\n",
              "\n",
              "    .colab-df-convert {\n",
              "      background-color: #E8F0FE;\n",
              "      border: none;\n",
              "      border-radius: 50%;\n",
              "      cursor: pointer;\n",
              "      display: none;\n",
              "      fill: #1967D2;\n",
              "      height: 32px;\n",
              "      padding: 0 0 0 0;\n",
              "      width: 32px;\n",
              "    }\n",
              "\n",
              "    .colab-df-convert:hover {\n",
              "      background-color: #E2EBFA;\n",
              "      box-shadow: 0px 1px 2px rgba(60, 64, 67, 0.3), 0px 1px 3px 1px rgba(60, 64, 67, 0.15);\n",
              "      fill: #174EA6;\n",
              "    }\n",
              "\n",
              "    [theme=dark] .colab-df-convert {\n",
              "      background-color: #3B4455;\n",
              "      fill: #D2E3FC;\n",
              "    }\n",
              "\n",
              "    [theme=dark] .colab-df-convert:hover {\n",
              "      background-color: #434B5C;\n",
              "      box-shadow: 0px 1px 3px 1px rgba(0, 0, 0, 0.15);\n",
              "      filter: drop-shadow(0px 1px 2px rgba(0, 0, 0, 0.3));\n",
              "      fill: #FFFFFF;\n",
              "    }\n",
              "  </style>\n",
              "\n",
              "      <script>\n",
              "        const buttonEl =\n",
              "          document.querySelector('#df-b9dcb4d7-8abd-41df-b2e2-a2e2d607d2ed button.colab-df-convert');\n",
              "        buttonEl.style.display =\n",
              "          google.colab.kernel.accessAllowed ? 'block' : 'none';\n",
              "\n",
              "        async function convertToInteractive(key) {\n",
              "          const element = document.querySelector('#df-b9dcb4d7-8abd-41df-b2e2-a2e2d607d2ed');\n",
              "          const dataTable =\n",
              "            await google.colab.kernel.invokeFunction('convertToInteractive',\n",
              "                                                     [key], {});\n",
              "          if (!dataTable) return;\n",
              "\n",
              "          const docLinkHtml = 'Like what you see? Visit the ' +\n",
              "            '<a target=\"_blank\" href=https://colab.research.google.com/notebooks/data_table.ipynb>data table notebook</a>'\n",
              "            + ' to learn more about interactive tables.';\n",
              "          element.innerHTML = '';\n",
              "          dataTable['output_type'] = 'display_data';\n",
              "          await google.colab.output.renderOutput(dataTable, element);\n",
              "          const docLink = document.createElement('div');\n",
              "          docLink.innerHTML = docLinkHtml;\n",
              "          element.appendChild(docLink);\n",
              "        }\n",
              "      </script>\n",
              "    </div>\n",
              "  </div>\n",
              "  "
            ]
          },
          "metadata": {},
          "execution_count": 53
        }
      ]
    },
    {
      "cell_type": "code",
      "metadata": {
        "colab": {
          "base_uri": "https://localhost:8080/",
          "height": 237
        },
        "id": "5Mal0K9nOn99",
        "outputId": "a029971b-e0fb-477f-8e5c-e24cb3ed2029"
      },
      "source": [
        "# 원달러 환율, 1995년~현재\n",
        "df = fdr.DataReader('USD/KRW', '1995')\n",
        "df.head()"
      ],
      "execution_count": null,
      "outputs": [
        {
          "output_type": "execute_result",
          "data": {
            "text/plain": [
              "             Close    Open    High     Low  Change\n",
              "Date                                              \n",
              "1995-01-02  788.50  788.50  788.50  788.50  0.0000\n",
              "1995-01-03  788.65  788.05  788.85  787.55  0.0002\n",
              "1995-01-04  789.95  788.65  790.05  788.45  0.0016\n",
              "1995-01-05  789.90  789.80  790.20  789.30 -0.0001\n",
              "1995-01-06  791.55  789.75  791.65  789.65  0.0021"
            ],
            "text/html": [
              "\n",
              "  <div id=\"df-e2137926-1549-43b6-b91d-be0913dbdf19\">\n",
              "    <div class=\"colab-df-container\">\n",
              "      <div>\n",
              "<style scoped>\n",
              "    .dataframe tbody tr th:only-of-type {\n",
              "        vertical-align: middle;\n",
              "    }\n",
              "\n",
              "    .dataframe tbody tr th {\n",
              "        vertical-align: top;\n",
              "    }\n",
              "\n",
              "    .dataframe thead th {\n",
              "        text-align: right;\n",
              "    }\n",
              "</style>\n",
              "<table border=\"1\" class=\"dataframe\">\n",
              "  <thead>\n",
              "    <tr style=\"text-align: right;\">\n",
              "      <th></th>\n",
              "      <th>Close</th>\n",
              "      <th>Open</th>\n",
              "      <th>High</th>\n",
              "      <th>Low</th>\n",
              "      <th>Change</th>\n",
              "    </tr>\n",
              "    <tr>\n",
              "      <th>Date</th>\n",
              "      <th></th>\n",
              "      <th></th>\n",
              "      <th></th>\n",
              "      <th></th>\n",
              "      <th></th>\n",
              "    </tr>\n",
              "  </thead>\n",
              "  <tbody>\n",
              "    <tr>\n",
              "      <th>1995-01-02</th>\n",
              "      <td>788.50</td>\n",
              "      <td>788.50</td>\n",
              "      <td>788.50</td>\n",
              "      <td>788.50</td>\n",
              "      <td>0.0000</td>\n",
              "    </tr>\n",
              "    <tr>\n",
              "      <th>1995-01-03</th>\n",
              "      <td>788.65</td>\n",
              "      <td>788.05</td>\n",
              "      <td>788.85</td>\n",
              "      <td>787.55</td>\n",
              "      <td>0.0002</td>\n",
              "    </tr>\n",
              "    <tr>\n",
              "      <th>1995-01-04</th>\n",
              "      <td>789.95</td>\n",
              "      <td>788.65</td>\n",
              "      <td>790.05</td>\n",
              "      <td>788.45</td>\n",
              "      <td>0.0016</td>\n",
              "    </tr>\n",
              "    <tr>\n",
              "      <th>1995-01-05</th>\n",
              "      <td>789.90</td>\n",
              "      <td>789.80</td>\n",
              "      <td>790.20</td>\n",
              "      <td>789.30</td>\n",
              "      <td>-0.0001</td>\n",
              "    </tr>\n",
              "    <tr>\n",
              "      <th>1995-01-06</th>\n",
              "      <td>791.55</td>\n",
              "      <td>789.75</td>\n",
              "      <td>791.65</td>\n",
              "      <td>789.65</td>\n",
              "      <td>0.0021</td>\n",
              "    </tr>\n",
              "  </tbody>\n",
              "</table>\n",
              "</div>\n",
              "      <button class=\"colab-df-convert\" onclick=\"convertToInteractive('df-e2137926-1549-43b6-b91d-be0913dbdf19')\"\n",
              "              title=\"Convert this dataframe to an interactive table.\"\n",
              "              style=\"display:none;\">\n",
              "        \n",
              "  <svg xmlns=\"http://www.w3.org/2000/svg\" height=\"24px\"viewBox=\"0 0 24 24\"\n",
              "       width=\"24px\">\n",
              "    <path d=\"M0 0h24v24H0V0z\" fill=\"none\"/>\n",
              "    <path d=\"M18.56 5.44l.94 2.06.94-2.06 2.06-.94-2.06-.94-.94-2.06-.94 2.06-2.06.94zm-11 1L8.5 8.5l.94-2.06 2.06-.94-2.06-.94L8.5 2.5l-.94 2.06-2.06.94zm10 10l.94 2.06.94-2.06 2.06-.94-2.06-.94-.94-2.06-.94 2.06-2.06.94z\"/><path d=\"M17.41 7.96l-1.37-1.37c-.4-.4-.92-.59-1.43-.59-.52 0-1.04.2-1.43.59L10.3 9.45l-7.72 7.72c-.78.78-.78 2.05 0 2.83L4 21.41c.39.39.9.59 1.41.59.51 0 1.02-.2 1.41-.59l7.78-7.78 2.81-2.81c.8-.78.8-2.07 0-2.86zM5.41 20L4 18.59l7.72-7.72 1.47 1.35L5.41 20z\"/>\n",
              "  </svg>\n",
              "      </button>\n",
              "      \n",
              "  <style>\n",
              "    .colab-df-container {\n",
              "      display:flex;\n",
              "      flex-wrap:wrap;\n",
              "      gap: 12px;\n",
              "    }\n",
              "\n",
              "    .colab-df-convert {\n",
              "      background-color: #E8F0FE;\n",
              "      border: none;\n",
              "      border-radius: 50%;\n",
              "      cursor: pointer;\n",
              "      display: none;\n",
              "      fill: #1967D2;\n",
              "      height: 32px;\n",
              "      padding: 0 0 0 0;\n",
              "      width: 32px;\n",
              "    }\n",
              "\n",
              "    .colab-df-convert:hover {\n",
              "      background-color: #E2EBFA;\n",
              "      box-shadow: 0px 1px 2px rgba(60, 64, 67, 0.3), 0px 1px 3px 1px rgba(60, 64, 67, 0.15);\n",
              "      fill: #174EA6;\n",
              "    }\n",
              "\n",
              "    [theme=dark] .colab-df-convert {\n",
              "      background-color: #3B4455;\n",
              "      fill: #D2E3FC;\n",
              "    }\n",
              "\n",
              "    [theme=dark] .colab-df-convert:hover {\n",
              "      background-color: #434B5C;\n",
              "      box-shadow: 0px 1px 3px 1px rgba(0, 0, 0, 0.15);\n",
              "      filter: drop-shadow(0px 1px 2px rgba(0, 0, 0, 0.3));\n",
              "      fill: #FFFFFF;\n",
              "    }\n",
              "  </style>\n",
              "\n",
              "      <script>\n",
              "        const buttonEl =\n",
              "          document.querySelector('#df-e2137926-1549-43b6-b91d-be0913dbdf19 button.colab-df-convert');\n",
              "        buttonEl.style.display =\n",
              "          google.colab.kernel.accessAllowed ? 'block' : 'none';\n",
              "\n",
              "        async function convertToInteractive(key) {\n",
              "          const element = document.querySelector('#df-e2137926-1549-43b6-b91d-be0913dbdf19');\n",
              "          const dataTable =\n",
              "            await google.colab.kernel.invokeFunction('convertToInteractive',\n",
              "                                                     [key], {});\n",
              "          if (!dataTable) return;\n",
              "\n",
              "          const docLinkHtml = 'Like what you see? Visit the ' +\n",
              "            '<a target=\"_blank\" href=https://colab.research.google.com/notebooks/data_table.ipynb>data table notebook</a>'\n",
              "            + ' to learn more about interactive tables.';\n",
              "          element.innerHTML = '';\n",
              "          dataTable['output_type'] = 'display_data';\n",
              "          await google.colab.output.renderOutput(dataTable, element);\n",
              "          const docLink = document.createElement('div');\n",
              "          docLink.innerHTML = docLinkHtml;\n",
              "          element.appendChild(docLink);\n",
              "        }\n",
              "      </script>\n",
              "    </div>\n",
              "  </div>\n",
              "  "
            ]
          },
          "metadata": {},
          "execution_count": 54
        }
      ]
    },
    {
      "cell_type": "code",
      "metadata": {
        "colab": {
          "base_uri": "https://localhost:8080/",
          "height": 237
        },
        "id": "s-uEmWSGOo2V",
        "outputId": "5e6cb63b-b6f5-4117-883b-b5b5c4088b91"
      },
      "source": [
        "# 비트코인 원화 가격 (빗썸), 2016년~현재\n",
        "df = fdr.DataReader('BTC/KRW', '2016')\n",
        "df.head()"
      ],
      "execution_count": null,
      "outputs": [
        {
          "output_type": "execute_result",
          "data": {
            "text/plain": [
              "              Close     Open     High      Low   Volume  Change\n",
              "Date                                                           \n",
              "2017-05-23  3206000  3104000  3281000  3081000  21580.0  0.0329\n",
              "2017-05-24  4175000  3206000  4314000  3206000  34680.0  0.3022\n",
              "2017-05-25  4199000  4175000  4840000  3102000  35910.0  0.0057\n",
              "2017-05-26  3227000  4199000  4200000  2900000  36650.0 -0.2315\n",
              "2017-05-27  3152000  3227000  3288000  2460000  33750.0 -0.0232"
            ],
            "text/html": [
              "\n",
              "  <div id=\"df-bea99e4d-46a7-4c14-9f3b-88372d43584c\">\n",
              "    <div class=\"colab-df-container\">\n",
              "      <div>\n",
              "<style scoped>\n",
              "    .dataframe tbody tr th:only-of-type {\n",
              "        vertical-align: middle;\n",
              "    }\n",
              "\n",
              "    .dataframe tbody tr th {\n",
              "        vertical-align: top;\n",
              "    }\n",
              "\n",
              "    .dataframe thead th {\n",
              "        text-align: right;\n",
              "    }\n",
              "</style>\n",
              "<table border=\"1\" class=\"dataframe\">\n",
              "  <thead>\n",
              "    <tr style=\"text-align: right;\">\n",
              "      <th></th>\n",
              "      <th>Close</th>\n",
              "      <th>Open</th>\n",
              "      <th>High</th>\n",
              "      <th>Low</th>\n",
              "      <th>Volume</th>\n",
              "      <th>Change</th>\n",
              "    </tr>\n",
              "    <tr>\n",
              "      <th>Date</th>\n",
              "      <th></th>\n",
              "      <th></th>\n",
              "      <th></th>\n",
              "      <th></th>\n",
              "      <th></th>\n",
              "      <th></th>\n",
              "    </tr>\n",
              "  </thead>\n",
              "  <tbody>\n",
              "    <tr>\n",
              "      <th>2017-05-23</th>\n",
              "      <td>3206000</td>\n",
              "      <td>3104000</td>\n",
              "      <td>3281000</td>\n",
              "      <td>3081000</td>\n",
              "      <td>21580.0</td>\n",
              "      <td>0.0329</td>\n",
              "    </tr>\n",
              "    <tr>\n",
              "      <th>2017-05-24</th>\n",
              "      <td>4175000</td>\n",
              "      <td>3206000</td>\n",
              "      <td>4314000</td>\n",
              "      <td>3206000</td>\n",
              "      <td>34680.0</td>\n",
              "      <td>0.3022</td>\n",
              "    </tr>\n",
              "    <tr>\n",
              "      <th>2017-05-25</th>\n",
              "      <td>4199000</td>\n",
              "      <td>4175000</td>\n",
              "      <td>4840000</td>\n",
              "      <td>3102000</td>\n",
              "      <td>35910.0</td>\n",
              "      <td>0.0057</td>\n",
              "    </tr>\n",
              "    <tr>\n",
              "      <th>2017-05-26</th>\n",
              "      <td>3227000</td>\n",
              "      <td>4199000</td>\n",
              "      <td>4200000</td>\n",
              "      <td>2900000</td>\n",
              "      <td>36650.0</td>\n",
              "      <td>-0.2315</td>\n",
              "    </tr>\n",
              "    <tr>\n",
              "      <th>2017-05-27</th>\n",
              "      <td>3152000</td>\n",
              "      <td>3227000</td>\n",
              "      <td>3288000</td>\n",
              "      <td>2460000</td>\n",
              "      <td>33750.0</td>\n",
              "      <td>-0.0232</td>\n",
              "    </tr>\n",
              "  </tbody>\n",
              "</table>\n",
              "</div>\n",
              "      <button class=\"colab-df-convert\" onclick=\"convertToInteractive('df-bea99e4d-46a7-4c14-9f3b-88372d43584c')\"\n",
              "              title=\"Convert this dataframe to an interactive table.\"\n",
              "              style=\"display:none;\">\n",
              "        \n",
              "  <svg xmlns=\"http://www.w3.org/2000/svg\" height=\"24px\"viewBox=\"0 0 24 24\"\n",
              "       width=\"24px\">\n",
              "    <path d=\"M0 0h24v24H0V0z\" fill=\"none\"/>\n",
              "    <path d=\"M18.56 5.44l.94 2.06.94-2.06 2.06-.94-2.06-.94-.94-2.06-.94 2.06-2.06.94zm-11 1L8.5 8.5l.94-2.06 2.06-.94-2.06-.94L8.5 2.5l-.94 2.06-2.06.94zm10 10l.94 2.06.94-2.06 2.06-.94-2.06-.94-.94-2.06-.94 2.06-2.06.94z\"/><path d=\"M17.41 7.96l-1.37-1.37c-.4-.4-.92-.59-1.43-.59-.52 0-1.04.2-1.43.59L10.3 9.45l-7.72 7.72c-.78.78-.78 2.05 0 2.83L4 21.41c.39.39.9.59 1.41.59.51 0 1.02-.2 1.41-.59l7.78-7.78 2.81-2.81c.8-.78.8-2.07 0-2.86zM5.41 20L4 18.59l7.72-7.72 1.47 1.35L5.41 20z\"/>\n",
              "  </svg>\n",
              "      </button>\n",
              "      \n",
              "  <style>\n",
              "    .colab-df-container {\n",
              "      display:flex;\n",
              "      flex-wrap:wrap;\n",
              "      gap: 12px;\n",
              "    }\n",
              "\n",
              "    .colab-df-convert {\n",
              "      background-color: #E8F0FE;\n",
              "      border: none;\n",
              "      border-radius: 50%;\n",
              "      cursor: pointer;\n",
              "      display: none;\n",
              "      fill: #1967D2;\n",
              "      height: 32px;\n",
              "      padding: 0 0 0 0;\n",
              "      width: 32px;\n",
              "    }\n",
              "\n",
              "    .colab-df-convert:hover {\n",
              "      background-color: #E2EBFA;\n",
              "      box-shadow: 0px 1px 2px rgba(60, 64, 67, 0.3), 0px 1px 3px 1px rgba(60, 64, 67, 0.15);\n",
              "      fill: #174EA6;\n",
              "    }\n",
              "\n",
              "    [theme=dark] .colab-df-convert {\n",
              "      background-color: #3B4455;\n",
              "      fill: #D2E3FC;\n",
              "    }\n",
              "\n",
              "    [theme=dark] .colab-df-convert:hover {\n",
              "      background-color: #434B5C;\n",
              "      box-shadow: 0px 1px 3px 1px rgba(0, 0, 0, 0.15);\n",
              "      filter: drop-shadow(0px 1px 2px rgba(0, 0, 0, 0.3));\n",
              "      fill: #FFFFFF;\n",
              "    }\n",
              "  </style>\n",
              "\n",
              "      <script>\n",
              "        const buttonEl =\n",
              "          document.querySelector('#df-bea99e4d-46a7-4c14-9f3b-88372d43584c button.colab-df-convert');\n",
              "        buttonEl.style.display =\n",
              "          google.colab.kernel.accessAllowed ? 'block' : 'none';\n",
              "\n",
              "        async function convertToInteractive(key) {\n",
              "          const element = document.querySelector('#df-bea99e4d-46a7-4c14-9f3b-88372d43584c');\n",
              "          const dataTable =\n",
              "            await google.colab.kernel.invokeFunction('convertToInteractive',\n",
              "                                                     [key], {});\n",
              "          if (!dataTable) return;\n",
              "\n",
              "          const docLinkHtml = 'Like what you see? Visit the ' +\n",
              "            '<a target=\"_blank\" href=https://colab.research.google.com/notebooks/data_table.ipynb>data table notebook</a>'\n",
              "            + ' to learn more about interactive tables.';\n",
              "          element.innerHTML = '';\n",
              "          dataTable['output_type'] = 'display_data';\n",
              "          await google.colab.output.renderOutput(dataTable, element);\n",
              "          const docLink = document.createElement('div');\n",
              "          docLink.innerHTML = docLinkHtml;\n",
              "          element.appendChild(docLink);\n",
              "        }\n",
              "      </script>\n",
              "    </div>\n",
              "  </div>\n",
              "  "
            ]
          },
          "metadata": {},
          "execution_count": 55
        }
      ]
    },
    {
      "cell_type": "markdown",
      "metadata": {
        "id": "R08U3_oRsJko"
      },
      "source": [
        "#Quiz"
      ]
    },
    {
      "cell_type": "markdown",
      "metadata": {
        "id": "itS-xXPZqlzw"
      },
      "source": [
        "##Quiz #1"
      ]
    },
    {
      "cell_type": "markdown",
      "metadata": {
        "id": "NX8Vu1atqpmM"
      },
      "source": [
        "다음과 같은 문자열이 있을 때 해당 문자열을 데이트타임 타입으로 변환해보세요.  \n",
        "단, 아래의 문자열은 2021년 8월 7일을 의미합니다.\n",
        "\n",
        "```\n",
        "datetime_str = '07-08-2021'\n",
        "```"
      ]
    },
    {
      "cell_type": "code",
      "source": [
        "import datetime"
      ],
      "metadata": {
        "id": "zdK1Na6eACHg"
      },
      "execution_count": 25,
      "outputs": []
    },
    {
      "cell_type": "code",
      "source": [
        "datetime_str = '07-08-2021'"
      ],
      "metadata": {
        "id": "uxh7TUD9ADc9"
      },
      "execution_count": 26,
      "outputs": []
    },
    {
      "cell_type": "code",
      "source": [
        "format = '%d-%m-%Y' \n",
        "datetime_dt = datetime.datetime.strptime(datetime_str, format)\n",
        "print(datetime_dt)"
      ],
      "metadata": {
        "colab": {
          "base_uri": "https://localhost:8080/"
        },
        "id": "PWxqX4cw6YQI",
        "outputId": "d311802f-9a66-42d6-e639-ea2456efd9f1"
      },
      "execution_count": 27,
      "outputs": [
        {
          "output_type": "stream",
          "name": "stdout",
          "text": [
            "2021-08-07 00:00:00\n"
          ]
        }
      ]
    },
    {
      "cell_type": "markdown",
      "metadata": {
        "id": "XhCgXi5DrzqV"
      },
      "source": [
        "##Quiz #2"
      ]
    },
    {
      "cell_type": "markdown",
      "metadata": {
        "id": "xx8yppSCr2ZO"
      },
      "source": [
        "파이낸스데이터 리더 패키지를 사용하여 미코바이오메드 종목의 2020년 1월 8일부터 2021년 7월 1일까지의 데이터를 로드하여 출력해보세요.\n",
        "\n",
        "미코바이오메드의 종목 번호는 '214610'"
      ]
    },
    {
      "cell_type": "code",
      "source": [
        "import FinanceDataReader as fdr"
      ],
      "metadata": {
        "id": "Fr7tFCMT6XIq"
      },
      "execution_count": 28,
      "outputs": []
    },
    {
      "cell_type": "code",
      "source": [
        "df = fdr.DataReader('214610', '2020-1-8','2021-7-1')\n",
        "df.head()"
      ],
      "metadata": {
        "colab": {
          "base_uri": "https://localhost:8080/",
          "height": 237
        },
        "id": "FB7wUwrXAaZP",
        "outputId": "3f598821-54f0-42e9-ae5c-63bd077d9201"
      },
      "execution_count": 34,
      "outputs": [
        {
          "output_type": "execute_result",
          "data": {
            "text/plain": [
              "            Open  High   Low  Close  Volume    Change\n",
              "Date                                                 \n",
              "2020-01-08  6800  6800  6600   6800      82  0.000000\n",
              "2020-01-09  6800  6800  6400   6800       3  0.000000\n",
              "2020-01-10  6800  7200  6700   6800     331  0.000000\n",
              "2020-01-13  6800  7000  6650   6650    4723 -0.022059\n",
              "2020-01-14  6650  6800  6400   6790    3567  0.021053"
            ],
            "text/html": [
              "\n",
              "  <div id=\"df-fb85bf19-4965-4eb5-aee1-1d06e116e1f0\">\n",
              "    <div class=\"colab-df-container\">\n",
              "      <div>\n",
              "<style scoped>\n",
              "    .dataframe tbody tr th:only-of-type {\n",
              "        vertical-align: middle;\n",
              "    }\n",
              "\n",
              "    .dataframe tbody tr th {\n",
              "        vertical-align: top;\n",
              "    }\n",
              "\n",
              "    .dataframe thead th {\n",
              "        text-align: right;\n",
              "    }\n",
              "</style>\n",
              "<table border=\"1\" class=\"dataframe\">\n",
              "  <thead>\n",
              "    <tr style=\"text-align: right;\">\n",
              "      <th></th>\n",
              "      <th>Open</th>\n",
              "      <th>High</th>\n",
              "      <th>Low</th>\n",
              "      <th>Close</th>\n",
              "      <th>Volume</th>\n",
              "      <th>Change</th>\n",
              "    </tr>\n",
              "    <tr>\n",
              "      <th>Date</th>\n",
              "      <th></th>\n",
              "      <th></th>\n",
              "      <th></th>\n",
              "      <th></th>\n",
              "      <th></th>\n",
              "      <th></th>\n",
              "    </tr>\n",
              "  </thead>\n",
              "  <tbody>\n",
              "    <tr>\n",
              "      <th>2020-01-08</th>\n",
              "      <td>6800</td>\n",
              "      <td>6800</td>\n",
              "      <td>6600</td>\n",
              "      <td>6800</td>\n",
              "      <td>82</td>\n",
              "      <td>0.000000</td>\n",
              "    </tr>\n",
              "    <tr>\n",
              "      <th>2020-01-09</th>\n",
              "      <td>6800</td>\n",
              "      <td>6800</td>\n",
              "      <td>6400</td>\n",
              "      <td>6800</td>\n",
              "      <td>3</td>\n",
              "      <td>0.000000</td>\n",
              "    </tr>\n",
              "    <tr>\n",
              "      <th>2020-01-10</th>\n",
              "      <td>6800</td>\n",
              "      <td>7200</td>\n",
              "      <td>6700</td>\n",
              "      <td>6800</td>\n",
              "      <td>331</td>\n",
              "      <td>0.000000</td>\n",
              "    </tr>\n",
              "    <tr>\n",
              "      <th>2020-01-13</th>\n",
              "      <td>6800</td>\n",
              "      <td>7000</td>\n",
              "      <td>6650</td>\n",
              "      <td>6650</td>\n",
              "      <td>4723</td>\n",
              "      <td>-0.022059</td>\n",
              "    </tr>\n",
              "    <tr>\n",
              "      <th>2020-01-14</th>\n",
              "      <td>6650</td>\n",
              "      <td>6800</td>\n",
              "      <td>6400</td>\n",
              "      <td>6790</td>\n",
              "      <td>3567</td>\n",
              "      <td>0.021053</td>\n",
              "    </tr>\n",
              "  </tbody>\n",
              "</table>\n",
              "</div>\n",
              "      <button class=\"colab-df-convert\" onclick=\"convertToInteractive('df-fb85bf19-4965-4eb5-aee1-1d06e116e1f0')\"\n",
              "              title=\"Convert this dataframe to an interactive table.\"\n",
              "              style=\"display:none;\">\n",
              "        \n",
              "  <svg xmlns=\"http://www.w3.org/2000/svg\" height=\"24px\"viewBox=\"0 0 24 24\"\n",
              "       width=\"24px\">\n",
              "    <path d=\"M0 0h24v24H0V0z\" fill=\"none\"/>\n",
              "    <path d=\"M18.56 5.44l.94 2.06.94-2.06 2.06-.94-2.06-.94-.94-2.06-.94 2.06-2.06.94zm-11 1L8.5 8.5l.94-2.06 2.06-.94-2.06-.94L8.5 2.5l-.94 2.06-2.06.94zm10 10l.94 2.06.94-2.06 2.06-.94-2.06-.94-.94-2.06-.94 2.06-2.06.94z\"/><path d=\"M17.41 7.96l-1.37-1.37c-.4-.4-.92-.59-1.43-.59-.52 0-1.04.2-1.43.59L10.3 9.45l-7.72 7.72c-.78.78-.78 2.05 0 2.83L4 21.41c.39.39.9.59 1.41.59.51 0 1.02-.2 1.41-.59l7.78-7.78 2.81-2.81c.8-.78.8-2.07 0-2.86zM5.41 20L4 18.59l7.72-7.72 1.47 1.35L5.41 20z\"/>\n",
              "  </svg>\n",
              "      </button>\n",
              "      \n",
              "  <style>\n",
              "    .colab-df-container {\n",
              "      display:flex;\n",
              "      flex-wrap:wrap;\n",
              "      gap: 12px;\n",
              "    }\n",
              "\n",
              "    .colab-df-convert {\n",
              "      background-color: #E8F0FE;\n",
              "      border: none;\n",
              "      border-radius: 50%;\n",
              "      cursor: pointer;\n",
              "      display: none;\n",
              "      fill: #1967D2;\n",
              "      height: 32px;\n",
              "      padding: 0 0 0 0;\n",
              "      width: 32px;\n",
              "    }\n",
              "\n",
              "    .colab-df-convert:hover {\n",
              "      background-color: #E2EBFA;\n",
              "      box-shadow: 0px 1px 2px rgba(60, 64, 67, 0.3), 0px 1px 3px 1px rgba(60, 64, 67, 0.15);\n",
              "      fill: #174EA6;\n",
              "    }\n",
              "\n",
              "    [theme=dark] .colab-df-convert {\n",
              "      background-color: #3B4455;\n",
              "      fill: #D2E3FC;\n",
              "    }\n",
              "\n",
              "    [theme=dark] .colab-df-convert:hover {\n",
              "      background-color: #434B5C;\n",
              "      box-shadow: 0px 1px 3px 1px rgba(0, 0, 0, 0.15);\n",
              "      filter: drop-shadow(0px 1px 2px rgba(0, 0, 0, 0.3));\n",
              "      fill: #FFFFFF;\n",
              "    }\n",
              "  </style>\n",
              "\n",
              "      <script>\n",
              "        const buttonEl =\n",
              "          document.querySelector('#df-fb85bf19-4965-4eb5-aee1-1d06e116e1f0 button.colab-df-convert');\n",
              "        buttonEl.style.display =\n",
              "          google.colab.kernel.accessAllowed ? 'block' : 'none';\n",
              "\n",
              "        async function convertToInteractive(key) {\n",
              "          const element = document.querySelector('#df-fb85bf19-4965-4eb5-aee1-1d06e116e1f0');\n",
              "          const dataTable =\n",
              "            await google.colab.kernel.invokeFunction('convertToInteractive',\n",
              "                                                     [key], {});\n",
              "          if (!dataTable) return;\n",
              "\n",
              "          const docLinkHtml = 'Like what you see? Visit the ' +\n",
              "            '<a target=\"_blank\" href=https://colab.research.google.com/notebooks/data_table.ipynb>data table notebook</a>'\n",
              "            + ' to learn more about interactive tables.';\n",
              "          element.innerHTML = '';\n",
              "          dataTable['output_type'] = 'display_data';\n",
              "          await google.colab.output.renderOutput(dataTable, element);\n",
              "          const docLink = document.createElement('div');\n",
              "          docLink.innerHTML = docLinkHtml;\n",
              "          element.appendChild(docLink);\n",
              "        }\n",
              "      </script>\n",
              "    </div>\n",
              "  </div>\n",
              "  "
            ]
          },
          "metadata": {},
          "execution_count": 34
        }
      ]
    },
    {
      "cell_type": "code",
      "source": [
        "df.tail()"
      ],
      "metadata": {
        "colab": {
          "base_uri": "https://localhost:8080/",
          "height": 237
        },
        "id": "41Vknw_1AqKW",
        "outputId": "d5721a13-b021-4142-fff1-7bf82af7e0d3"
      },
      "execution_count": 33,
      "outputs": [
        {
          "output_type": "execute_result",
          "data": {
            "text/plain": [
              "             Open   High    Low  Close   Volume    Change\n",
              "Date                                                     \n",
              "2021-06-25  16200  16350  15850  16000   204720  0.003135\n",
              "2021-06-28  16100  16350  15900  16100   205914  0.006250\n",
              "2021-06-29  16300  20150  15400  15450  4021033 -0.040373\n",
              "2021-06-30  15450  15800  15200  15500   397913  0.003236\n",
              "2021-07-01  15650  16650  15600  16200   646405  0.045161"
            ],
            "text/html": [
              "\n",
              "  <div id=\"df-64c66446-4be3-4a1b-a852-4f76c9e0288b\">\n",
              "    <div class=\"colab-df-container\">\n",
              "      <div>\n",
              "<style scoped>\n",
              "    .dataframe tbody tr th:only-of-type {\n",
              "        vertical-align: middle;\n",
              "    }\n",
              "\n",
              "    .dataframe tbody tr th {\n",
              "        vertical-align: top;\n",
              "    }\n",
              "\n",
              "    .dataframe thead th {\n",
              "        text-align: right;\n",
              "    }\n",
              "</style>\n",
              "<table border=\"1\" class=\"dataframe\">\n",
              "  <thead>\n",
              "    <tr style=\"text-align: right;\">\n",
              "      <th></th>\n",
              "      <th>Open</th>\n",
              "      <th>High</th>\n",
              "      <th>Low</th>\n",
              "      <th>Close</th>\n",
              "      <th>Volume</th>\n",
              "      <th>Change</th>\n",
              "    </tr>\n",
              "    <tr>\n",
              "      <th>Date</th>\n",
              "      <th></th>\n",
              "      <th></th>\n",
              "      <th></th>\n",
              "      <th></th>\n",
              "      <th></th>\n",
              "      <th></th>\n",
              "    </tr>\n",
              "  </thead>\n",
              "  <tbody>\n",
              "    <tr>\n",
              "      <th>2021-06-25</th>\n",
              "      <td>16200</td>\n",
              "      <td>16350</td>\n",
              "      <td>15850</td>\n",
              "      <td>16000</td>\n",
              "      <td>204720</td>\n",
              "      <td>0.003135</td>\n",
              "    </tr>\n",
              "    <tr>\n",
              "      <th>2021-06-28</th>\n",
              "      <td>16100</td>\n",
              "      <td>16350</td>\n",
              "      <td>15900</td>\n",
              "      <td>16100</td>\n",
              "      <td>205914</td>\n",
              "      <td>0.006250</td>\n",
              "    </tr>\n",
              "    <tr>\n",
              "      <th>2021-06-29</th>\n",
              "      <td>16300</td>\n",
              "      <td>20150</td>\n",
              "      <td>15400</td>\n",
              "      <td>15450</td>\n",
              "      <td>4021033</td>\n",
              "      <td>-0.040373</td>\n",
              "    </tr>\n",
              "    <tr>\n",
              "      <th>2021-06-30</th>\n",
              "      <td>15450</td>\n",
              "      <td>15800</td>\n",
              "      <td>15200</td>\n",
              "      <td>15500</td>\n",
              "      <td>397913</td>\n",
              "      <td>0.003236</td>\n",
              "    </tr>\n",
              "    <tr>\n",
              "      <th>2021-07-01</th>\n",
              "      <td>15650</td>\n",
              "      <td>16650</td>\n",
              "      <td>15600</td>\n",
              "      <td>16200</td>\n",
              "      <td>646405</td>\n",
              "      <td>0.045161</td>\n",
              "    </tr>\n",
              "  </tbody>\n",
              "</table>\n",
              "</div>\n",
              "      <button class=\"colab-df-convert\" onclick=\"convertToInteractive('df-64c66446-4be3-4a1b-a852-4f76c9e0288b')\"\n",
              "              title=\"Convert this dataframe to an interactive table.\"\n",
              "              style=\"display:none;\">\n",
              "        \n",
              "  <svg xmlns=\"http://www.w3.org/2000/svg\" height=\"24px\"viewBox=\"0 0 24 24\"\n",
              "       width=\"24px\">\n",
              "    <path d=\"M0 0h24v24H0V0z\" fill=\"none\"/>\n",
              "    <path d=\"M18.56 5.44l.94 2.06.94-2.06 2.06-.94-2.06-.94-.94-2.06-.94 2.06-2.06.94zm-11 1L8.5 8.5l.94-2.06 2.06-.94-2.06-.94L8.5 2.5l-.94 2.06-2.06.94zm10 10l.94 2.06.94-2.06 2.06-.94-2.06-.94-.94-2.06-.94 2.06-2.06.94z\"/><path d=\"M17.41 7.96l-1.37-1.37c-.4-.4-.92-.59-1.43-.59-.52 0-1.04.2-1.43.59L10.3 9.45l-7.72 7.72c-.78.78-.78 2.05 0 2.83L4 21.41c.39.39.9.59 1.41.59.51 0 1.02-.2 1.41-.59l7.78-7.78 2.81-2.81c.8-.78.8-2.07 0-2.86zM5.41 20L4 18.59l7.72-7.72 1.47 1.35L5.41 20z\"/>\n",
              "  </svg>\n",
              "      </button>\n",
              "      \n",
              "  <style>\n",
              "    .colab-df-container {\n",
              "      display:flex;\n",
              "      flex-wrap:wrap;\n",
              "      gap: 12px;\n",
              "    }\n",
              "\n",
              "    .colab-df-convert {\n",
              "      background-color: #E8F0FE;\n",
              "      border: none;\n",
              "      border-radius: 50%;\n",
              "      cursor: pointer;\n",
              "      display: none;\n",
              "      fill: #1967D2;\n",
              "      height: 32px;\n",
              "      padding: 0 0 0 0;\n",
              "      width: 32px;\n",
              "    }\n",
              "\n",
              "    .colab-df-convert:hover {\n",
              "      background-color: #E2EBFA;\n",
              "      box-shadow: 0px 1px 2px rgba(60, 64, 67, 0.3), 0px 1px 3px 1px rgba(60, 64, 67, 0.15);\n",
              "      fill: #174EA6;\n",
              "    }\n",
              "\n",
              "    [theme=dark] .colab-df-convert {\n",
              "      background-color: #3B4455;\n",
              "      fill: #D2E3FC;\n",
              "    }\n",
              "\n",
              "    [theme=dark] .colab-df-convert:hover {\n",
              "      background-color: #434B5C;\n",
              "      box-shadow: 0px 1px 3px 1px rgba(0, 0, 0, 0.15);\n",
              "      filter: drop-shadow(0px 1px 2px rgba(0, 0, 0, 0.3));\n",
              "      fill: #FFFFFF;\n",
              "    }\n",
              "  </style>\n",
              "\n",
              "      <script>\n",
              "        const buttonEl =\n",
              "          document.querySelector('#df-64c66446-4be3-4a1b-a852-4f76c9e0288b button.colab-df-convert');\n",
              "        buttonEl.style.display =\n",
              "          google.colab.kernel.accessAllowed ? 'block' : 'none';\n",
              "\n",
              "        async function convertToInteractive(key) {\n",
              "          const element = document.querySelector('#df-64c66446-4be3-4a1b-a852-4f76c9e0288b');\n",
              "          const dataTable =\n",
              "            await google.colab.kernel.invokeFunction('convertToInteractive',\n",
              "                                                     [key], {});\n",
              "          if (!dataTable) return;\n",
              "\n",
              "          const docLinkHtml = 'Like what you see? Visit the ' +\n",
              "            '<a target=\"_blank\" href=https://colab.research.google.com/notebooks/data_table.ipynb>data table notebook</a>'\n",
              "            + ' to learn more about interactive tables.';\n",
              "          element.innerHTML = '';\n",
              "          dataTable['output_type'] = 'display_data';\n",
              "          await google.colab.output.renderOutput(dataTable, element);\n",
              "          const docLink = document.createElement('div');\n",
              "          docLink.innerHTML = docLinkHtml;\n",
              "          element.appendChild(docLink);\n",
              "        }\n",
              "      </script>\n",
              "    </div>\n",
              "  </div>\n",
              "  "
            ]
          },
          "metadata": {},
          "execution_count": 33
        }
      ]
    },
    {
      "cell_type": "markdown",
      "metadata": {
        "id": "hitLU7nYswvH"
      },
      "source": [
        "##Quiz #3"
      ]
    },
    {
      "cell_type": "markdown",
      "metadata": {
        "id": "72GiT_hhsyT7"
      },
      "source": [
        "파이썬 패키지 Numpy를 사용하여 2021년 3월 1일부터 2021년 7월 1일 사이의 모든 일자를 출력하세요. 단, 7월 1일도 포함해야 합니다."
      ]
    },
    {
      "cell_type": "code",
      "source": [
        "import numpy as np"
      ],
      "metadata": {
        "id": "c5v_hYQN6VXS"
      },
      "execution_count": 35,
      "outputs": []
    },
    {
      "cell_type": "code",
      "source": [
        "np.arange('2021-03-01', '2021-07-02', dtype='datetime64[D]')"
      ],
      "metadata": {
        "colab": {
          "base_uri": "https://localhost:8080/"
        },
        "id": "qWAQe_5JA2Es",
        "outputId": "776f18e6-99ac-4b10-f1f4-c74e03dac92c"
      },
      "execution_count": 38,
      "outputs": [
        {
          "output_type": "execute_result",
          "data": {
            "text/plain": [
              "array(['2021-03-01', '2021-03-02', '2021-03-03', '2021-03-04',\n",
              "       '2021-03-05', '2021-03-06', '2021-03-07', '2021-03-08',\n",
              "       '2021-03-09', '2021-03-10', '2021-03-11', '2021-03-12',\n",
              "       '2021-03-13', '2021-03-14', '2021-03-15', '2021-03-16',\n",
              "       '2021-03-17', '2021-03-18', '2021-03-19', '2021-03-20',\n",
              "       '2021-03-21', '2021-03-22', '2021-03-23', '2021-03-24',\n",
              "       '2021-03-25', '2021-03-26', '2021-03-27', '2021-03-28',\n",
              "       '2021-03-29', '2021-03-30', '2021-03-31', '2021-04-01',\n",
              "       '2021-04-02', '2021-04-03', '2021-04-04', '2021-04-05',\n",
              "       '2021-04-06', '2021-04-07', '2021-04-08', '2021-04-09',\n",
              "       '2021-04-10', '2021-04-11', '2021-04-12', '2021-04-13',\n",
              "       '2021-04-14', '2021-04-15', '2021-04-16', '2021-04-17',\n",
              "       '2021-04-18', '2021-04-19', '2021-04-20', '2021-04-21',\n",
              "       '2021-04-22', '2021-04-23', '2021-04-24', '2021-04-25',\n",
              "       '2021-04-26', '2021-04-27', '2021-04-28', '2021-04-29',\n",
              "       '2021-04-30', '2021-05-01', '2021-05-02', '2021-05-03',\n",
              "       '2021-05-04', '2021-05-05', '2021-05-06', '2021-05-07',\n",
              "       '2021-05-08', '2021-05-09', '2021-05-10', '2021-05-11',\n",
              "       '2021-05-12', '2021-05-13', '2021-05-14', '2021-05-15',\n",
              "       '2021-05-16', '2021-05-17', '2021-05-18', '2021-05-19',\n",
              "       '2021-05-20', '2021-05-21', '2021-05-22', '2021-05-23',\n",
              "       '2021-05-24', '2021-05-25', '2021-05-26', '2021-05-27',\n",
              "       '2021-05-28', '2021-05-29', '2021-05-30', '2021-05-31',\n",
              "       '2021-06-01', '2021-06-02', '2021-06-03', '2021-06-04',\n",
              "       '2021-06-05', '2021-06-06', '2021-06-07', '2021-06-08',\n",
              "       '2021-06-09', '2021-06-10', '2021-06-11', '2021-06-12',\n",
              "       '2021-06-13', '2021-06-14', '2021-06-15', '2021-06-16',\n",
              "       '2021-06-17', '2021-06-18', '2021-06-19', '2021-06-20',\n",
              "       '2021-06-21', '2021-06-22', '2021-06-23', '2021-06-24',\n",
              "       '2021-06-25', '2021-06-26', '2021-06-27', '2021-06-28',\n",
              "       '2021-06-29', '2021-06-30', '2021-07-01'], dtype='datetime64[D]')"
            ]
          },
          "metadata": {},
          "execution_count": 38
        }
      ]
    }
  ]
}