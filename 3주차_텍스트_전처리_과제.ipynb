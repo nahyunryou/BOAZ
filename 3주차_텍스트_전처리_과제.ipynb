{
  "nbformat": 4,
  "nbformat_minor": 0,
  "metadata": {
    "colab": {
      "name": "3주차 텍스트 전처리 과제.ipynb",
      "private_outputs": true,
      "provenance": []
    },
    "kernelspec": {
      "name": "python3",
      "display_name": "Python 3"
    },
    "language_info": {
      "name": "python"
    }
  },
  "cells": [
    {
      "cell_type": "code",
      "source": [
        "!pip install konlpy"
      ],
      "metadata": {
        "id": "ZhnpAWl7diHM"
      },
      "execution_count": null,
      "outputs": []
    },
    {
      "cell_type": "code",
      "execution_count": null,
      "metadata": {
        "id": "dyi0TrVpcaWX"
      },
      "outputs": [],
      "source": [
        "import nltk\n",
        "import konlpy\n",
        "from konlpy.corpus import kobill"
      ]
    },
    {
      "cell_type": "code",
      "source": [
        "files_ko = kobill.fileids()\n",
        "files_ko"
      ],
      "metadata": {
        "id": "2fn5HJ2_ddJ_"
      },
      "execution_count": null,
      "outputs": []
    },
    {
      "cell_type": "code",
      "source": [
        "doc_ko = kobill.open('1809898.txt').read()\n",
        "doc_ko"
      ],
      "metadata": {
        "id": "FDOJknJ_eUC4"
      },
      "execution_count": null,
      "outputs": []
    },
    {
      "cell_type": "code",
      "source": [
        "from konlpy.tag import Okt\n",
        "okt=Okt()\n",
        "\n",
        "nouns = okt.nouns(doc_ko)\n",
        "nouns"
      ],
      "metadata": {
        "id": "wKs-VwnHecAg"
      },
      "execution_count": null,
      "outputs": []
    },
    {
      "cell_type": "code",
      "source": [
        "ko = nltk.Text(nouns, name = '의안 제1809898호')\n",
        "print(len(ko))\n",
        "print(len(set(ko.tokens))) # 중복제거\n",
        "ko.vocab() # 단어별 빈도"
      ],
      "metadata": {
        "id": "hlOgazaOeneq"
      },
      "execution_count": null,
      "outputs": []
    },
    {
      "cell_type": "code",
      "source": [
        "!sudo apt-get install -y fonts-nanum\n",
        "!sudo fc-cache -fv\n",
        "!rm ~/.cache/matplotlib -rf"
      ],
      "metadata": {
        "id": "fR1v14qtfYpd"
      },
      "execution_count": null,
      "outputs": []
    },
    {
      "cell_type": "code",
      "source": [
        "import matplotlib.pyplot as plt\n",
        "plt.rc('font', family= 'NanumBarunGothic')"
      ],
      "metadata": {
        "id": "V9CtGyD1fmxM"
      },
      "execution_count": null,
      "outputs": []
    },
    {
      "cell_type": "code",
      "source": [
        "plt.figure(figsize=(12,6))\n",
        "ko.plot(50) # 많이 등장한 단어 50개 순\n",
        "plt.show()"
      ],
      "metadata": {
        "id": "bf0pT7V-f2bO"
      },
      "execution_count": null,
      "outputs": []
    },
    {
      "cell_type": "code",
      "source": [
        "!pip install wordcloud"
      ],
      "metadata": {
        "id": "EJ5ZkAGSf9X4"
      },
      "execution_count": null,
      "outputs": []
    },
    {
      "cell_type": "markdown",
      "source": [
        "from wordcloud import WordCloud\n",
        "\n",
        "stopwords = ['척', '나' , '계', '비' , '함', '및', '합', '호' , '간'] #stopword 지정\n",
        "ko = [each_word for each_word in ko if each_word not in stopwords]\n",
        "ko"
      ],
      "metadata": {
        "id": "2VX8FLDchKpu"
      }
    },
    {
      "cell_type": "code",
      "source": [
        "data = ko.vocab().most_common(30) # 최빈도 단어 30개 추출\n",
        "wordcloud = WordCloud(font_path='Library/Fonts/NanumBarunGothic',\n",
        "                     background_color='white').generate_from_frequencies(dict(data))\n",
        "\n",
        "plt.figure(figsize=(12,8))\n",
        "plt.imshow(wordcloud)\n",
        "plt.axis('off')\n",
        "#plt.savefig('wordcloud.jpg') 사진으로 저장\n",
        "plt.show()"
      ],
      "metadata": {
        "id": "ik-W-5K8goEw"
      },
      "execution_count": null,
      "outputs": []
    },
    {
      "cell_type": "code",
      "source": [
        "from PIL import Image\n",
        "import numpy as np"
      ],
      "metadata": {
        "id": "n7uug0ITg3Qm"
      },
      "execution_count": null,
      "outputs": []
    },
    {
      "cell_type": "code",
      "source": [
        "from google.colab import files\n",
        "files.upload()"
      ],
      "metadata": {
        "id": "dcMgKi7Ohryo"
      },
      "execution_count": null,
      "outputs": []
    },
    {
      "cell_type": "code",
      "source": [
        "ls"
      ],
      "metadata": {
        "id": "47oLdo2yh8ak"
      },
      "execution_count": null,
      "outputs": []
    },
    {
      "cell_type": "code",
      "source": [
        "img = Image.open('구름.png')\n",
        "imgArray = np.array(img)\n",
        "imgArray"
      ],
      "metadata": {
        "id": "jQRSIx13hsxE"
      },
      "execution_count": null,
      "outputs": []
    },
    {
      "cell_type": "code",
      "source": [
        "data = ko.vocab().most_common(30)\n",
        "\n",
        "wordcloud = WordCloud(font_path = 'Library/Fonts/NanumBarunGothic.ttf',\n",
        "                      width = 500,\n",
        "                      height = 500,\n",
        "                      max_font_size=200,\n",
        "                      background_color='white',\n",
        "                      colormap='Blues',\n",
        "                      mask=imgArray).generate_from_frequencies(dict(data))\n",
        "\n",
        "plt.figure(figsize=(12,8))\n",
        "plt.imshow(wordcloud)\n",
        "plt.axis('off')\n",
        "plt.show()"
      ],
      "metadata": {
        "id": "j3v40xkeh2q-"
      },
      "execution_count": null,
      "outputs": []
    },
    {
      "cell_type": "code",
      "source": [
        ""
      ],
      "metadata": {
        "id": "8YsH0XiDiNFF"
      },
      "execution_count": null,
      "outputs": []
    }
  ]
}