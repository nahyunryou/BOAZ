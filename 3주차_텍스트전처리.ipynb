{
  "cells": [
    {
      "cell_type": "markdown",
      "id": "6081fd05",
      "metadata": {
        "id": "6081fd05"
      },
      "source": [
        "# 텍스트 전처리"
      ]
    },
    {
      "cell_type": "markdown",
      "id": "b1cc9487",
      "metadata": {
        "id": "b1cc9487"
      },
      "source": [
        "## 토큰화"
      ]
    },
    {
      "cell_type": "markdown",
      "id": "4972eaa4",
      "metadata": {
        "id": "4972eaa4"
      },
      "source": [
        "**\"Don't be fooled by the dark sounding name, Mr.Jone's Orpahanage is as cheery cherry goes for a pastry shop\"**"
      ]
    },
    {
      "cell_type": "code",
      "source": [
        "!pip install nltk"
      ],
      "metadata": {
        "colab": {
          "base_uri": "https://localhost:8080/"
        },
        "id": "lQI1164dH2zG",
        "outputId": "bd827730-43d0-40cf-eb9d-3afb8f8279bd"
      },
      "id": "lQI1164dH2zG",
      "execution_count": 3,
      "outputs": [
        {
          "output_type": "stream",
          "name": "stdout",
          "text": [
            "Looking in indexes: https://pypi.org/simple, https://us-python.pkg.dev/colab-wheels/public/simple/\n",
            "Requirement already satisfied: nltk in /usr/local/lib/python3.7/dist-packages (3.7)\n",
            "Requirement already satisfied: regex>=2021.8.3 in /usr/local/lib/python3.7/dist-packages (from nltk) (2022.6.2)\n",
            "Requirement already satisfied: tqdm in /usr/local/lib/python3.7/dist-packages (from nltk) (4.64.0)\n",
            "Requirement already satisfied: click in /usr/local/lib/python3.7/dist-packages (from nltk) (7.1.2)\n",
            "Requirement already satisfied: joblib in /usr/local/lib/python3.7/dist-packages (from nltk) (1.1.0)\n"
          ]
        }
      ]
    },
    {
      "cell_type": "code",
      "source": [
        "import nltk"
      ],
      "metadata": {
        "id": "azVp0akiH9K3"
      },
      "id": "azVp0akiH9K3",
      "execution_count": 1,
      "outputs": []
    },
    {
      "cell_type": "code",
      "execution_count": 4,
      "id": "514c3a5e",
      "metadata": {
        "colab": {
          "base_uri": "https://localhost:8080/"
        },
        "id": "514c3a5e",
        "outputId": "a506bf3c-e803-4901-a28d-436a912a2103"
      },
      "outputs": [
        {
          "output_type": "stream",
          "name": "stdout",
          "text": [
            "Looking in indexes: https://pypi.org/simple, https://us-python.pkg.dev/colab-wheels/public/simple/\n",
            "Collecting konlpy\n",
            "  Downloading konlpy-0.6.0-py2.py3-none-any.whl (19.4 MB)\n",
            "\u001b[K     |████████████████████████████████| 19.4 MB 1.2 MB/s \n",
            "\u001b[?25hRequirement already satisfied: numpy>=1.6 in /usr/local/lib/python3.7/dist-packages (from konlpy) (1.21.6)\n",
            "Collecting JPype1>=0.7.0\n",
            "  Downloading JPype1-1.4.0-cp37-cp37m-manylinux_2_5_x86_64.manylinux1_x86_64.whl (453 kB)\n",
            "\u001b[K     |████████████████████████████████| 453 kB 49.9 MB/s \n",
            "\u001b[?25hRequirement already satisfied: lxml>=4.1.0 in /usr/local/lib/python3.7/dist-packages (from konlpy) (4.9.1)\n",
            "Requirement already satisfied: typing-extensions in /usr/local/lib/python3.7/dist-packages (from JPype1>=0.7.0->konlpy) (4.1.1)\n",
            "Installing collected packages: JPype1, konlpy\n",
            "Successfully installed JPype1-1.4.0 konlpy-0.6.0\n"
          ]
        }
      ],
      "source": [
        "!pip install konlpy"
      ]
    },
    {
      "cell_type": "code",
      "source": [
        "import konlpy"
      ],
      "metadata": {
        "id": "Dgl0aWjqGoVd"
      },
      "id": "Dgl0aWjqGoVd",
      "execution_count": 2,
      "outputs": []
    },
    {
      "cell_type": "code",
      "source": [
        "import nltk\n",
        "nltk.download('punkt')"
      ],
      "metadata": {
        "colab": {
          "base_uri": "https://localhost:8080/"
        },
        "id": "thZsmzfTIEcY",
        "outputId": "4ee42e7c-6b46-41e9-87fb-77dd4fc25a3d"
      },
      "id": "thZsmzfTIEcY",
      "execution_count": 8,
      "outputs": [
        {
          "output_type": "stream",
          "name": "stderr",
          "text": [
            "[nltk_data] Downloading package punkt to /root/nltk_data...\n",
            "[nltk_data]   Unzipping tokenizers/punkt.zip.\n"
          ]
        },
        {
          "output_type": "execute_result",
          "data": {
            "text/plain": [
              "True"
            ]
          },
          "metadata": {},
          "execution_count": 8
        }
      ]
    },
    {
      "cell_type": "code",
      "execution_count": 9,
      "id": "699b6aef",
      "metadata": {
        "colab": {
          "base_uri": "https://localhost:8080/"
        },
        "id": "699b6aef",
        "outputId": "085fb0ec-0463-451c-d2cc-4cbdd0adb521"
      },
      "outputs": [
        {
          "output_type": "stream",
          "name": "stdout",
          "text": [
            "['Do', \"n't\", 'be', 'fooled', 'by', 'the', 'dark', 'sounding', 'name', ',', 'Mr.Jone', \"'s\", 'Orpahanage', 'is', 'as', 'cheery', 'cherry', 'goes', 'for', 'a', 'pastry', 'shop']\n"
          ]
        }
      ],
      "source": [
        "import nltk\n",
        "from nltk.tokenize import word_tokenize\n",
        "\n",
        "print(word_tokenize(\"Don't be fooled by the dark sounding name, Mr.Jone's Orpahanage is as cheery cherry goes for a pastry shop\"))"
      ]
    },
    {
      "cell_type": "markdown",
      "id": "0b5c8528",
      "metadata": {
        "id": "0b5c8528"
      },
      "source": [
        "**\"Starting a home-based restaurant may be an ideal. it doesn't have a food chain or restaurant of their own.\"**"
      ]
    },
    {
      "cell_type": "code",
      "execution_count": 10,
      "id": "f2eccffa",
      "metadata": {
        "id": "f2eccffa"
      },
      "outputs": [],
      "source": [
        "import nltk\n",
        "from nltk.tokenize import TreebankWordTokenizer #표준으로 쓰이는중"
      ]
    },
    {
      "cell_type": "code",
      "source": [
        "tokenizer = TreebankWordTokenizer()\n",
        "\n",
        "text = \"Don't be fooled by the dark sounding name, Mr.Jone's Orpahanage is as cheery cherry goes for a pastry shop\"\n",
        "tokenizer.tokenize(text)"
      ],
      "metadata": {
        "colab": {
          "base_uri": "https://localhost:8080/"
        },
        "id": "wx0IyyPnIZTj",
        "outputId": "1be39cae-bd81-4482-fcf9-45f3bc4b96bb"
      },
      "id": "wx0IyyPnIZTj",
      "execution_count": 11,
      "outputs": [
        {
          "output_type": "execute_result",
          "data": {
            "text/plain": [
              "['Do',\n",
              " \"n't\",\n",
              " 'be',\n",
              " 'fooled',\n",
              " 'by',\n",
              " 'the',\n",
              " 'dark',\n",
              " 'sounding',\n",
              " 'name',\n",
              " ',',\n",
              " 'Mr.Jone',\n",
              " \"'s\",\n",
              " 'Orpahanage',\n",
              " 'is',\n",
              " 'as',\n",
              " 'cheery',\n",
              " 'cherry',\n",
              " 'goes',\n",
              " 'for',\n",
              " 'a',\n",
              " 'pastry',\n",
              " 'shop']"
            ]
          },
          "metadata": {},
          "execution_count": 11
        }
      ]
    },
    {
      "cell_type": "markdown",
      "id": "ced2f0f6",
      "metadata": {
        "id": "ced2f0f6"
      },
      "source": [
        "**\"I am actively looking for Ph.D.students. and you are a Ph.D.student.\"**"
      ]
    },
    {
      "cell_type": "code",
      "execution_count": null,
      "id": "b0a05979",
      "metadata": {
        "colab": {
          "base_uri": "https://localhost:8080/"
        },
        "id": "b0a05979",
        "outputId": "ae45796b-eee5-4fd5-c2e8-5f749cc01b3f"
      },
      "outputs": [
        {
          "output_type": "stream",
          "name": "stdout",
          "text": [
            "['I', 'am', 'actively', 'looking', 'for', 'Ph.D.students', '.', 'and', 'you', 'are', 'a', 'Ph.D.student', '.']\n"
          ]
        }
      ],
      "source": [
        "import nltk\n",
        "from nltk.tokenize import word_tokenize\n",
        "text = \"I am actively looking for Ph.D.students. and you are a Ph.D.student.\"\n",
        "print(word_tokenize(text))"
      ]
    },
    {
      "cell_type": "markdown",
      "id": "2d067708",
      "metadata": {
        "id": "2d067708"
      },
      "source": [
        "#### 품사 태깅"
      ]
    },
    {
      "cell_type": "code",
      "source": [
        "import nltk\n",
        "nltk.download('averaged_perceptron_tagger')"
      ],
      "metadata": {
        "colab": {
          "base_uri": "https://localhost:8080/"
        },
        "id": "N-YtF9vBXN2Q",
        "outputId": "c8f2af0b-6b98-4db0-c82d-ad07804c7ab8"
      },
      "id": "N-YtF9vBXN2Q",
      "execution_count": 13,
      "outputs": [
        {
          "output_type": "stream",
          "name": "stderr",
          "text": [
            "[nltk_data] Downloading package averaged_perceptron_tagger to\n",
            "[nltk_data]     /root/nltk_data...\n",
            "[nltk_data]   Unzipping taggers/averaged_perceptron_tagger.zip.\n"
          ]
        },
        {
          "output_type": "execute_result",
          "data": {
            "text/plain": [
              "True"
            ]
          },
          "metadata": {},
          "execution_count": 13
        }
      ]
    },
    {
      "cell_type": "code",
      "execution_count": 14,
      "id": "b6d564cb",
      "metadata": {
        "colab": {
          "base_uri": "https://localhost:8080/"
        },
        "id": "b6d564cb",
        "outputId": "b9a860dd-2a50-4395-e17c-f8294a9dc7b5"
      },
      "outputs": [
        {
          "output_type": "execute_result",
          "data": {
            "text/plain": [
              "[('Do', 'VBP'),\n",
              " (\"n't\", 'RB'),\n",
              " ('be', 'VB'),\n",
              " ('fooled', 'VBN'),\n",
              " ('by', 'IN'),\n",
              " ('the', 'DT'),\n",
              " ('dark', 'NN'),\n",
              " ('sounding', 'VBG'),\n",
              " ('name', 'NN'),\n",
              " (',', ','),\n",
              " ('Mr.Jone', 'NNP'),\n",
              " (\"'s\", 'POS'),\n",
              " ('Orpahanage', 'NN'),\n",
              " ('is', 'VBZ'),\n",
              " ('as', 'IN'),\n",
              " ('cheery', 'NN'),\n",
              " ('cherry', 'NN'),\n",
              " ('goes', 'VBZ'),\n",
              " ('for', 'IN'),\n",
              " ('a', 'DT'),\n",
              " ('pastry', 'NN'),\n",
              " ('shop', 'NN')]"
            ]
          },
          "metadata": {},
          "execution_count": 14
        }
      ],
      "source": [
        "from nltk.tag import pos_tag\n",
        "\n",
        "x = word_tokenize(text)\n",
        "pos_tag(x)"
      ]
    },
    {
      "cell_type": "markdown",
      "id": "0ca7fcc9",
      "metadata": {
        "id": "0ca7fcc9"
      },
      "source": [
        "### Okt 실습"
      ]
    },
    {
      "cell_type": "code",
      "execution_count": 15,
      "id": "e13494b5",
      "metadata": {
        "id": "e13494b5"
      },
      "outputs": [],
      "source": [
        "import konlpy\n",
        "from konlpy.tag import Okt #Okt라는 형태소 분석기 불러옴\n",
        "okt=Okt()"
      ]
    },
    {
      "cell_type": "markdown",
      "id": "e1ab3cca",
      "metadata": {
        "id": "e1ab3cca"
      },
      "source": [
        "**okt.morphs : 형태소로 추출**"
      ]
    },
    {
      "cell_type": "code",
      "execution_count": 16,
      "id": "db46324b",
      "metadata": {
        "colab": {
          "base_uri": "https://localhost:8080/"
        },
        "id": "db46324b",
        "outputId": "64c4b0ad-a2b1-4878-91b0-cbc43d8d98d7"
      },
      "outputs": [
        {
          "output_type": "stream",
          "name": "stdout",
          "text": [
            "['이', '여름', '다시', '한번', '설레고', '싶다', '.', '그', '여름', '을', '틀어줘', '.', '싹', '스리']\n"
          ]
        }
      ],
      "source": [
        "print(okt.morphs('이 여름 다시 한번 설레고 싶다. 그 여름을 틀어줘. 싹스리'))"
      ]
    },
    {
      "cell_type": "markdown",
      "id": "d3935e3a",
      "metadata": {
        "id": "d3935e3a"
      },
      "source": [
        "**okt.pos : 품사 태깅**"
      ]
    },
    {
      "cell_type": "code",
      "execution_count": 17,
      "id": "2bcf7c59",
      "metadata": {
        "colab": {
          "base_uri": "https://localhost:8080/"
        },
        "id": "2bcf7c59",
        "outputId": "ea8460e6-2a2a-4ece-fd36-1e4d2cd65fcc"
      },
      "outputs": [
        {
          "output_type": "stream",
          "name": "stdout",
          "text": [
            "[('이', 'Noun'), ('여름', 'Noun'), ('다시', 'Noun'), ('한번', 'Noun'), ('설레고싶다', 'Adjective'), (',', 'Punctuation'), ('그', 'Noun'), ('여름', 'Noun'), ('을', 'Josa'), ('틀어줘', 'Verb'), ('.', 'Punctuation'), ('싹', 'Noun'), ('스리', 'Noun')]\n"
          ]
        }
      ],
      "source": [
        "print(okt.pos('이 여름 다시 한번 설레고싶다, 그 여름을 틀어줘. 싹스리'))"
      ]
    },
    {
      "cell_type": "markdown",
      "id": "d294ac72",
      "metadata": {
        "id": "d294ac72"
      },
      "source": [
        "**okt.nouns : 명사 추출**"
      ]
    },
    {
      "cell_type": "code",
      "execution_count": 18,
      "id": "291b7a6f",
      "metadata": {
        "colab": {
          "base_uri": "https://localhost:8080/"
        },
        "id": "291b7a6f",
        "outputId": "652624f6-8b66-4477-d588-7074561d23f9"
      },
      "outputs": [
        {
          "output_type": "execute_result",
          "data": {
            "text/plain": [
              "['이', '여름', '다시', '한번', '그', '여름', '싹', '스리']"
            ]
          },
          "metadata": {},
          "execution_count": 18
        }
      ],
      "source": [
        "okt.nouns('이 여름 다시 한번 설레고싶다, 그 여름을 틀어줘. 싹스리')"
      ]
    },
    {
      "cell_type": "markdown",
      "id": "0504575a",
      "metadata": {
        "id": "0504575a"
      },
      "source": [
        "### 한나눔 실습"
      ]
    },
    {
      "cell_type": "code",
      "execution_count": 19,
      "id": "4a9a106f",
      "metadata": {
        "id": "4a9a106f"
      },
      "outputs": [],
      "source": [
        "from konlpy.tag import Hannanum # 한나눔 모듈 불러오기\n",
        "han = Hannanum()"
      ]
    },
    {
      "cell_type": "code",
      "execution_count": 20,
      "id": "1a89aa3f",
      "metadata": {
        "colab": {
          "base_uri": "https://localhost:8080/"
        },
        "id": "1a89aa3f",
        "outputId": "5932a3d0-4a3b-402e-ecfc-a732ed537a54"
      },
      "outputs": [
        {
          "output_type": "stream",
          "name": "stdout",
          "text": [
            "['이', '여름', '다시', '한번', '설레', '어', '고', '싶', '다', '.', '그', '여름', '을', '틀', '어', '주', '어', '.', '싹스', '이', '리']\n"
          ]
        }
      ],
      "source": [
        "# 형태소 분석\n",
        "print(han.morphs('이 여름 다시 한번 설레고 싶다. 그 여름을 틀어줘. 싹스리'))"
      ]
    },
    {
      "cell_type": "code",
      "source": [
        "print(han.morphs('이 여름 다시 한번 설레고 싶다. 그 여름을 틀어줘. 싹스리'))"
      ],
      "metadata": {
        "colab": {
          "base_uri": "https://localhost:8080/"
        },
        "id": "_xq0QBhZKuev",
        "outputId": "22502c1b-f970-4927-bbdb-54ce8458d587"
      },
      "id": "_xq0QBhZKuev",
      "execution_count": 21,
      "outputs": [
        {
          "output_type": "stream",
          "name": "stdout",
          "text": [
            "['이', '여름', '다시', '한번', '설레', '어', '고', '싶', '다', '.', '그', '여름', '을', '틀', '어', '주', '어', '.', '싹스', '이', '리']\n"
          ]
        }
      ]
    },
    {
      "cell_type": "code",
      "execution_count": 22,
      "id": "42b7214e",
      "metadata": {
        "colab": {
          "base_uri": "https://localhost:8080/"
        },
        "id": "42b7214e",
        "outputId": "93d3e4e6-f0a9-4941-b058-c4e43a725dfc"
      },
      "outputs": [
        {
          "output_type": "stream",
          "name": "stdout",
          "text": [
            "[('이', 'M'), ('여름', 'N'), ('다시', 'M'), ('한번', 'N'), ('설레', 'P'), ('어', 'E'), ('고', 'J'), ('싶', 'P'), ('다', 'E'), ('.', 'S'), ('그', 'M'), ('여름', 'N'), ('을', 'J'), ('틀', 'P'), ('어', 'E'), ('주', 'P'), ('어', 'E'), ('.', 'S'), ('싹스', 'N'), ('이', 'J'), ('리', 'E')]\n"
          ]
        }
      ],
      "source": [
        "# 품사 태깅\n",
        "print(han.pos('이 여름 다시 한번 설레고 싶다. 그 여름을 틀어줘. 싹스리'))"
      ]
    },
    {
      "cell_type": "code",
      "execution_count": 23,
      "id": "39eee3c5",
      "metadata": {
        "colab": {
          "base_uri": "https://localhost:8080/"
        },
        "id": "39eee3c5",
        "outputId": "1029f7e7-98d6-4eab-99a4-64a6ca662365"
      },
      "outputs": [
        {
          "output_type": "execute_result",
          "data": {
            "text/plain": [
              "['여름', '한번', '여름', '싹스']"
            ]
          },
          "metadata": {},
          "execution_count": 23
        }
      ],
      "source": [
        "# 명사 분석\n",
        "han.nouns('이 여름 다시 한번 설레고 싶다. 그 여름을 틀어줘. 싹스리')"
      ]
    },
    {
      "cell_type": "code",
      "source": [
        "pi = 0.3132445\n",
        "\n",
        "print(f'{pi} 입니다')\n",
        "print(f'{pi:3f} 파이 입니다.')"
      ],
      "metadata": {
        "id": "eGbpqrHvLSPx",
        "colab": {
          "base_uri": "https://localhost:8080/"
        },
        "outputId": "f13546f3-4f92-495d-b890-e994c211ac62"
      },
      "id": "eGbpqrHvLSPx",
      "execution_count": 29,
      "outputs": [
        {
          "output_type": "stream",
          "name": "stdout",
          "text": [
            "0.3132445 입니다\n",
            "0.313244 파이 입니다.\n"
          ]
        }
      ]
    },
    {
      "cell_type": "code",
      "execution_count": 30,
      "id": "59a19938",
      "metadata": {
        "id": "59a19938",
        "colab": {
          "base_uri": "https://localhost:8080/"
        },
        "outputId": "8ae53cf5-d804-4509-d52e-79a51410391e"
      },
      "outputs": [
        {
          "output_type": "stream",
          "name": "stdout",
          "text": [
            "분석할 텍스트를 입력하시오 : 오늘은 하늘이 맑다\n",
            "오늘 - N\n",
            "은 - J\n",
            "하늘 - N\n",
            "이 - J\n",
            "맑 - P\n",
            "다 - E\n"
          ]
        }
      ],
      "source": [
        "text = input('분석할 텍스트를 입력하시오 : ')\n",
        "result = han.pos(text)\n",
        "for lex,pos in result:\n",
        "    print(f'{lex} - {pos}')"
      ]
    },
    {
      "cell_type": "markdown",
      "id": "941be241",
      "metadata": {
        "id": "941be241"
      },
      "source": [
        "### Okt를 활용해서 국회 말뭉치 실습"
      ]
    },
    {
      "cell_type": "code",
      "execution_count": 31,
      "id": "dbc6f9a2",
      "metadata": {
        "id": "dbc6f9a2"
      },
      "outputs": [],
      "source": [
        "from konlpy.corpus import kolaw\n",
        "from konlpy.tag import Okt\n",
        "\n",
        "okt = Okt()"
      ]
    },
    {
      "cell_type": "code",
      "source": [
        "law_corpus = kolaw.open('constitution.txt').read()"
      ],
      "metadata": {
        "id": "adI8mGQ3Mv-f"
      },
      "id": "adI8mGQ3Mv-f",
      "execution_count": 32,
      "outputs": []
    },
    {
      "cell_type": "code",
      "execution_count": 33,
      "id": "28e4a56b",
      "metadata": {
        "id": "28e4a56b",
        "colab": {
          "base_uri": "https://localhost:8080/"
        },
        "outputId": "1c52331c-8fe4-46ff-bfeb-0a3775a9cace"
      },
      "outputs": [
        {
          "output_type": "execute_result",
          "data": {
            "text/plain": [
              "[('대한민국', 'Noun'),\n",
              " ('헌법', 'Noun'),\n",
              " ('\\n\\n', 'Foreign'),\n",
              " ('유구', 'Noun'),\n",
              " ('한', 'Josa'),\n",
              " ('역사', 'Noun'),\n",
              " ('와', 'Josa'),\n",
              " ('전통', 'Noun'),\n",
              " ('에', 'Josa'),\n",
              " ('빛나는', 'Verb'),\n",
              " ('우리', 'Noun'),\n",
              " ('대', 'Modifier'),\n",
              " ('한', 'Modifier'),\n",
              " ('국민', 'Noun'),\n",
              " ('은', 'Josa'),\n",
              " ('3', 'Number'),\n",
              " ('·', 'Punctuation'),\n",
              " ('1', 'Number'),\n",
              " ('운동', 'Noun'),\n",
              " ('으로', 'Josa'),\n",
              " ('건립', 'Noun'),\n",
              " ('된', 'Verb'),\n",
              " ('대한민국', 'Noun'),\n",
              " ('임', 'Noun')]"
            ]
          },
          "metadata": {},
          "execution_count": 33
        }
      ],
      "source": [
        "# 품사태깅\n",
        "okt.pos(law_corpus[:50])"
      ]
    },
    {
      "cell_type": "code",
      "execution_count": 34,
      "id": "637145bd",
      "metadata": {
        "id": "637145bd",
        "colab": {
          "base_uri": "https://localhost:8080/"
        },
        "outputId": "ec9beb26-a9f5-48d0-e3ee-b4492d9b63ca"
      },
      "outputs": [
        {
          "output_type": "execute_result",
          "data": {
            "text/plain": [
              "['대한민국', '헌법', '유구', '역사', '전통', '우리', '국민', '운동', '건립', '대한민국', '임']"
            ]
          },
          "metadata": {},
          "execution_count": 34
        }
      ],
      "source": [
        "# 명사추출\n",
        "okt.nouns(law_corpus[:50])"
      ]
    },
    {
      "cell_type": "code",
      "execution_count": 35,
      "id": "6ed20b9f",
      "metadata": {
        "id": "6ed20b9f",
        "colab": {
          "base_uri": "https://localhost:8080/",
          "height": 35
        },
        "outputId": "31b2d3eb-8666-4ed1-ef45-ca2fd22a402b"
      },
      "outputs": [
        {
          "output_type": "execute_result",
          "data": {
            "text/plain": [
              "'대한민국헌법\\n\\n유구한 역사와 전통에 빛나는 우리 대한국민은 3·1운동으로 건립된 대한민국임'"
            ],
            "application/vnd.google.colaboratory.intrinsic+json": {
              "type": "string"
            }
          },
          "metadata": {},
          "execution_count": 35
        }
      ],
      "source": [
        "law_corpus[:50] #50자만 추출"
      ]
    },
    {
      "cell_type": "code",
      "source": [
        "law_corpus[:50].replace('\\n',' ')"
      ],
      "metadata": {
        "id": "PMKHzJzWM9sx",
        "colab": {
          "base_uri": "https://localhost:8080/",
          "height": 35
        },
        "outputId": "c0c69a03-6337-4506-8f69-bf218d41e92b"
      },
      "id": "PMKHzJzWM9sx",
      "execution_count": 36,
      "outputs": [
        {
          "output_type": "execute_result",
          "data": {
            "text/plain": [
              "'대한민국헌법  유구한 역사와 전통에 빛나는 우리 대한국민은 3·1운동으로 건립된 대한민국임'"
            ],
            "application/vnd.google.colaboratory.intrinsic+json": {
              "type": "string"
            }
          },
          "metadata": {},
          "execution_count": 36
        }
      ]
    },
    {
      "cell_type": "code",
      "source": [
        "okt.pos(law_corpus[:50])"
      ],
      "metadata": {
        "id": "GLnLeP_ENIPh",
        "colab": {
          "base_uri": "https://localhost:8080/"
        },
        "outputId": "54d41af4-7eb2-4640-c129-9b26960653a7"
      },
      "id": "GLnLeP_ENIPh",
      "execution_count": 37,
      "outputs": [
        {
          "output_type": "execute_result",
          "data": {
            "text/plain": [
              "[('대한민국', 'Noun'),\n",
              " ('헌법', 'Noun'),\n",
              " ('\\n\\n', 'Foreign'),\n",
              " ('유구', 'Noun'),\n",
              " ('한', 'Josa'),\n",
              " ('역사', 'Noun'),\n",
              " ('와', 'Josa'),\n",
              " ('전통', 'Noun'),\n",
              " ('에', 'Josa'),\n",
              " ('빛나는', 'Verb'),\n",
              " ('우리', 'Noun'),\n",
              " ('대', 'Modifier'),\n",
              " ('한', 'Modifier'),\n",
              " ('국민', 'Noun'),\n",
              " ('은', 'Josa'),\n",
              " ('3', 'Number'),\n",
              " ('·', 'Punctuation'),\n",
              " ('1', 'Number'),\n",
              " ('운동', 'Noun'),\n",
              " ('으로', 'Josa'),\n",
              " ('건립', 'Noun'),\n",
              " ('된', 'Verb'),\n",
              " ('대한민국', 'Noun'),\n",
              " ('임', 'Noun')]"
            ]
          },
          "metadata": {},
          "execution_count": 37
        }
      ]
    },
    {
      "cell_type": "code",
      "source": [
        "okt.nouns(law_corpus[:50]) # 명사추출"
      ],
      "metadata": {
        "id": "c7kkCXGGNOxB",
        "colab": {
          "base_uri": "https://localhost:8080/"
        },
        "outputId": "4c3fb6f7-40c9-447e-ff71-99e116780eca"
      },
      "id": "c7kkCXGGNOxB",
      "execution_count": 38,
      "outputs": [
        {
          "output_type": "execute_result",
          "data": {
            "text/plain": [
              "['대한민국', '헌법', '유구', '역사', '전통', '우리', '국민', '운동', '건립', '대한민국', '임']"
            ]
          },
          "metadata": {},
          "execution_count": 38
        }
      ]
    },
    {
      "cell_type": "markdown",
      "id": "22cf32a9",
      "metadata": {
        "id": "22cf32a9"
      },
      "source": [
        "## 정제 (코퍼스에서 노이즈 데이터 제거)\n",
        "**1. 동일한 표기가 다른 단어들 통합**\n",
        "\n",
        "**2. 대, 소문자 통합**"
      ]
    },
    {
      "cell_type": "code",
      "execution_count": 39,
      "id": "0e8baa8a",
      "metadata": {
        "id": "0e8baa8a"
      },
      "outputs": [],
      "source": [
        "import re # 정규표현식 "
      ]
    },
    {
      "cell_type": "code",
      "execution_count": 55,
      "id": "c47f71cc",
      "metadata": {
        "id": "c47f71cc"
      },
      "outputs": [],
      "source": [
        "text1 = '서울 부동산 가격이 올해 들어 평균 30% 상승했습니다.'"
      ]
    },
    {
      "cell_type": "code",
      "execution_count": 56,
      "id": "05ea9d96",
      "metadata": {
        "id": "05ea9d96",
        "colab": {
          "base_uri": "https://localhost:8080/",
          "height": 35
        },
        "outputId": "6bee7a22-901a-4c5a-a562-078b1324a5e0"
      },
      "outputs": [
        {
          "output_type": "execute_result",
          "data": {
            "text/plain": [
              "'서울 부동산 가격이 올해 들어 평균  상승했습니다.'"
            ],
            "application/vnd.google.colaboratory.intrinsic+json": {
              "type": "string"
            }
          },
          "metadata": {},
          "execution_count": 56
        }
      ],
      "source": [
        "p = re.compile('[0-9]+\\W+') # 숫자 특수문자 제거\n",
        "p.sub(\" \", text1)"
      ]
    },
    {
      "cell_type": "code",
      "execution_count": 45,
      "id": "ccf6e5c1",
      "metadata": {
        "id": "ccf6e5c1"
      },
      "outputs": [],
      "source": [
        "text2 = '*서울 부동산 가격이 올해 들어 평균 30% 상승했습니다!'"
      ]
    },
    {
      "cell_type": "code",
      "execution_count": 46,
      "id": "d128611a",
      "metadata": {
        "id": "d128611a",
        "colab": {
          "base_uri": "https://localhost:8080/",
          "height": 35
        },
        "outputId": "6113f3e8-61c1-4e89-c5ff-5fa546a3b435"
      },
      "outputs": [
        {
          "output_type": "execute_result",
          "data": {
            "text/plain": [
              "' 서울 부동산 가격이 올해 들어 평균 30 상승했습니다 '"
            ],
            "application/vnd.google.colaboratory.intrinsic+json": {
              "type": "string"
            }
          },
          "metadata": {},
          "execution_count": 46
        }
      ],
      "source": [
        "p = re.compile(\"\\W+\") # 특수문자 제거\n",
        "p.sub(\" \",text2)"
      ]
    },
    {
      "cell_type": "code",
      "execution_count": 47,
      "id": "1d4c2d57",
      "metadata": {
        "id": "1d4c2d57"
      },
      "outputs": [],
      "source": [
        "text3 = '*서울 부동산 가격이 올해 들어 평균 30% 상승했습니다!'"
      ]
    },
    {
      "cell_type": "code",
      "execution_count": 49,
      "id": "80049fd5",
      "metadata": {
        "id": "80049fd5",
        "colab": {
          "base_uri": "https://localhost:8080/",
          "height": 35
        },
        "outputId": "2db54acf-8600-4960-8b7e-a7d8852e0f16"
      },
      "outputs": [
        {
          "output_type": "execute_result",
          "data": {
            "text/plain": [
              "'서울 부동산 가격이 올해 들어 평균 30% 상승했습니다!'"
            ],
            "application/vnd.google.colaboratory.intrinsic+json": {
              "type": "string"
            }
          },
          "metadata": {},
          "execution_count": 49
        }
      ],
      "source": [
        "p = re.compile('\\*') # * 제거\n",
        "p.sub('',text3)"
      ]
    },
    {
      "cell_type": "markdown",
      "id": "271e8381",
      "metadata": {
        "id": "271e8381"
      },
      "source": [
        "### 불용어 제거"
      ]
    },
    {
      "cell_type": "code",
      "source": [
        "import nltk\n",
        "nltk.download('stopwords')"
      ],
      "metadata": {
        "id": "_i6iuLhFOrS7",
        "colab": {
          "base_uri": "https://localhost:8080/"
        },
        "outputId": "e831ccd4-bce8-4c1b-dfc3-edccf0345e38"
      },
      "id": "_i6iuLhFOrS7",
      "execution_count": 57,
      "outputs": [
        {
          "output_type": "stream",
          "name": "stderr",
          "text": [
            "[nltk_data] Downloading package stopwords to /root/nltk_data...\n",
            "[nltk_data]   Unzipping corpora/stopwords.zip.\n"
          ]
        },
        {
          "output_type": "execute_result",
          "data": {
            "text/plain": [
              "True"
            ]
          },
          "metadata": {},
          "execution_count": 57
        }
      ]
    },
    {
      "cell_type": "code",
      "execution_count": 58,
      "id": "ee0bdcc7",
      "metadata": {
        "id": "ee0bdcc7",
        "colab": {
          "base_uri": "https://localhost:8080/"
        },
        "outputId": "9c2e67e7-b302-45e8-fc38-76ab8ebadaa8"
      },
      "outputs": [
        {
          "output_type": "execute_result",
          "data": {
            "text/plain": [
              "['i', 'me', 'my', 'myself', 'we', 'our', 'ours', 'ourselves', 'you', \"you're\"]"
            ]
          },
          "metadata": {},
          "execution_count": 58
        }
      ],
      "source": [
        "import nltk\n",
        "from nltk.corpus import stopwords\n",
        "\n",
        "stopwords.words('english')[:10]"
      ]
    },
    {
      "cell_type": "code",
      "execution_count": 60,
      "id": "1058423c",
      "metadata": {
        "id": "1058423c"
      },
      "outputs": [],
      "source": [
        "import nltk\n",
        "from nltk.corpus import stopwords\n",
        "from nltk.tokenize import word_tokenize\n",
        "\n",
        "example = \"Family is not an importnat thing. It's everything\"\n",
        "stop_words = set(stopwords.words('english'))"
      ]
    },
    {
      "cell_type": "code",
      "execution_count": 61,
      "id": "756afec7",
      "metadata": {
        "id": "756afec7",
        "colab": {
          "base_uri": "https://localhost:8080/"
        },
        "outputId": "fe8ed871-0ba1-46cb-8c68-fb89f25e6b61"
      },
      "outputs": [
        {
          "output_type": "execute_result",
          "data": {
            "text/plain": [
              "['Family',\n",
              " 'is',\n",
              " 'not',\n",
              " 'an',\n",
              " 'importnat',\n",
              " 'thing',\n",
              " '.',\n",
              " 'It',\n",
              " \"'s\",\n",
              " 'everything']"
            ]
          },
          "metadata": {},
          "execution_count": 61
        }
      ],
      "source": [
        "word_tokens = word_tokenize(example)\n",
        "word_tokens"
      ]
    },
    {
      "cell_type": "code",
      "execution_count": 62,
      "id": "1932cb69",
      "metadata": {
        "id": "1932cb69",
        "colab": {
          "base_uri": "https://localhost:8080/"
        },
        "outputId": "89599c34-ea5e-4078-a4ef-8e06be21d97a"
      },
      "outputs": [
        {
          "output_type": "stream",
          "name": "stdout",
          "text": [
            "['Family', 'importnat', 'thing', '.', 'It', \"'s\", 'everything']\n",
            "\n",
            "['Family', 'is', 'not', 'an', 'importnat', 'thing', '.', 'It', \"'s\", 'everything']\n"
          ]
        }
      ],
      "source": [
        "result = []\n",
        "for w in word_tokens:\n",
        "    if w not in stop_words:\n",
        "        result.append(w)\n",
        "print(result) # 불용어 제거 후\n",
        "print('')\n",
        "print(word_tokens) # 불용어 제거 전"
      ]
    },
    {
      "cell_type": "code",
      "execution_count": 63,
      "id": "c52c0016",
      "metadata": {
        "id": "c52c0016"
      },
      "outputs": [],
      "source": [
        "import nltk\n",
        "from nltk.corpus import stopwords\n",
        "from nltk.tokenize import word_tokenize\n",
        "\n",
        "example = \"\"\"이 여름 다시 한번 설레고 싶다 그때 그 여름을 틀어줘 그 여름을 들려줘\n",
        "이 여름도 언젠가는 그해 여름 오늘이 가장 젊은 내 여름\"\"\"\n",
        "\n",
        "stop_words = \"이 또 그 가장\""
      ]
    },
    {
      "cell_type": "code",
      "execution_count": 64,
      "id": "7a9a89fe",
      "metadata": {
        "id": "7a9a89fe",
        "colab": {
          "base_uri": "https://localhost:8080/"
        },
        "outputId": "a519883a-8569-4ee5-d3f4-70f0bde82ef3"
      },
      "outputs": [
        {
          "output_type": "stream",
          "name": "stdout",
          "text": [
            "['이', '여름', '다시', '한번', '설레고', '싶다', '그때', '그', '여름을', '틀어줘', '그', '여름을', '들려줘', '이', '여름도', '언젠가는', '그해', '여름', '오늘이', '가장', '젊은', '내', '여름']\n",
            "\n",
            "['여름', '다시', '한번', '설레고', '싶다', '그때', '여름을', '틀어줘', '여름을', '들려줘', '여름도', '언젠가는', '그해', '여름', '오늘이', '젊은', '내', '여름']\n"
          ]
        }
      ],
      "source": [
        "stop_words = stop_words.split(' ')\n",
        "word_tokens = word_tokenize(example)\n",
        "result = []\n",
        "for w in word_tokens:\n",
        "    if w not in stop_words:\n",
        "        result.append(w)\n",
        "\n",
        "print(word_tokens)\n",
        "print('')\n",
        "print(result)"
      ]
    },
    {
      "cell_type": "markdown",
      "id": "20bf49ef",
      "metadata": {
        "id": "20bf49ef"
      },
      "source": [
        "### 법률안 실습"
      ]
    },
    {
      "cell_type": "code",
      "execution_count": 6,
      "id": "8ad57ed0",
      "metadata": {
        "colab": {
          "base_uri": "https://localhost:8080/"
        },
        "id": "8ad57ed0",
        "outputId": "9460d751-0b15-46bd-9bab-58aae91bb60d"
      },
      "outputs": [
        {
          "output_type": "execute_result",
          "data": {
            "text/plain": [
              "['1809898.txt',\n",
              " '1809890.txt',\n",
              " '1809892.txt',\n",
              " '1809895.txt',\n",
              " '1809899.txt',\n",
              " '1809897.txt',\n",
              " '1809896.txt',\n",
              " '1809894.txt',\n",
              " '1809893.txt',\n",
              " '1809891.txt']"
            ]
          },
          "metadata": {},
          "execution_count": 6
        }
      ],
      "source": [
        "import nltk\n",
        "import konlpy\n",
        "from konlpy.corpus import kobill #kobill: konlpy에 내장되어 있는 법률안 읽어오는 함수\n",
        "\n",
        "files_ko = kobill.fileids() #kobill 에는 team POPONG 에 의해 취합된 의회 정보들이 존재\n",
        "files_ko #kobill에 담긴 문서 확인"
      ]
    },
    {
      "cell_type": "code",
      "execution_count": 7,
      "id": "b0b316e1",
      "metadata": {
        "colab": {
          "base_uri": "https://localhost:8080/",
          "height": 163
        },
        "id": "b0b316e1",
        "outputId": "bc4566de-4326-4e84-9e43-158e3f8fc7a8"
      },
      "outputs": [
        {
          "output_type": "execute_result",
          "data": {
            "text/plain": [
              "'고등교육법 일부개정법률안\\n\\n(안상수의원 대표발의 )\\n\\n 의 안\\n 번 호\\n\\n9894\\n\\n발의연월일 : 2010.  11.  15.\\n\\n발  의  자 : 안상수․김정훈․원희목 \\n\\n강석호․서상기․나성린 \\n\\n권영진․이춘식․정영희 \\n\\n이애주․안형환․백성운 \\n\\n김금래 의원(13인)\\n\\n제안이유 및 주요내용\\n\\n  현재 간호사의 경우 전문대학 졸업 또는 대학 졸업에 상관없이 면\\n\\n허증을 취득할 수 있지만, 학위의 종류가 전문학사이기 때문에 학사학\\n\\n위를 취득하기 위하여 87.2%가 별도로 학사학위 교육과정을 이수하고 \\n\\n있는 실정임.\\n\\n  이러한 4년제 간호 교육의 필요성과 선진 각국의 경향을 고려하고 \\n\\n국민에 대한 보다 나은 의료 서비스를 제공하기 위하여 대통령령이 \\n\\n정하는 일정한 기준을 충족하는 간호과에 대해서는 수업연한을 4년으\\n\\n로 하고, 수여하는 학위의 종류를 학사학위로 하도록 함(안 제50조의3 \\n\\n신설).\\n\\n- 1 -\\n\\n\\x0c법률  제        호\\n\\n고등교육법 일부개정법률안\\n\\n고등교육법 일부를 다음과 같이 개정한다.\\n\\n제50조의3을 다음과 같이 신설한다.\\n\\n제50조의3(간호과의 수업연한 및 학위에 관한 특례) ① 대통령령이 정\\n\\n하는 기준을 충족하는 간호과의 수업연한은 4년으로 한다.\\n\\n  ② 제1항의 간호과에서 학칙이 정하는 과정을 이수한 자에 대하여\\n\\n는 학사학위를 수여한다.\\n\\n  ③ 제2항의 학위의 종류 및 수여에 관하여 필요한 사항은 대통령령\\n\\n으로 정한다.\\n\\n부      칙\\n\\n① 이 법은 공포 후 6개월이 경과한 날부터 시행한다.\\n\\n② 이 법 시행 당시 수업연한이 4년으로 된 간호과에 재학 중인 자에 \\n\\n대해서는 본인의 신청에 의하여 종전의 수업연한 및 학위에 관한 규\\n\\n정을 적용할 수 있다.\\n\\n- 3 -\\n\\n\\x0c신·구조문대비표\\n\\n현      행\\n\\n개   정   안\\n\\n  <신  설>\\n\\n제50조의3(간호과의 수업연한 및 \\n\\n학위에 관한 특례) ① 대통령\\n\\n령이 정하는 기준을 충족하는 \\n\\n간호과의 수업연한은 4년으로 \\n\\n한다.\\n\\n  ② 제1항의 간호과에서 학칙이 \\n\\n정하는 과정을 이수한 자에 대\\n\\n하여는 학사학위를 수여한다.\\n\\n  ③ 제2항의 학위의 종류 및 수\\n\\n여에 관하여 필요한 사항은 대\\n\\n통령령으로 정한다.\\n\\n- 5 -\\n\\n\\x0c'"
            ],
            "application/vnd.google.colaboratory.intrinsic+json": {
              "type": "string"
            }
          },
          "metadata": {},
          "execution_count": 7
        }
      ],
      "source": [
        "doc_ko = kobill.open('1809894.txt').read()\n",
        "doc_ko"
      ]
    },
    {
      "cell_type": "code",
      "execution_count": 8,
      "id": "d8bbaf12",
      "metadata": {
        "colab": {
          "base_uri": "https://localhost:8080/"
        },
        "id": "d8bbaf12",
        "outputId": "d07d44cb-527a-4bc3-e8a7-8ee7c05a8693"
      },
      "outputs": [
        {
          "output_type": "execute_result",
          "data": {
            "text/plain": [
              "['고등',\n",
              " '교육법',\n",
              " '일부',\n",
              " '개정',\n",
              " '법률',\n",
              " '안',\n",
              " '안상수',\n",
              " '의원',\n",
              " '대표',\n",
              " '발의',\n",
              " '의',\n",
              " '안',\n",
              " '번',\n",
              " '호',\n",
              " '발의',\n",
              " '연월일',\n",
              " '발',\n",
              " '의',\n",
              " '자',\n",
              " '안상수',\n",
              " '김정훈',\n",
              " '원희목',\n",
              " '강석호',\n",
              " '서상기',\n",
              " '나성린',\n",
              " '권영진',\n",
              " '이춘식',\n",
              " '정영희',\n",
              " '이애주',\n",
              " '안형환',\n",
              " '백성운',\n",
              " '김금래',\n",
              " '의원',\n",
              " '인',\n",
              " '제안',\n",
              " '이유',\n",
              " '및',\n",
              " '내용',\n",
              " '현재',\n",
              " '간호사',\n",
              " '경우',\n",
              " '전문',\n",
              " '대학',\n",
              " '졸업',\n",
              " '대학',\n",
              " '졸업',\n",
              " '면',\n",
              " '증',\n",
              " '취득',\n",
              " '수',\n",
              " '학위',\n",
              " '종류',\n",
              " '문학사',\n",
              " '이기',\n",
              " '때문',\n",
              " '학',\n",
              " '사학',\n",
              " '위',\n",
              " '취득',\n",
              " '위',\n",
              " '별도',\n",
              " '학사',\n",
              " '학위',\n",
              " '교육과정',\n",
              " '이수',\n",
              " '실정',\n",
              " '임',\n",
              " '간호',\n",
              " '교육',\n",
              " '필요성',\n",
              " '선진',\n",
              " '각국',\n",
              " '경향',\n",
              " '고려',\n",
              " '국민',\n",
              " '대한',\n",
              " '나은',\n",
              " '의료',\n",
              " '서비스',\n",
              " '제공',\n",
              " '위',\n",
              " '대통령령',\n",
              " '정',\n",
              " '기준',\n",
              " '충족',\n",
              " '간호',\n",
              " '과',\n",
              " '대해',\n",
              " '수업',\n",
              " '연한',\n",
              " '로',\n",
              " '수여',\n",
              " '학위',\n",
              " '종류',\n",
              " '학사',\n",
              " '학위',\n",
              " '함',\n",
              " '안',\n",
              " '제',\n",
              " '신설',\n",
              " '법률',\n",
              " '제',\n",
              " '호',\n",
              " '고등',\n",
              " '교육법',\n",
              " '일부',\n",
              " '개정',\n",
              " '법률',\n",
              " '안',\n",
              " '고등',\n",
              " '교육법',\n",
              " '일부',\n",
              " '다음',\n",
              " '개정',\n",
              " '제',\n",
              " '다음',\n",
              " '신설',\n",
              " '제',\n",
              " '간호',\n",
              " '수업',\n",
              " '연한',\n",
              " '및',\n",
              " '학위',\n",
              " '관',\n",
              " '특례',\n",
              " '대통령령',\n",
              " '정',\n",
              " '기준',\n",
              " '충족',\n",
              " '간호',\n",
              " '수업',\n",
              " '연한',\n",
              " '제',\n",
              " '항의',\n",
              " '간호',\n",
              " '과',\n",
              " '학칙',\n",
              " '정',\n",
              " '과정',\n",
              " '이수',\n",
              " '자',\n",
              " '대하',\n",
              " '학사',\n",
              " '학위',\n",
              " '수여',\n",
              " '제',\n",
              " '항의',\n",
              " '학위',\n",
              " '종류',\n",
              " '및',\n",
              " '수여',\n",
              " '관',\n",
              " '사항',\n",
              " '대통령령',\n",
              " '정',\n",
              " '부',\n",
              " '칙',\n",
              " '이',\n",
              " '법',\n",
              " '공포',\n",
              " '후',\n",
              " '개월',\n",
              " '경과',\n",
              " '날',\n",
              " '시행',\n",
              " '이',\n",
              " '법',\n",
              " '시행',\n",
              " '당시',\n",
              " '수업',\n",
              " '연한',\n",
              " '간호',\n",
              " '과',\n",
              " '재학',\n",
              " '중인',\n",
              " '자',\n",
              " '대해',\n",
              " '본인',\n",
              " '신청',\n",
              " '종전',\n",
              " '수업',\n",
              " '연한',\n",
              " '및',\n",
              " '학위',\n",
              " '관',\n",
              " '규',\n",
              " '정',\n",
              " '적용',\n",
              " '수',\n",
              " '신',\n",
              " '구조',\n",
              " '문대비',\n",
              " '표',\n",
              " '현',\n",
              " '행',\n",
              " '개',\n",
              " '정',\n",
              " '안',\n",
              " '신',\n",
              " '설',\n",
              " '제',\n",
              " '간호',\n",
              " '수업',\n",
              " '연한',\n",
              " '및',\n",
              " '학위',\n",
              " '관',\n",
              " '특례',\n",
              " '대통령',\n",
              " '령',\n",
              " '정',\n",
              " '기준',\n",
              " '충족',\n",
              " '간호',\n",
              " '수업',\n",
              " '연한',\n",
              " '제',\n",
              " '항의',\n",
              " '간호',\n",
              " '과',\n",
              " '학칙',\n",
              " '정',\n",
              " '과정',\n",
              " '이수',\n",
              " '자',\n",
              " '학사',\n",
              " '학위',\n",
              " '수여',\n",
              " '제',\n",
              " '항의',\n",
              " '학위',\n",
              " '종류',\n",
              " '및',\n",
              " '수',\n",
              " '여',\n",
              " '관',\n",
              " '사항',\n",
              " '통령',\n",
              " '령',\n",
              " '정']"
            ]
          },
          "metadata": {},
          "execution_count": 8
        }
      ],
      "source": [
        "from konlpy.tag import Okt\n",
        "okt = Okt()\n",
        "\n",
        "nouns = okt.nouns(doc_ko)\n",
        "nouns"
      ]
    },
    {
      "cell_type": "code",
      "execution_count": 9,
      "id": "cf8b2669",
      "metadata": {
        "colab": {
          "base_uri": "https://localhost:8080/"
        },
        "id": "cf8b2669",
        "outputId": "9c6d09c3-d63c-4ea5-c377-c85230cbc6f6"
      },
      "outputs": [
        {
          "output_type": "stream",
          "name": "stdout",
          "text": [
            "240\n",
            "121\n"
          ]
        },
        {
          "output_type": "execute_result",
          "data": {
            "text/plain": [
              "FreqDist({'각국': 1,\n",
              "          '간호': 9,\n",
              "          '간호사': 1,\n",
              "          '강석호': 1,\n",
              "          '개': 1,\n",
              "          '개월': 1,\n",
              "          '개정': 3,\n",
              "          '경과': 1,\n",
              "          '경우': 1,\n",
              "          '경향': 1,\n",
              "          '고등': 3,\n",
              "          '고려': 1,\n",
              "          '공포': 1,\n",
              "          '과': 4,\n",
              "          '과정': 2,\n",
              "          '관': 5,\n",
              "          '교육': 1,\n",
              "          '교육과정': 1,\n",
              "          '교육법': 3,\n",
              "          '구조': 1,\n",
              "          '국민': 1,\n",
              "          '권영진': 1,\n",
              "          '규': 1,\n",
              "          '기준': 3,\n",
              "          '김금래': 1,\n",
              "          '김정훈': 1,\n",
              "          '나성린': 1,\n",
              "          '나은': 1,\n",
              "          '날': 1,\n",
              "          '내용': 1,\n",
              "          '다음': 2,\n",
              "          '당시': 1,\n",
              "          '대통령': 1,\n",
              "          '대통령령': 3,\n",
              "          '대표': 1,\n",
              "          '대하': 1,\n",
              "          '대학': 2,\n",
              "          '대한': 1,\n",
              "          '대해': 2,\n",
              "          '때문': 1,\n",
              "          '령': 2,\n",
              "          '로': 1,\n",
              "          '면': 1,\n",
              "          '문대비': 1,\n",
              "          '문학사': 1,\n",
              "          '및': 6,\n",
              "          '발': 1,\n",
              "          '발의': 2,\n",
              "          '백성운': 1,\n",
              "          '번': 1,\n",
              "          '법': 2,\n",
              "          '법률': 3,\n",
              "          '별도': 1,\n",
              "          '본인': 1,\n",
              "          '부': 1,\n",
              "          '사학': 1,\n",
              "          '사항': 2,\n",
              "          '서비스': 1,\n",
              "          '서상기': 1,\n",
              "          '선진': 1,\n",
              "          '설': 1,\n",
              "          '수': 3,\n",
              "          '수업': 7,\n",
              "          '수여': 4,\n",
              "          '시행': 2,\n",
              "          '신': 2,\n",
              "          '신설': 2,\n",
              "          '신청': 1,\n",
              "          '실정': 1,\n",
              "          '안': 5,\n",
              "          '안상수': 2,\n",
              "          '안형환': 1,\n",
              "          '여': 1,\n",
              "          '연월일': 1,\n",
              "          '연한': 7,\n",
              "          '원희목': 1,\n",
              "          '위': 3,\n",
              "          '의': 2,\n",
              "          '의료': 1,\n",
              "          '의원': 2,\n",
              "          '이': 2,\n",
              "          '이기': 1,\n",
              "          '이수': 3,\n",
              "          '이애주': 1,\n",
              "          '이유': 1,\n",
              "          '이춘식': 1,\n",
              "          '인': 1,\n",
              "          '일부': 3,\n",
              "          '임': 1,\n",
              "          '자': 4,\n",
              "          '재학': 1,\n",
              "          '적용': 1,\n",
              "          '전문': 1,\n",
              "          '정': 9,\n",
              "          '정영희': 1,\n",
              "          '제': 9,\n",
              "          '제공': 1,\n",
              "          '제안': 1,\n",
              "          '졸업': 2,\n",
              "          '종류': 4,\n",
              "          '종전': 1,\n",
              "          '중인': 1,\n",
              "          '증': 1,\n",
              "          '충족': 3,\n",
              "          '취득': 2,\n",
              "          '칙': 1,\n",
              "          '통령': 1,\n",
              "          '특례': 2,\n",
              "          '표': 1,\n",
              "          '필요성': 1,\n",
              "          '학': 1,\n",
              "          '학사': 4,\n",
              "          '학위': 11,\n",
              "          '학칙': 2,\n",
              "          '함': 1,\n",
              "          '항의': 4,\n",
              "          '행': 1,\n",
              "          '현': 1,\n",
              "          '현재': 1,\n",
              "          '호': 2,\n",
              "          '후': 1})"
            ]
          },
          "metadata": {},
          "execution_count": 9
        }
      ],
      "source": [
        "ko = nltk.Text(nouns, name='의안 제1809894호') # 문서를 탐색\n",
        "print(len(ko)) # 수집된 단어의 횟수\n",
        "print(len(set(ko.tokens))) # 수집된 단어의 고유한 횟수 (중복제거)\n",
        "ko.vocab() #단어별 빈도 확인"
      ]
    },
    {
      "cell_type": "code",
      "source": [
        "!sudo apt-get install -y fonts-nanum\n",
        "!sudo fc-cache -fv\n",
        "!rm ~/.cache/matplotlib -rf"
      ],
      "metadata": {
        "colab": {
          "base_uri": "https://localhost:8080/"
        },
        "id": "SQEU2N6gSAZZ",
        "outputId": "42716265-e37a-455f-9421-e9ec905a916f"
      },
      "id": "SQEU2N6gSAZZ",
      "execution_count": 72,
      "outputs": [
        {
          "output_type": "stream",
          "name": "stdout",
          "text": [
            "Reading package lists... Done\n",
            "Building dependency tree       \n",
            "Reading state information... Done\n",
            "The following package was automatically installed and is no longer required:\n",
            "  libnvidia-common-460\n",
            "Use 'sudo apt autoremove' to remove it.\n",
            "The following NEW packages will be installed:\n",
            "  fonts-nanum\n",
            "0 upgraded, 1 newly installed, 0 to remove and 49 not upgraded.\n",
            "Need to get 9,604 kB of archives.\n",
            "After this operation, 29.5 MB of additional disk space will be used.\n",
            "Get:1 http://archive.ubuntu.com/ubuntu bionic/universe amd64 fonts-nanum all 20170925-1 [9,604 kB]\n",
            "Fetched 9,604 kB in 1s (7,487 kB/s)\n",
            "debconf: unable to initialize frontend: Dialog\n",
            "debconf: (No usable dialog-like program is installed, so the dialog based frontend cannot be used. at /usr/share/perl5/Debconf/FrontEnd/Dialog.pm line 76, <> line 1.)\n",
            "debconf: falling back to frontend: Readline\n",
            "debconf: unable to initialize frontend: Readline\n",
            "debconf: (This frontend requires a controlling tty.)\n",
            "debconf: falling back to frontend: Teletype\n",
            "dpkg-preconfigure: unable to re-open stdin: \n",
            "Selecting previously unselected package fonts-nanum.\n",
            "(Reading database ... 155673 files and directories currently installed.)\n",
            "Preparing to unpack .../fonts-nanum_20170925-1_all.deb ...\n",
            "Unpacking fonts-nanum (20170925-1) ...\n",
            "Setting up fonts-nanum (20170925-1) ...\n",
            "Processing triggers for fontconfig (2.12.6-0ubuntu2) ...\n",
            "/usr/share/fonts: caching, new cache contents: 0 fonts, 1 dirs\n",
            "/usr/share/fonts/truetype: caching, new cache contents: 0 fonts, 3 dirs\n",
            "/usr/share/fonts/truetype/humor-sans: caching, new cache contents: 1 fonts, 0 dirs\n",
            "/usr/share/fonts/truetype/liberation: caching, new cache contents: 16 fonts, 0 dirs\n",
            "/usr/share/fonts/truetype/nanum: caching, new cache contents: 10 fonts, 0 dirs\n",
            "/usr/local/share/fonts: caching, new cache contents: 0 fonts, 0 dirs\n",
            "/root/.local/share/fonts: skipping, no such directory\n",
            "/root/.fonts: skipping, no such directory\n",
            "/var/cache/fontconfig: cleaning cache directory\n",
            "/root/.cache/fontconfig: not cleaning non-existent cache directory\n",
            "/root/.fontconfig: not cleaning non-existent cache directory\n",
            "fc-cache: succeeded\n"
          ]
        }
      ]
    },
    {
      "cell_type": "code",
      "source": [
        "import matplotlib.pyplot as plt\n",
        "\n",
        "plt.rc('font', family='NanumBarunGothic')"
      ],
      "metadata": {
        "id": "P3EmMSF4SWII"
      },
      "id": "P3EmMSF4SWII",
      "execution_count": 3,
      "outputs": []
    },
    {
      "cell_type": "code",
      "execution_count": 10,
      "id": "0e836a3c",
      "metadata": {
        "colab": {
          "base_uri": "https://localhost:8080/",
          "height": 414
        },
        "id": "0e836a3c",
        "outputId": "b5febf98-7919-430c-ee12-7bbaf5d0b09e"
      },
      "outputs": [
        {
          "output_type": "display_data",
          "data": {
            "text/plain": [
              "<Figure size 864x432 with 1 Axes>"
            ],
            "image/png": "[encoded data removed]"
          },
          "metadata": {
            "needs_background": "light"
          }
        }
      ],
      "source": [
        "plt.figure(figsize=(12,6))\n",
        "ko.plot(50) #많이 등장한 50개 단어 순으로 그래프\n",
        "plt.show()"
      ]
    },
    {
      "cell_type": "code",
      "execution_count": 11,
      "id": "ce46ca57",
      "metadata": {
        "colab": {
          "base_uri": "https://localhost:8080/"
        },
        "id": "ce46ca57",
        "outputId": "39e41318-c4cc-40de-e725-bdc52c908ab4"
      },
      "outputs": [
        {
          "output_type": "stream",
          "name": "stdout",
          "text": [
            "Looking in indexes: https://pypi.org/simple, https://us-python.pkg.dev/colab-wheels/public/simple/\n",
            "Requirement already satisfied: wordcloud in /usr/local/lib/python3.7/dist-packages (1.8.2.2)\n",
            "Requirement already satisfied: matplotlib in /usr/local/lib/python3.7/dist-packages (from wordcloud) (3.2.2)\n",
            "Requirement already satisfied: numpy>=1.6.1 in /usr/local/lib/python3.7/dist-packages (from wordcloud) (1.21.6)\n",
            "Requirement already satisfied: pillow in /usr/local/lib/python3.7/dist-packages (from wordcloud) (7.1.2)\n",
            "Requirement already satisfied: cycler>=0.10 in /usr/local/lib/python3.7/dist-packages (from matplotlib->wordcloud) (0.11.0)\n",
            "Requirement already satisfied: kiwisolver>=1.0.1 in /usr/local/lib/python3.7/dist-packages (from matplotlib->wordcloud) (1.4.4)\n",
            "Requirement already satisfied: pyparsing!=2.0.4,!=2.1.2,!=2.1.6,>=2.0.1 in /usr/local/lib/python3.7/dist-packages (from matplotlib->wordcloud) (3.0.9)\n",
            "Requirement already satisfied: python-dateutil>=2.1 in /usr/local/lib/python3.7/dist-packages (from matplotlib->wordcloud) (2.8.2)\n",
            "Requirement already satisfied: typing-extensions in /usr/local/lib/python3.7/dist-packages (from kiwisolver>=1.0.1->matplotlib->wordcloud) (4.1.1)\n",
            "Requirement already satisfied: six>=1.5 in /usr/local/lib/python3.7/dist-packages (from python-dateutil>=2.1->matplotlib->wordcloud) (1.15.0)\n"
          ]
        }
      ],
      "source": [
        "# 워드 클라우드 설치\n",
        "!pip install wordcloud"
      ]
    },
    {
      "cell_type": "code",
      "execution_count": 12,
      "id": "6ef2abbf",
      "metadata": {
        "colab": {
          "base_uri": "https://localhost:8080/"
        },
        "id": "6ef2abbf",
        "outputId": "7c23e5e0-e9d9-4e4b-811e-c72d92107e11"
      },
      "outputs": [
        {
          "output_type": "execute_result",
          "data": {
            "text/plain": [
              "['고등',\n",
              " '교육법',\n",
              " '일부',\n",
              " '개정',\n",
              " '법률',\n",
              " '안상수',\n",
              " '의원',\n",
              " '대표',\n",
              " '발의',\n",
              " '번',\n",
              " '호',\n",
              " '발의',\n",
              " '연월일',\n",
              " '안상수',\n",
              " '김정훈',\n",
              " '원희목',\n",
              " '강석호',\n",
              " '서상기',\n",
              " '나성린',\n",
              " '권영진',\n",
              " '이춘식',\n",
              " '정영희',\n",
              " '이애주',\n",
              " '안형환',\n",
              " '백성운',\n",
              " '김금래',\n",
              " '의원',\n",
              " '인',\n",
              " '제안',\n",
              " '이유',\n",
              " '내용',\n",
              " '현재',\n",
              " '간호사',\n",
              " '경우',\n",
              " '전문',\n",
              " '대학',\n",
              " '졸업',\n",
              " '대학',\n",
              " '졸업',\n",
              " '면',\n",
              " '증',\n",
              " '취득',\n",
              " '학위',\n",
              " '종류',\n",
              " '문학사',\n",
              " '이기',\n",
              " '때문',\n",
              " '학',\n",
              " '사학',\n",
              " '위',\n",
              " '취득',\n",
              " '위',\n",
              " '별도',\n",
              " '학사',\n",
              " '학위',\n",
              " '교육과정',\n",
              " '이수',\n",
              " '실정',\n",
              " '임',\n",
              " '간호',\n",
              " '교육',\n",
              " '필요성',\n",
              " '선진',\n",
              " '각국',\n",
              " '경향',\n",
              " '고려',\n",
              " '국민',\n",
              " '대한',\n",
              " '나은',\n",
              " '의료',\n",
              " '서비스',\n",
              " '제공',\n",
              " '위',\n",
              " '대통령령',\n",
              " '기준',\n",
              " '충족',\n",
              " '간호',\n",
              " '대해',\n",
              " '수업',\n",
              " '연한',\n",
              " '로',\n",
              " '수여',\n",
              " '학위',\n",
              " '종류',\n",
              " '학사',\n",
              " '학위',\n",
              " '함',\n",
              " '신설',\n",
              " '법률',\n",
              " '호',\n",
              " '고등',\n",
              " '교육법',\n",
              " '일부',\n",
              " '개정',\n",
              " '법률',\n",
              " '고등',\n",
              " '교육법',\n",
              " '일부',\n",
              " '다음',\n",
              " '개정',\n",
              " '다음',\n",
              " '신설',\n",
              " '간호',\n",
              " '수업',\n",
              " '연한',\n",
              " '학위',\n",
              " '관',\n",
              " '특례',\n",
              " '대통령령',\n",
              " '기준',\n",
              " '충족',\n",
              " '간호',\n",
              " '수업',\n",
              " '연한',\n",
              " '항의',\n",
              " '간호',\n",
              " '학칙',\n",
              " '과정',\n",
              " '이수',\n",
              " '대하',\n",
              " '학사',\n",
              " '학위',\n",
              " '수여',\n",
              " '항의',\n",
              " '학위',\n",
              " '종류',\n",
              " '수여',\n",
              " '관',\n",
              " '사항',\n",
              " '대통령령',\n",
              " '부',\n",
              " '칙',\n",
              " '법',\n",
              " '공포',\n",
              " '후',\n",
              " '개월',\n",
              " '경과',\n",
              " '날',\n",
              " '시행',\n",
              " '법',\n",
              " '시행',\n",
              " '당시',\n",
              " '수업',\n",
              " '연한',\n",
              " '간호',\n",
              " '재학',\n",
              " '중인',\n",
              " '대해',\n",
              " '본인',\n",
              " '신청',\n",
              " '종전',\n",
              " '수업',\n",
              " '연한',\n",
              " '학위',\n",
              " '관',\n",
              " '규',\n",
              " '적용',\n",
              " '신',\n",
              " '구조',\n",
              " '문대비',\n",
              " '표',\n",
              " '현',\n",
              " '행',\n",
              " '개',\n",
              " '신',\n",
              " '설',\n",
              " '간호',\n",
              " '수업',\n",
              " '연한',\n",
              " '학위',\n",
              " '관',\n",
              " '특례',\n",
              " '대통령',\n",
              " '령',\n",
              " '기준',\n",
              " '충족',\n",
              " '간호',\n",
              " '수업',\n",
              " '연한',\n",
              " '항의',\n",
              " '간호',\n",
              " '학칙',\n",
              " '과정',\n",
              " '이수',\n",
              " '학사',\n",
              " '학위',\n",
              " '수여',\n",
              " '항의',\n",
              " '학위',\n",
              " '종류',\n",
              " '여',\n",
              " '관',\n",
              " '사항',\n",
              " '통령',\n",
              " '령']"
            ]
          },
          "metadata": {},
          "execution_count": 12
        }
      ],
      "source": [
        "from wordcloud import WordCloud\n",
        "\n",
        "stopwords = ['정','제','및','안','자','과','수','의','이','발'] #stop words 지정\n",
        "ko = [each_word for each_word in ko if each_word not in stopwords]\n",
        "ko"
      ]
    },
    {
      "cell_type": "code",
      "source": [
        "import matplotlib.pyplot as plt\n",
        "\n",
        "plt.rc('font', family='NanumBarunGothic')"
      ],
      "metadata": {
        "id": "MC9rhvvZU2B-"
      },
      "id": "MC9rhvvZU2B-",
      "execution_count": 13,
      "outputs": []
    },
    {
      "cell_type": "code",
      "execution_count": 14,
      "id": "316b56f6",
      "metadata": {
        "colab": {
          "base_uri": "https://localhost:8080/",
          "height": 414
        },
        "id": "316b56f6",
        "outputId": "691e290f-ab99-4a10-d1a4-f091fd27f707"
      },
      "outputs": [
        {
          "output_type": "display_data",
          "data": {
            "text/plain": [
              "<Figure size 864x432 with 1 Axes>"
            ],
            "image/png": "[encoded data removed]"
          },
          "metadata": {
            "needs_background": "light"
          }
        }
      ],
      "source": [
        "ko = nltk.Text(ko, name='의안 제1809894호')\n",
        "\n",
        "plt.figure(figsize=(12,6))\n",
        "ko.plot(50)\n",
        "plt.show()"
      ]
    },
    {
      "cell_type": "code",
      "execution_count": 15,
      "id": "c32dfa3e",
      "metadata": {
        "colab": {
          "base_uri": "https://localhost:8080/",
          "height": 366
        },
        "id": "c32dfa3e",
        "outputId": "0e447247-63f4-428b-f6a6-640498f75b9b"
      },
      "outputs": [
        {
          "output_type": "display_data",
          "data": {
            "text/plain": [
              "<Figure size 864x576 with 1 Axes>"
            ],
            "image/png": "[encoded data removed]"
          },
          "metadata": {
            "needs_background": "light"
          }
        }
      ],
      "source": [
        "data = ko.vocab().most_common(30) # 최빈도 단어 30개 추출\n",
        "\n",
        "wordcloud = WordCloud(font_path='Library/Fonts/NanumBarunGothic',\n",
        "                     background_color='white').generate_from_frequencies(dict(data))\n",
        "\n",
        "plt.figure(figsize=(12,8))\n",
        "plt.imshow(wordcloud)\n",
        "plt.axis('off')\n",
        "#plt.savefig('wordcloud.jpg') 사진으로 저장\n",
        "plt.show()"
      ]
    },
    {
      "cell_type": "code",
      "execution_count": 16,
      "id": "3d3c2aaf",
      "metadata": {
        "id": "3d3c2aaf"
      },
      "outputs": [],
      "source": [
        "from PIL import Image\n",
        "import numpy as np"
      ]
    },
    {
      "cell_type": "code",
      "source": [
        "from google.colab import files\n",
        "files.upload()"
      ],
      "metadata": {
        "colab": {
          "resources": {
            "http://localhost:8080/nbextensions/google.colab/files.js": {
              "data": "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",
              "ok": true,
              "headers": [
                [
                  "content-type",
                  "application/javascript"
                ]
              ],
              "status": 200,
              "status_text": ""
            }
          },
          "base_uri": "https://localhost:8080/",
          "height": 1000
        },
        "id": "zcysapSmXRdN",
        "outputId": "2a93b683-a7ee-484e-bbd2-a16862008b67"
      },
      "id": "zcysapSmXRdN",
      "execution_count": 26,
      "outputs": [
        {
          "output_type": "display_data",
          "data": {
            "text/plain": [
              "<IPython.core.display.HTML object>"
            ],
            "text/html": [
              "\n",
              "     <input type=\"file\" id=\"files-60d6f618-d99f-4afd-8b06-da35dcb8632c\" name=\"files[]\" multiple disabled\n",
              "        style=\"border:none\" />\n",
              "     <output id=\"result-60d6f618-d99f-4afd-8b06-da35dcb8632c\">\n",
              "      Upload widget is only available when the cell has been executed in the\n",
              "      current browser session. Please rerun this cell to enable.\n",
              "      </output>\n",
              "      <script src=\"/nbextensions/google.colab/files.js\"></script> "
            ]
          },
          "metadata": {}
        },
        {
          "output_type": "stream",
          "name": "stdout",
          "text": [
            "Saving 전구.png to 전구.png\n"
          ]
        },
        {
          "output_type": "execute_result",
          "data": {
            "text/plain": [
              "{'전구.png': b'\\xff\\xd8\\xff\\xe0\\x00\\x10JFIF\\x00\\x01\\x01\\x00\\x00\\x01\\x00\\x01\\x00\\x00\\xff\\xdb\\x00\\x84\\x00\\t\\x06\\x07\\x12\\x13\\x12\\x15\\x13\\x13\\x10\\x15\\x15\\x14\\x17\\x15\\x15\\x17\\x15\\x18\\x17\\x15\\x0f\\x17\\x1a\\x17\\x18\\x15\\x15\\x17\\x16\\x15\\x18\\x18\\x15\\x18\\x1d( \\x18\\x1b%\\x1d\\x15\\x15!1\"%)-...\\x17\\x1f383-7(-.+\\x01\\n\\n\\n\\x0e\\r\\x0e\\x1b\\x10\\x10\\x1b-% &/-----+--------0--+--------5-------------------/--\\xff\\xc0\\x00\\x11\\x08\\x00\\xe1\\x00\\xe1\\x03\\x01\"\\x00\\x02\\x11\\x01\\x03\\x11\\x01\\xff\\xc4\\x00\\x1b\\x00\\x01\\x00\\x02\\x03\\x01\\x01\\x00\\x00\\x00\\x00\\x00\\x00\\x00\\x00\\x00\\x00\\x00\\x01\\x05\\x02\\x04\\x06\\x03\\x07\\xff\\xc4\\x00:\\x10\\x00\\x01\\x02\\x04\\x04\\x04\\x03\\x07\\x02\\x05\\x04\\x03\\x00\\x00\\x00\\x00\\x01\\x001\\x02\\x11!a\\x03\\x04Aq\\x05\\x12Q\\xb1\\x81\\x91\\xa1\\x06\\x13\"\\xc1\\xd1\\xe1\\xf02\\xf1\\x15BRSb\\x143r\\x82\\x07#C\\xff\\xc4\\x00\\x1a\\x01\\x01\\x00\\x02\\x03\\x01\\x00\\x00\\x00\\x00\\x00\\x00\\x00\\x00\\x00\\x00\\x00\\x00\\x03\\x04\\x01\\x02\\x05\\x06\\xff\\xc4\\x002\\x11\\x00\\x02\\x01\\x02\\x03\\x05\\x08\\x01\\x04\\x02\\x03\\x00\\x00\\x00\\x00\\x00\\x00\\x01\\x02\\x03\\x11\\x04!1\\x05\\x12AQ\\xf0\"aq\\x81\\x91\\xa1\\xb1\\xc1\\xd1\\x132\\xb2\\xe1#\\xc2\\x14B\\x82\\xff\\xda\\x00\\x0c\\x03\\x01\\x00\\x02\\x11\\x03\\x11\\x00?\\x00\\xfbzO\\xa2\\x1e\\x8a,\\x10\\x02t\\nI\\xd3U\\x8bP:\\x96\\xdd\\x00&[\\xa9&J\\x1bu\\rR\\xe8\\x0c\\xa7\\'I\\xeaT\\\\\\xa5\\xca\\x00:\\x95 \\xf9(}\\x91\\xf6\\xee\\x80\\x90g\\xb2\\x89\\xcfd}\\x92\\xc1\\x013\\xe8\\xb9\\xee/?zk\\xa0\\xf0\\x12\\xfb\\x15\\xd0X*^=\\x0c\\xa2\\x84\\x8df<\\x8f\\xddr\\xb6\\xcc7\\xb0\\xb7\\xe4\\xd3\\xfa\\xfb,\\xe1\\x1d\\xaay\\x15\\xf8s\\xe6\\x00\\x1a\\x99J\\xd3+\\xab\\'\\xcds\\\\6\\t\\xe2B<|\\xaa\\xbaF\\xb9Pl(Z\\x94\\xe5\\xcd\\xdb\\xd1_\\xfd\\x8d\\xf1\\xaf\\xb4\\x90&[\\xa9\\x9c\\x9db\\xd5.\\xa6\\xe5w\\nd\\xcfR\\xa0u)r\\xa1\\xeaY\\x01\\x90(\\x0c\\xf6P\\xfbwG\\xd9\\x01 \\xcfd\\x9fE\\x06\\xb4\\t`\\x80\\x13\\xa0Bt\\x08\\xd4\\x08\\xdb\\xa0$\\x9f53X\\xb5\\xca\\n;\\xa02DD\\x06$\\xe8\\x145\\x03\\xac\\x89\\xe8\\xea\\x1bt\\x01\\xb7F\\xdd\\x1bu\\rR\\xe8\\x03T\\xba\\x9b\\x94\\xb9Z\\x1cG;\\xc9A\\xfa\\x8bXu7QV\\xad\\n0s\\x9b\\xb2]Yw\\x9bB\\x0en\\xc8\\xdd\\xe6\\x13\\xa9\\x13\\x15\\x94\\xda\\xf2Y>\\xcb\\x96\\xc2\\xc6\\x88E\\xcf:\\xceu\\xd7\\xac\\xd7I\\x96\\xc7\\x18\\x90\\x88\\x83|\\xf5T\\xf0;F8\\xa7(\\xda\\xcdp\\xbd\\xf2\\xe7\\xe3\\xcdp&\\xadA\\xd3\\xb3\\xd5\\x1e\\xaf\\xb7t}\\x91\\xf6K\\x05\\xd1+\\x8b\\x04\\xb0\\xfd\\x92\\xc1\\x1a\\x81\\x00j\\x05[\\xc6\\xa0\\xf8\\x01\\x15\"*\\xf8\\x87\\xec\\xac\\x9bu\\rrT8\\x8a*\\xb5)Sn\\xd7]z\\x1b\\xd3\\x9e\\xe4\\x94\\xb9\\x14\\x9c\\x12\\x0f\\x8c\\xc4\\xf2\\x1e\\xa7\\xf0\\xab\\xb6\\xa9u \\x01\\xf9\\xd9.Tx,7\\xfczJ\\x9d\\xef\\xab\\xbe\\x9fo\\xc0\\xcdZ\\x9f\\xa9-\\xe1r\\x97)r\\xa1\\xeaYZ#\\x0fR\\xca_n\\xe8\\xfbwG\\xd9\\x00}\\x961D:\\x80\\x1bO \\xa6(\\xbc\\x00r\\xb9\\xcc\\xfeo\\xdeEO\\xd2(?:\\x95G\\x1f\\x8dXZw\\xb5\\xdb\\xd1|\\xdf\\xc0\\x9a\\x8d\\x17Q\\xdb\\x81\\xd2X#P*\\x8e\\x19\\x9f\\x94\\xb0\\xe2\\xff\\x00\\xa9\\xf9\\x15n\\xdb\\xa9\\xb0\\xb8\\x98b)\\xef\\xc3\\xcdqO\\x93\\xeb3Z\\x94\\xdd9Y\\x86\\xdd\\x1a\\xe5\\x1a\\xe5CT\\xba\\xb0F\\x1a\\xa5\\xd4\\x81\\xa9K\\x94\\x03R\\x80\\xc9\\x12h\\x80\\xc4\\x99n\\x8d\\xba\\x92d\\xb1j\\x97@\\x1a\\xa5\\xd4\\xdc\\xa5\\xca\\\\\\xa0\\x03\\xa9Z9\\xfc\\x80\\xc4\\xf8\\xa7(\\xb4\\xe9\\xe2\\xb7\\x9fd}\\xbb\\xa8\\xabQ\\x85h8M]\\x1bBn\\x0e\\xf19\\\\l\\x18\\xa12\\x88K\\xe7\\xf6[<77\\xc9\\x14\\x8f\\xe8/\\xf5W\\x99\\x8c\\x18c\\x1c\\xa4S\\xaf\\xd0\\xaaln\\x15\\x1f4\\xa0\\x91\\x87\\xad\\x04\\xbf,\\xbc\\xe5m\\x9d\\x88\\xc2\\xd4Uhv\\x92ys]\\xcdq\\xbf\\x16\\xbc\\xed\\xa9~5\\xe1V;\\xb3\\xc8\\xbd\\x9c\\xe8\\x19M\\x87\\xec\\xbc\\xf0p\\xf9a\\x10\\x82\\xc0Uy\\xe6\\xb3p\\xe1\\x89<]>ezI\\xd5\\x8c!\\xbf<\\x97\\xc7\\xe4\\xe7\\xa8\\xb6\\xec\\x8d\\x86\\xa0\\xfc\\xb9Z\\xb8\\xd9\\xf8!\\xa0\\xf8\\x8d\\xbe\\xaa\\xaf1\\x99\\x8a\\'>\\x1a(\\xc2\\xcb\\xc4Xx\\xae%m\\xaf9=\\xda\\x11\\xf3y\\xbfO\\xcd\\xfc\\x0bq\\xc3\\xa4\\xaf6mE\\xc4\\xe2\\xd2\\x11?\\x12\\xbc\\x8e{\\x11\\xf9\\xbd\\x02\\xf5\\x87\\x87HL\\xc5[\\x05\\xa7\\x8b\\x84a\\'\\x99\\xd5*\\xd5\\xf1\\x89^r\\x97\\x93\\xb7\\xf1\\xb1$#I\\xe5\\x14\\xba\\xf1=\\x86{\\x11\\xcc^\\x90\\xfd\\x17\\xa4\\x1cF7\\x88\\x03\\xe8\\xb4\\xeeT\\xba\\x868\\xccDt\\xa9/[\\xfc\\xdc\\xdd\\xd2\\x83\\xe0\\x8bL.#\\x0c_\\xa8r\\xfa\\x85\\xb9\\x04B*\\x831\\xdds\\xcf\\xb2\\xcb\\x0b\\x16 ~\\x13/\\x9a\\xbfClT\\x8b\\xb5Uu\\xcdd\\xff\\x00\\x0f\\xd8\\x86xe\\xff\\x00S\\xa1}\\x92\\xc1i\\xe53\\xc2?\\x84\\xd0\\xf7\\xda\\xebr\\xc1w\\xa8\\xd6\\x85h\\xefA\\xddu\\xa9RQqveG\\x18\\xce\\x7f\\xf3\\x87\\xfe\\xc7\\xe4\\xaa\\x80\\xd0\\t\\x95a\\x8f\\xc3#\\xe7\"\\x19\\x10ffK}\\xd5\\x96O\\'\\x0e\\x10\\xa5b.K\\xfe\\xcb\\xcfO\\x05\\x89\\xc6b%*\\x8bu\\'l\\xf9--\\xcf\\xc7B\\xfa\\xadN\\x954\\xa3\\x9b\\xebSO!\\xc39e\\x14n\\xe2\\x1f\\x99*\\xd9\\xaeQ\\xaeT5K\\xae\\xf6\\x1f\\rO\\x0f\\r\\xdak\\xf2\\xfcz\\xeeE\\x1a\\x95%7y\\x06\\xa9u7)r\\x97*\\xc1\\xa0\\xb9R+U\\x8b\\xd4\\xb2\\x91]\\xbb\\xa03DD\\x06&\\x95Qr\\xa4\\xf5*.P\\x0b\\x94}\\x91\\xf6G\\xdb\\xba\\x00\\xfbwG\\xd9\\x1fd\\xb0@,\\x12\\xc1,\\x17\\x96c\\x18A\\t?\\x93Z\\xcaJ)\\xcaZ#)]\\xd9\\x1e9\\xec\\xd7 \\xe5\\x86\\xb1\\x1fK\\x95PfN\\xa6#\\xea\\xa68\\x893x\\x8a\\xb3\\xcae\\x84\\x02f\\xb1\\x1f\\xc9\\x05\\xe6*\\xd5\\x9e:\\xaf(\\xad;\\xbf\\xb6]IQ\\x8f\\x7f^\\xc7\\x9e_&!\\xacU\\x8b\\xa2\\xdc\\x14\\xfc\\xf4\\x0b\\x18\\xe3\\x10\\x8eh\\x8f\\xe7@\\xabq\\xf3\\x91\\x1b\\x0fU<\\xa7K\\x0f\\x1b/N/\\xc4\\x89)\\xd5we\\x86&<0\\xd6(\\x84\\xfa}\\x95^g\\x17\\x9a.f\\x1a/;\\x94u\\xcf\\xad\\x8a\\x95UkY\\x16i\\xd2P\\xcc:\\xc5\\xf6G\\xd9K\\xec\\xab\\x12\\x87\\xd9M\\x82X%\\x82\\x03\\x1b\\x05g\\x90\\xce\\x7f!}\\x0f\\xd6\\xea\\xba\\xc1\\x1bu>\\x1b\\x13<<\\xf7\\xe3\\xe6\\xb8>\\xb8>\\x1e\\xa8\\xd2\\xa4\\x14\\xd5\\x99\\xd16\\xe8\\xd7+S!\\x98\\xe6\\x86\\xb5\\x88=\\xfa\\x15\\xb6\\xd5.\\xbd\\x85*\\xb1\\xab\\x058\\xe8\\xcel\\xa2\\xe2\\xec\\xc8j\\x97Sr\\x97)r\\xa45\\x17*\\x1e\\xa5\\x91\\xeaYK\\xed\\xdd\\x00}\\xbb\\xa4\\xe7\\xb2>\\xdd\\xd4\\xcf\\xa2\\x03$Q$@bF\\xa5\\x1fe$y(}\\xbb\\xa0\\x0f\\xb7t}\\x91\\xf6K\\x04\\x02\\xc1,\\x12\\xc3\\xf6F\\xa0@\\x1a\\x81Tq<i\\xc5\\xca4\\xf5:\\xabLH\\xf9a\\'Z\\x95\\xcf\\x93\\xe2O\\xa9\\\\]\\xb1_v\\x11\\xa6\\xb8\\xe6\\xfc\\x17\\xf7\\xf0Z\\xc3B\\xed\\xcb\\x91\\xb9\\xc3\\xb0\\x7f\\x98\\xd7\\xa6\\xea\\xc2\"!\\x13+\\x1c\\x1c>X@\\xd6KS\\x89b\\xb0\\xf1? \\xab\\xaba\\xe8\\xe7\\xaf\\xcb}z#\\x0f\\xfc\\x93\\xebCW3\\x8eb3-\\xa0\\xe9\\xf7^w)r\\x8e\\xb8\\xf2\\x93\\x93\\xbb\\xd4\\xba\\x92J\\xc8:\\xc5\\xf6G\\xd9K\\xec\\xb0d>\\xcal\\x14X)\\xb0@,\\x12\\xc1,\\x146\\xe8\\x03n\\xa1\\xb7F\\xddKn\\x80\\xf5\\xca\\xe3rD\"\\xf0;+\\xe1\\xd4\\xaer\\xe5]p\\xecNh\\x01:~v\\x92\\xeelj\\xf9\\xca\\x93\\xf1_\\x7f^\\xe5LT4\\x91\\xb3r\\xa1\\xeaY\\x1e\\xa5\\x94\\xbe\\xdd\\xd7|\\xa6\\x1fn\\xe8\\xfbwG\\xdb\\xba\\x87\\xa0d\\x01\\xe8\\x19L\\xf4\\t`\\xa6\\xc1\\x012DD\\x04\\x11=\\x94>\\xcaMvQ`\\x80\\xf2\\xc4\\xccC\\t\\x91\\x88\\x05\\x94\\x18\\x90\\x9aBA\\xd8\\x85G\\xc6\\x7f\\xdd\\x90\\xe8\\x16\\x8b3\\xae\\r}\\xb1*5\\xa5Oq4\\x9d\\xb5\\xb7\\xd3.\\xc3\\x08\\xa5\\x04\\xef\\xafq\\xd6\\xb5\\x026\\xeb\\x97\\x835\\x1c-\\x1c^e\\\\p\\x9c\\xc4QBy\\xaaA\\x15\\xa5g\\xa2\\xb5\\x85\\xda\\xb4\\xf1\\x15\\x15=\\xd6\\x9b\\xf4\\xcb\\xdf\\xd8\\x8e\\xae\\x1aP\\x8e\\xf5\\xcfn\\'\\x14\\xb0\\xcfR@\\xf9\\xfc\\x95VT|p\\xcf\\xaf\\xe0V\\\\V\\x90\\t\\xbf0\\xf9\\xaa\\x90e]t\\xb2\\xe7mY[\\x14\\xaf\\xc1/\\x96\\xc9h/\\xf1\\xf8\\xdc\\xbd\\xb9T\\xd9\\x98\\xa7\\x19\\'\\xad<(\\xbdNv2+!\\xe0\\xb5\\xddV\\xc5bcQ%\\x13j4\\x9cn\\xd9\\xa7\\x9f\\xcd\\xf2\\x01I\\xcer\\x9bS\\xaf\\x9a\\xf3\\xcbq(c\\xa4_\\x0fc\\xe3\\xa2\\xcb\\x8basA?\\xe93\\xf9\\x15K\\x04\\x06# \\'\\xf6\\\\\\xb9\\xceQ\\x96GN\\x8d(N\\x9ez\\xf3:g\\xd9kgs\\x82\\x01\\'=\\x15F\\x06r8(\\r:\\x1d6\\xe8\\xa3\\x0b\\n,H\\xa4*u\\'M\\xd1\\xd6\\xba\\xb4Vaal\\xef7\\x91g\\x93\\xe2\"#\\xca@\\x84\\xe8t\\xfd\\xd5\\x85\\x82\\xa0\\xce\\xe4\\x8e\\x1bTu\\xfa\\xa89\\xfcN^^o\\x1dN\\xe5\\x15V\\xb2\\x90\\x96\\x1dN\\xd2\\xa7\\xa1m\\x99\\xce\\xc1\\x87I\\xce.\\x83\\xe7\\xd1xd\\xb8\\x89\\x8a.S\\x08\\xac\\xe5)\\xe9Z\\xaa\\x83\\x01\\x00\\x12\\rZ\\xea\\xc3\\x82\\xe1V(\\xce\\xc3\\xc5\\xff\\x00.\\xb1\\x1a\\x92\\x94\\xacft!\\nm\\xeb\\xf9-\\xdbt\\xb9Sr\\x97*\\xc1H\\\\\\xad\\xfe\\r\\x89>q\\xa0\\x97\\xcej\\xb68\\xb5\\xf2[|\\n\\xb1\\xc5\\xd2^j\\xe6\\xce\\x93X\\xb8%\\xdf\\xfcY\\x1dh\\xde\\x93e\\xd3\\xed\\xdd\\x1fn\\xeb\\xc3;\\x8aD\\x11D4\\x1f9*\\x08\\xf3\\xb8\\x91S\\x9c\\xca\\xc6]\\x97\\x7f\\x19\\xb4\\xa9\\xe1\\xa4\\xa1$\\xdbj\\xf9[\\xf3\\xf4S\\xa5\\x87\\x95Ett\\x91D:\\x80:\\xb2\\xc2\\x0c\\xcc\\x11\\x1eQ\\x10&\\xd2+\\x97&kw\\x83\\xff\\x00\\xba\\x00\\xe8{*4v\\xcc\\xaa\\xd6\\x8d5\\x04\\x93ikw\\xf0\\x89\\xa7\\x84Q\\x8bw\\xd3\\xae\\xf3\\xa0\\xb0AJj\\xa1\\xa8\\x1dH\\xa6\\xeb\\xbcR3E\\x08\\x80\\x83\\xd1E\\x82\\x13\\xa0F\\xa0@Wg\\xf8q\\x8e)\\xc3\\x10\\x1dg?5\\x84\\x1c\\x1a\\x10\\xf1\\x92v\\x03\\xea\\xad\\x1btm\\xd5)l\\xec4\\xaa:\\x92\\x8d\\xdb\\xcf6\\xed\\xe9{\\x13*\\xf5\\x12\\xddL\\xd2\\x83\\x86aC\\xfc\\xa4\\x9b\\x93\\xf2[XXp\\xc2(\\x00Y\\xb5K\\xa5\\xca\\x9e\\x9e\\x1e\\x95/\\xd9\\x14\\xbc\\x12_\\x04r\\x9c\\xa5\\xab4\\xf8\\xa4?\\x04\\xce\\x84xh\\xaa.U\\xe6o\\x0f\\x9a\\x08\\xa7\\xd2c\\xc2\\xaa\\x8d\\xf6\\\\\\r\\xb1\\x0bWR\\xe6\\xbe\\x1b\\xfe\\x8b\\xb8W\\xd9h\\x97P\\xfb#\\xec\\xa1\\xf6\\\\\\x92\\xc1\\x11\\xc3\\xcc\\x08\\xd0\\x89\\x15\\xcfC8#\\xff\\x00\\x8cU\\xf05]%\\x82\\xa3\\xe2\\xf8R\\x8ecQ\\xea(~J*\\xcb-\\xe5\\xc0\\xb5\\x85\\x97i\\xc5\\xf1,\\xb3\\x19H#\\xd2\\xbdG\\xe5W\\xae\\x06\\x0c0\\x0eXG\\xe7R\\xbc8f,\\xf0\\xc0\\xd4P\\xf87\\xa4\\x96\\xdbn\\xb7\\x8d\\x9fj\\xc4\\x13\\xde]\\x86\\xf2F1B%)Nk[\\x0f\\x87a\\xc2g\"N\\x80\\xd7\\xf3\\xc5m\\xb6\\xeb\\x0cH\\xc4 \\xc4t\\x04\\xf9h\\xb2\\xd2z\\x98R\\x92\\xc9=J^+\\x8b8\\xcd\\x84\\xbe\\xbf\\x96V\\x9c;\\x0b\\x97\\x0cM\\xcdO\\x8f\\xdaJ\\x9b\\x02\\x0ex\\xc4\\xf55\\xee~k\\xa2\\x1dJ\\x8a\\x96m\\xc8\\xb3\\x88\\xec\\xc60]u\\x997+\\x1b\\x96K\\x96^8\\x91\\xf3m\\xddJ\\xdd\\x8a\\xa9\\\\\\x88\\xe2\\xe66V|\\x06\\x19\\x98\\xce\\x94\\x1d\\xfe\\x8a\\xa9\\xf6W\\xdc\\x1b\\x0eXs\\xeaO\\xa5\\x07esd\\xd3s\\xc5\\'\\xc97\\xedo\\xb3LK\\xb5&\\x8d\\xe8\\x84\\xe9\\xa3\\x1f\\xa2\\xd4\\x8f\\x86\\xe1\\x1a\\x08%\\xb1\"^\\x0br\\xc1,\\x17\\xac\\xa9F\\x9dEi\\xc5?\\x14\\x9f\\xc9\\xcc\\x8c\\xa5\\x1d\\x19Y\\x1f\\x07\\x85\\xa1\\x88\\x8d\\xea\\xa7%\\xc3\\x8e\\x1cS\\xe6\\x9d\\x0e\\x87^\\xaa\\xc9\\xa8\\x1d\\x1a\\xe5V[;\\r\\x19\\xa9\\xc66k<\\x9b\\xf8\\xbd\\xbd\\x89\\x1dz\\x8dY\\xb0\\xd7((\\xee\\xa1\\xaa]H\\x1a\\x95t\\x84\\xc9\\x11\\x10\\x18\\x93\\xa0F\\xddI>j\\x1bt\\x01\\xb7P\\xd5.\\x8dR\\xeanP\\x0b\\x94\\xb9K\\x95\\x0fR\\xc8\\x03\\xd4\\xb2\\xa3\\xce`\\xca24qpU\\xeb\\xed\\xddi\\xf1,\\xb9\\xc4\\x87\\xe1p\\xd7\\xea\\x17?ia\\x9dj=\\x95\\xda\\x8ek\\xedu\\xc5\"j\\x13\\xdd\\x96z2\\xa1\\xf6K\\x05\\xe41t^\\x82 \\xc1y4\\xd3\\xd0\\xe94\\xd1\\x95\\x82\\xaf\\xe3\\x18s\\x82a\\xc1\\xf44?%a`\\xbc\\xb1\\xe0\\x9c&\\x1e\\xa0\\xa4\\x95\\xd3Fa-\\xd9&V\\xf0\\\\I\\x18\\xa1\\xea\\'\\xe4\\xfd\\xd5\\xabn\\xa821\\xf2\\xe2Bo/:.\\x81\\xb7Q\\xd1w\\x89>*6\\x9d\\xf9\\x86\\xddh\\xf1lIa\\xdc\\x90<\\x1c\\xad\\xfb\\x95M\\xc6q\\'\\x10\\x1d\\x04\\xfc\\xff\\x00e\\xb5Gh\\xb3J\\x11\\xbdD8.\\x14\\xe21\\x1d\\x04\\x87\\x8f\\xed\\xea\\xad\\xa2\\x8bR\\xab\\xf8m \\xdc\\x93\\xf2\\xf9-\\x97ZA\\xda)\\x1bV\\xedTl\\x98\\xe3\\xe6\\xd9b\\xfb#\\xec\\x8b\\x1753\\xc0\\xc21\\xc4!\\x1a\\x9f\\xddu\\x10B\\x00\\x10\\xc3@\\x07\\x92\\xaf\\xe19NQ\\xccEO\\xa0\\xfa\\x95e`\\xbdf\\xc8\\xc2:4\\xb7\\xe5\\xfb\\xa5\\xec\\xb8y\\xbd_\\x91\\xcc\\xc5U\\xdf\\x95\\x96\\x88X(j\\x07F\\xa0u-r\\xba\\xc5P\\xd7*\\x1a\\xa5\\xd1\\xaa]M\\xca\\x01r\\x80jR\\xe5H\\xadP\\x134I\\xa2\\x03\\x12e\\xba\\x86\\xa9u\\x91\\xa5T\\\\\\xa0\\x17)r\\x97*\\x1e\\xa5\\x90\\x07\\xa9e/\\xb7t}\\xbb\\xa3\\xec\\x80>\\xc9`\\x86\\xb4\\x0bS\\x1f\\x88\\xe1\\xc3\\x17$\\xeb\\xa9\\x02b\\x1d\\xd4u*\\xc2\\x92\\xde\\x9bIw\\xe4m\\x18\\xb9;$W\\xf1|\\xa7)\\xe6\\x84P\\xfe\\xab~\\xea\\xb6\\xc1uQ\\x00D\\x9c\\x11\\xe8u\\\\\\xdeo\\x04\\xe1\\xc4a~\\x97\\x1dW\\x9a\\xda\\xf8%J\\x7f\\xab\\r%\\xafs\\xfe\\xfe|\\x8e\\x86\\x16\\xb6\\xf2\\xddz\\xaf\\x83\\xccDC\\x15#\\x10\\x8b\\x95\\x83n\\x8c\\xb8\\xf7|\\x0bVE6`r\\xc7\\x17Y\\xfd\\xc2\\xba\\x87\\x14\\x919\\xe8\\xaa8\\x842\\x8c\\x93\\xa8\\x1fO\\x92\\xb0\\xca\\x19\\xc1\\t=;QG\\x07f\\xcb5\\x92\\x94\"\\xfa\\xeb#\\xdc\\x92\\xe4\\xaal\\xe4S\\x8e#~\\xd4W\\x0e\\xa9G\\xc5\\x15\\x8c]\\xcaT3\\x86Y\\xb6[\\xe0\\xc3\\xf0\\x81\\xa0\\x01f\\xfb#\\xec\\xa5nV\\xb8[\\xdc/)\\xcefG\\xc2=l\\xb5r\\xd8\\x068\\x84\\x10\\xf8\\x9e\\x9dWK\\x85\\x86!\\x02\\x18C~L\\xae\\xbe\\xca\\xc0\\xfe\\xb4\\xff\\x00Rk\\xb2\\xbd\\xdf\\xe1q\\xfc\\\\\\xab\\x89\\xad\\xb8\\xb7V\\xac\\xce\\xc1\\x1a\\x81\\xd6\\xa6\\'\\x10\\xc3\\x86.I\\xd7S\\xa07+l\\x11\\xbc\\xfdW\\xa7\\x85hTmE\\xa7ms\\xd3\\xae\\xb49\\xae.6\\xba\\r\\xba\\x86\\xa9u-R\\xe9r\\xa40.R\\xe5.T=K \\x0fR\\xcb!]\\x94>\\xdd\\xd2s\\xdb\\xba\\x034D@bz\\x95\\x17(F\\xa5C\\xd4\\xb2\\x00\\xf5,\\xa5\\xf6\\xee\\x8f\\xb7t}\\x90\\x07\\xd9a\\x8b\\x88\\x00\\x992\\x01\\xcf\\xc8,\\xec\\x15?\\x1b\\xc2\\x8a`\\x8f\\xd2\\x04\\xbf\\xe3\\xfb\\xaa\\xb8\\xca\\xf2\\xa1E\\xd4\\x8con\\xae\\xfb\\x97VY\\x92R\\x82\\x9c\\xd4[\\xb1\\xe7\\x9d\\xe2f/\\x87\\x0f\\xe1\\x87S\\xa9\\xfa-\\x1c\\x0c#\\x14B\\x08\\\\\\xfau%a`\\xaf\\xb8^S\\xdd\\xc32>(\\x9e\\xcb\\xcc\\xd0\\xa7WhW\\xbdG\\x92\\xd7\\xb9r\\\\\\xaf\\xc3\\xd5\\xb7c\\xa39F\\x84;&\\xde\\x0e\\x18\\x82\\x11\\x08\\xac\\xa9\\xf7*\\xbf\\x8e`\\xfc\"-C\\xec~\\xea\\xd1\\xaeV\\xa7\\x15\\x1f\\xfa\\xa2\\x9b\\xd3\\xb8^\\x93\\x1dJ2\\xc2\\xce6\\xc9E\\xb5\\xff\\x00\\x95u\\xf0s\\xe8\\xc9\\xaa\\x89\\xf7\\xfc\\x9c\\xf3(\\xb9K\\x94\\xb9^\\x1f~<\\xce\\xc5\\x99Y\\xc4\\xc7\\xc4\\t\\xe9\\xf3[\\\\>\\xb0\\x0f\\x1e\\xeb\\xc3\\x8a\\n\\xc2lW\\xbf\\r\\xac\\x16\\x99Q\\xa9\\xc7}\\xe6Z\\x92\\x7f\\xa2\\xba\\xe6lDhN\\x92T\\xf9A8\\xe1\\xe90\\xad\\xb1\\xbfL]${*\\xbc\\xa0\\xf8\\xe1\\xfc\\xd0\\xa4\\xe7\\x1b\\xa5qA=\\xc9u\\xc0\\xb8Q`\\xa6\\xc1,\\x14\\x8eq\\xe6U\\xb3.\\xf8.\\x14\\xa0\\xe6\\xd6/@)\\xdej\\xc5\\xa8\\x1dxd\\xc4\\xa0\\x84\\x070\\xc2|\\xc2\\xf7k\\x95\\xef0\\x94\\xd5*0\\x8a\\xe0\\x97\\xab\\xcd\\xbf6\\xeeq\\xaa\\xc9\\xcam\\xb3\\x9d\\xe2YS\\x87\\x1fQ\\x14\\xe4{\\x85\\x19<\\xf4Xw\\x1d>\\x9d\\x15\\xe6o.#\\x84\\x82\\xe5\\x8fC\\xa4\\x977\\x89\\x86a$D\\xe2\\x8b\\xcd\\xe3\\xf0\\xf3\\xc1\\xd7U);\\'\\xa5\\xb8>1\\xf0\\xe5\\xcde\\xc0\\xbfBj\\xac7e\\xafY\\x9d&W3\\x0cc\\x98\\x1a\\xf4\\xd4x/{\\x95\\xcep\\xcc(\\xa2\\x8c\\x11I\\x19\\x93\\xd0t\\xf1]\\x13\\xd4\\xb2\\xee\\xec\\xecT\\xf14\\xb7\\xe7\\x1bp\\xbf\\x07\\xe1\\xd5\\xb9wR\\xafMS\\x95\\x93\\x0fR\\xca_n\\xe8\\xfbwG\\xdb\\xba\\xbeB\\x1fn\\xe8\\x0fFP\\xf4\\x0c\\xa6z\\x04\\x06h\\xa2H\\x80\\x82\\x14>\\xdd\\xd4\\x91=\\x94>\\xc8\\x03\\xec\\x86\\xb4\\x08k@\\x96\\x08\\x05\\x82\\x82\\x04\\xa5)\\xcd\\xfe\\xeaZ\\x81\\x1bt\\x05~\\x1f\\x0b\\x86\\x18\\xf9\\x81\\x9e\\xa2\\x13\\xd6\\xf6V\\rr\\x8dr\\xa1\\xaa]CG\\x0fN\\x8aj\\x9a\\xb5\\xf36\\x9c\\xe5?\\xdc\\xc9j\\x97\\\\\\xbf\\xb5Y\\xd8\\xb9\\x86\\x1c\\xe4$\\x0cR\\xd6l6\\xa2\\xea.W?\\xednR\\x1fu\\x169\\xfdP\\x01N\\xa0\\xc4\\x04\\x8d\\xea\\xacGR9hr\\xb2\\xd4\\xa4\\x96\\x8f\\xf1/\\xf0>\\x7fd\\xfe%\\xfe\\x07\\xcf\\xec\\xacoK\\x99\\r\\x91\\xbe\\xfb(\\x8a\\xabG\\xf8\\x9f\\xf8\\x1f?\\xb2\\x83\\xc4\\xb4\\xe4>\\x7fd\\xde\\x973\\x1b\\xab\\x91\\xe3%+\\xc7\\xdf\\xd9=\\xfd\\x96w\\xa5\\xcd\\x8d\\xd5\\xc8\\xf6\\x92\\x89//\\x7fd\\xf7\\xf6M\\xe9s~\\xa2\\xc8\\xe9\\xbd\\x8c\\xceE\\x068\\xc3\\x990\\xc6\\x08#I\\x80b\\x06\\xcd/\\x15\\xde\\xb5K\\xaew\\xd9^\\x0b\\x06\\x1c\\x10f\\t1G\\x1c\\x10\\xc4:B#\\x84\\x19\\x01\\xa9\\xac\\xa6\\xba;\\x95Zn\\xef\"x\\xab!r\\xb4\\xb3\\xb9\\x01\\x88DD\\xc8\\x8bO\\xf0\\xad\\xdb\\x95\\x0fR\\xca\\n\\xd4aZ\\x0e\\x13WD\\x90\\x9b\\x8b\\xbcO<\\x0c\\x01\\x08\\x00\\t\\x01\\xebsu\\xea\\xfbwG\\xdb\\xba>\\xdd\\xd4\\x91\\x8a\\x8a\\xb2\\xd0\\xc3w\\xd4>\\xdd\\xd4=\\x03#\\xd02\\x9b\\x05\\x93\\x02\\xc1M\\x82\\x8b\\x05\"\\x94@J\"  \\x89\\xec\\xa0\\xd6\\x81I\\xe8\\xa2\\xc1\\x00\\xb0F\\xa0F\\xa0F\\xdd\\x00m\\xd1\\xaeQ\\xaeT5K\\xa0\\rR\\xeanR\\xe5.P\\x0b\\x95\\xc8{M\\x9b\\x8e,S\\x01$A\\x0c\\xa4:\\x92\\x01\\x99\\xea\\xeb\\xaez\\x96T~\\xd6e\\xa181b\\xf2\\xfcp\\x80!\\xff\\x00)\\xc4(F\\xa1\\xca\\xda/3Yhrn\\x8e\\xb4?\\xd4\\xe3\\x7fk\\xd2/\\xaa\\x7f\\xaa\\xc6\\xfe\\xd7\\xa4Jb#~j\":\\x05\\xa3\\xfe\\xab\\x1b\\xfb^\\x91(9\\x9cV\\xf7^\\x91 <\\x91x\\xfb\\xc8\\xbf\\xa7\\xba{\\xc8\\xbf\\xa7\\xba\\xc9\\x83\\xd9\\x17\\x8f\\xbc\\x8b\\xfa{\\xa7\\xbc\\x8b\\xfa{\\xa0:\\xefb3\\x91\\x8cS\\x86b&\\x03\\x01\\x88\\x03^R\\x08n\\x93\\x9fe\\xdb\\\\\\xaa?ex~\\x14\\x180bCX\\xe3\\x82\\x13\\x19\\x982$\\x02a\\xb4\\x8e\\x96\\xaa\\xbbz\\x96PI\\xdd\\x93EY\\x07\\xa9e/\\xb7t}\\xbb\\xa3\\xed\\xddjl\\x1fn\\xea\\x1e\\x81\\x91\\xe8\\x19M\\x82\\x01`\\x96\\t`\\xa1\\xa8\\x1d\\x00j\\x07R)\\xba5\\xca\\nn\\x80\\xc9\\x11\\x10\\x18\\x93\\xa0F\\xa0Bt\\x08\\xdb\\xa0\\r\\xba5\\xca5\\xca\\x86\\xa9t\\x01\\xaa]M\\xca\\\\\\xa5\\xca\\x01r\\xa1\\xeaY\\x1e\\xa5\\x94\\xbe\\xdd\\xd0\\x07\\xdb\\xba\\xe4}\\xab\\x8e#\\x8c\\x01\\xfd\"\\x11\\xcb\\xd2\\xae~^\\x0b\\xae}\\xbb\\xad|\\xe6N\\x0cQ\\xcb\\x1c \\x81\\xae\\xa3b\\x19f.\\xcc\\xd6J\\xe8\\xf9\\xf2X,\\xfd\\xa7\\xc9b\\xe5\\xa3\\xf8k\\x85\\x17\\xe9\\x8aM\\xfe1\\x1e\\xbd\\xc7\\x8a\\xa5\\xfe#\\x1d\\xbc\\x94\\xe9\\xdc\\x89\\xab\\x16\\xf6\\n\"eS\\xfcF;y\\'\\xf1\\x18\\xed\\xe4\\x80\\xc9\\x16\\xbf\\xbe)\\xef\\x8d\\x96L\\x1b\\x08\\xb5\\xfd\\xf1\\xb2\\xda\\xe1\\x99l\\\\\\xc6 \\xc3\\x80T\\xb9\\x95!\\x1a\\xc5\\x15\\x90\\x17~\\xc6\\xe3F30\\xc2\\t\\xe5\\x88E\\xce4\\x90\\x04\\x82v2\\xad\\xee\\xbe\\x82\\xfbwU\\xfc+\\x84a`C(!\\xac\\x874E\\xe2\\x97^\\x82\\xc1X>\\xdd\\xd4\\x12wd\\xd1VA\\xf6\\xee\\xa1\\xe8\\x19\\x1e\\x81\\x94\\xd8-M\\x85\\x82X%\\x82\\x86\\xa0t\\x01\\xa8\\x1dK\\\\\\xa3\\\\\\xa3n\\x806\\xe8\\x06\\xa5\\x1a\\xa5\\x00\\xd4\\xa02E(\\x80\\xc4\\x9f5\\r\\xba\\xc8\\xace*\\xea\\x80\\x86\\xa9u7(\\x06\\xa5\\x00\\xd4\\xa0\\x17*\\x1e\\xa5\\x96R\\x9b\\xa8\\x94\\xf6\\xee\\x80>\\xdd\\xd1\\xf6\\xee\\xa4\\xd7d=\\x10\\x18\\xbd\\x03)\\xb0C\\xd0)\\xb0@x\\xe6r\\xf0G\\t\\xc3\\x8a\\x11\\x14$T\\x1f\\xc7\\\\7\\x18\\xf6/\\x12\\x02N\\\\\\xfb\\xc8\\x7f\\xa4\\x90\"\\x1e&\\x91\\x0f#\\xba\\xef\\xa5&t\\x94\\xaeVSh\\xc3I\\x9f\\x18\\xcd\\xe5\\xe3\\xc2\\x8b\\x97\\x12\\x13\\x04R\\x9c\\xa2\\x12$u\\xae\\x94>K\\xcb\\x9cu\\x1ea}\\x0f\\xdb\\x8ff\\xa2\\xcdC\\x0e&\\x1c\\xbd\\xf4\\x13\\x00\\x1a\\x08\\xe15\\xe5\\x9e\\x84\\x1a\\x8d\\xcfZ|\\xab1\\x97\\x8f\\x0e#\\x06$\\x11A\\x10xb\\x04\\x1f\"\\xa6\\x8b\\xba\"j\\xc5\\x978\\xea<\\xc2\\xcb\\x08s\\x10\\x05b$\\x00\\x05I&\\x80\\x01\\xa9T\\xf0\\x89\\x999,>\\xcb\\xbf\\xf6\\x13\\xd9<Hq!\\xcc\\xe3\\xc0`\\x10\\xd7\\x0e\\x03\\xfa\\x89\\x94\\xb9\\xa2\\x1a\\x01\\xa05\\x9dt\\xaed\\xec\\x8c%vxp\\xcfd38\\xa6q\\xc3\\xee\\xa0\\xd4\\xc4\\xfe\\x10\\n\\xf9\\xc9w|\\x1f\\x85a`A\\xcb\\x86(\\xf1D\\x7fTg\\xa9?%a)\\xec\\xa0\\xd7n\\xea\\x17&\\xc9\\x94R\\x0f\\xb7u\\x0f@\\xcaOM\\x10\\xf4\\x0bS\"\\xc1,\\x14\\xd8#2\\x03\\x16\\xa0u-r\\x92\\x95\\xca\\x01-\\xd0\\x06\\xdd\\x1a\\xa5\\x00\\xd4\\xa0\\x1a\\x94\\x02\\xe5\\x05jRS\\xa9R\\xfb &h\\xa5\\x10\\x10\\x88\\x88\\x02\\x14D\\x04\\xa2\"\\x00\\xa0\" \\x01\\x11\\x10\\x12\\xa1\\x11\\x00\\\\\\xdf\\xb7?\\xec\\x8f\\x14E\\x95\\xa9\\x87\\xa1I\\xff\\x00\\x8f\\x7fY]\\xf9DY\\x9e\\xa6#\\xa1(\\x88\\xb56\\n\\x02\"\\x00\\x88\\x88\\x02\" \\nQ\\x10\\x10T\\xa2 !\\x11\\x10\\x1f\\xff\\xd9'}"
            ]
          },
          "metadata": {},
          "execution_count": 26
        }
      ]
    },
    {
      "cell_type": "code",
      "source": [
        "ls"
      ],
      "metadata": {
        "colab": {
          "base_uri": "https://localhost:8080/"
        },
        "id": "0AlZSoMQXWgA",
        "outputId": "62021b36-4cf0-4ba9-cb10-c9229884b8a4"
      },
      "id": "0AlZSoMQXWgA",
      "execution_count": 18,
      "outputs": [
        {
          "output_type": "stream",
          "name": "stdout",
          "text": [
            "balloon.png  \u001b[0m\u001b[01;34msample_data\u001b[0m/\n"
          ]
        }
      ]
    },
    {
      "cell_type": "code",
      "execution_count": 27,
      "id": "b24f117a",
      "metadata": {
        "colab": {
          "base_uri": "https://localhost:8080/"
        },
        "id": "b24f117a",
        "outputId": "4f07a6c6-605d-4613-ac4f-c3d57891d6f8"
      },
      "outputs": [
        {
          "output_type": "execute_result",
          "data": {
            "text/plain": [
              "array([[[253, 253, 253],\n",
              "        [253, 253, 253],\n",
              "        [253, 253, 253],\n",
              "        ...,\n",
              "        [255, 255, 255],\n",
              "        [255, 255, 255],\n",
              "        [254, 254, 254]],\n",
              "\n",
              "       [[253, 253, 253],\n",
              "        [253, 253, 253],\n",
              "        [253, 253, 253],\n",
              "        ...,\n",
              "        [255, 255, 255],\n",
              "        [255, 255, 255],\n",
              "        [254, 254, 254]],\n",
              "\n",
              "       [[253, 253, 253],\n",
              "        [253, 253, 253],\n",
              "        [253, 253, 253],\n",
              "        ...,\n",
              "        [255, 255, 255],\n",
              "        [255, 255, 255],\n",
              "        [254, 254, 254]],\n",
              "\n",
              "       ...,\n",
              "\n",
              "       [[255, 255, 255],\n",
              "        [255, 255, 255],\n",
              "        [255, 255, 255],\n",
              "        ...,\n",
              "        [255, 255, 255],\n",
              "        [255, 255, 255],\n",
              "        [255, 255, 255]],\n",
              "\n",
              "       [[255, 255, 255],\n",
              "        [255, 255, 255],\n",
              "        [255, 255, 255],\n",
              "        ...,\n",
              "        [255, 255, 255],\n",
              "        [253, 253, 253],\n",
              "        [255, 255, 255]],\n",
              "\n",
              "       [[254, 254, 254],\n",
              "        [254, 254, 254],\n",
              "        [254, 254, 254],\n",
              "        ...,\n",
              "        [255, 255, 255],\n",
              "        [255, 255, 255],\n",
              "        [254, 254, 254]]], dtype=uint8)"
            ]
          },
          "metadata": {},
          "execution_count": 27
        }
      ],
      "source": [
        "img = Image.open('전구.png') # 이미지 불러옴\n",
        "imgArray = np.array(img) #이미지 픽셀값으로 저장\n",
        "imgArray"
      ]
    },
    {
      "cell_type": "code",
      "execution_count": 28,
      "id": "96f61976",
      "metadata": {
        "colab": {
          "base_uri": "https://localhost:8080/",
          "height": 466
        },
        "id": "96f61976",
        "outputId": "2eda5312-21d0-4c2b-8fa0-67461eb0c737"
      },
      "outputs": [
        {
          "output_type": "display_data",
          "data": {
            "text/plain": [
              "<Figure size 864x576 with 1 Axes>"
            ],
            "image/png": "[encoded data removed]"
          },
          "metadata": {
            "needs_background": "light"
          }
        }
      ],
      "source": [
        "data = ko.vocab().most_common(30)\n",
        "\n",
        "wordcloud = WordCloud(font_path = 'Library/Fonts/NanumBarunGothic.ttf',\n",
        "                      width = 400,\n",
        "                      height = 400,\n",
        "                      max_font_size=200,\n",
        "                      background_color='white',\n",
        "                      colormap='Wistia',\n",
        "                      mask=imgArray).generate_from_frequencies(dict(data))\n",
        "\n",
        "plt.figure(figsize=(12,8))\n",
        "plt.imshow(wordcloud)\n",
        "plt.axis('off')\n",
        "plt.show()"
      ]
    },
    {
      "cell_type": "markdown",
      "id": "baa8e845",
      "metadata": {
        "id": "baa8e845"
      },
      "source": [
        "### 다양한 컬러맵\n",
        "https://matplotlib.org/stable/tutorials/colors/colormaps.html"
      ]
    },
    {
      "cell_type": "code",
      "execution_count": null,
      "id": "622f8c63",
      "metadata": {
        "id": "622f8c63"
      },
      "outputs": [],
      "source": [
        ""
      ]
    }
  ],
  "metadata": {
    "kernelspec": {
      "display_name": "Python 3",
      "language": "python",
      "name": "python3"
    },
    "language_info": {
      "codemirror_mode": {
        "name": "ipython",
        "version": 3
      },
      "file_extension": ".py",
      "mimetype": "text/x-python",
      "name": "python",
      "nbconvert_exporter": "python",
      "pygments_lexer": "ipython3",
      "version": "3.8.8"
    },
    "colab": {
      "name": "3주차 텍스트전처리.ipynb",
      "provenance": [],
      "collapsed_sections": []
    }
  },
  "nbformat": 4,
  "nbformat_minor": 5
}